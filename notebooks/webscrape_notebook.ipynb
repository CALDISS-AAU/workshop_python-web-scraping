{
 "cells": [
  {
   "cell_type": "markdown",
   "metadata": {},
   "source": [
    "# Accessing the web\n",
    "\n",
    "Accessing a website in python can be done using the `requests` library and creating a `response` object.\n",
    "\n",
    "The HTML content can be extracted from the `response` object.\n",
    "\n",
    "Parsing the HTML and extracting specific tags requires addional libraries being set up"
   ]
  },
  {
   "cell_type": "code",
   "execution_count": 1,
   "metadata": {},
   "outputs": [
    {
     "data": {
      "text/plain": [
       "<Response [200]>"
      ]
     },
     "execution_count": 1,
     "metadata": {},
     "output_type": "execute_result"
    }
   ],
   "source": [
    "import requests\n",
    "\n",
    "caldiss_url = 'https://www.en.caldiss.aau.dk/about/'\n",
    "caldiss_get = requests.get(caldiss_url)\n",
    "caldiss_get  #Status code 200 is \"OK\""
   ]
  },
  {
   "cell_type": "markdown",
   "metadata": {},
   "source": [
    "From the `response` object we can extract the HTML."
   ]
  },
  {
   "cell_type": "code",
   "execution_count": 2,
   "metadata": {},
   "outputs": [
    {
     "name": "stdout",
     "output_type": "stream",
     "text": [
      "b'<!DOCTYPE html>\\r\\n<html class=\"no-js\" prefix=\"og: http://ogp.me/ns#\">\\r\\n<head>\\r\\n<meta charset=\"utf-8\" />\\r\\n<meta name=\"viewport\" content=\"width=device-width, initial-scale=1, maximum-scale=1\">\\r\\n\\r\\n\\r\\n<meta name=\"description\" content=\"about\" />\\r\\n<title>About CALDISS</title>\\r\\n\\r\\n<!-- Remove no-js enable html5 elements -->\\r\\n<script type=\"text/javascript\">\\r\\n    //Clear no-js\\r\\n    document.getElementsByTagName(\\'html\\')[0].className = document\\r\\n            .getElementsByTagName(\\'html\\')[0].className.replace(\\'no-js\\', \\'\\');\\r\\n    //Enable html5 elements in IE\\r\\n    \\'article aside footer header nav section time\\'.replace(/\\\\w+/g, function(n) {\\r\\n        document.createElement(n)\\r\\n    });\\r\\n</script>\\r\\n\\r\\n<!-- Google Tag Manager --> <script>(function(w,d,s,l,i){w[l]=w[l]||[];w[l].push({\\'gtm.start\\': new Date().getTime(),event:\\'gtm.js\\'});var f=d.getElementsByTagName(s)[0], j=d.createElement(s),dl=l!=\\'dataLayer\\'?\\'&l=\\'+l:\\'\\';j.async=true;j.src= \\'//www.googletagmanager.com/gtm.js?id=\\'+i+dl;f.parentNode.insertBefore(j,f); })(window,document,\\'script\\',\\'dataLayer\\',\\'GTM-MGKZK9C\\');</script> <!-- End Google Tag Manager --><meta name=\"twitter:card\" content=\"summary\" />\\r\\n\\r\\n<script type=\"text/javascript\" src=\"https://fast.fonts.com/jsapi/6ffba2ea-d55c-4389-b794-a04d376df85c.js\"></script>\\r\\n\\r\\n<link rel=\"stylesheet\" type=\"text/css\" href=\"https://www.resources.aau.dk/design2013/resources/css/style.min.css\" />\\r\\n\\r\\n<link rel=\"stylesheet\" type=\"text/css\" href=\"https://www.design2013.aau.dk/colorCss?color1=%2391268F&amp;color2=%23ffffff&amp;color3=%23262626\" />\\r\\n<link rel=\"stylesheet\" type=\"text/css\"\\r\\n        href=\"https://www.design2013.aau.dk/backgroundCss?image=%2FdigitalAssets%2F441%2F441801_jacob-stone-562589-unsplash.jpg\" />\\r\\n<link rel=\"shortcut icon\" type=\"image/vnd.microsoft.ico\" href=\"https://www.resources.aau.dk/design2013/images/aaufavicon.ico?v=2\" />\\r\\n\\n</head>\\r\\n\\r\\n<!--[if lt IE 7]> <body class=\"ie6\"> <![endif]--><!--[if IE 7]><body class=\"ie7\"><![endif]--><!--[if IE 8]><body class=\"ie8\"> <![endif]--><!--[if gt IE 8]><!--><body>\\r\\n\\t<!-- Google Tag Manager --> <noscript><iframe src=\"//www.googletagmanager.com/ns.html?id=GTM-MGKZK9C\" height=\"0\" width=\"0\" style=\"display:none;visibility:hidden\"></iframe></noscript><!-- End Google Tag Manager --><!--<![endif]--><div class=\"bg-img\"></div>\\r\\n\\r\\n    <!-- StickyFooter --><div class=\"stickyFooter\">    \\r\\n        <!-- Service menu --><div id=\"servicemenu\" class=\"wrapper cf\"> \\n <div class=\"servicemenuInner box white\"> \\n  <input type=\"hidden\" value=\"false\" id=\"useOverlay\"> \\n  <nav> \\n   <div class=\"shortCutsWrapper\"> \\n    <button class=\"navbar__toggler hamburger--spin collapsed\" id=\"shortcuthamburger\" type=\"button\" data-toggle=\"collapse\" data-target=\"#shortcutsMeny\" data-parent=\"\" aria-expanded=\"false\"> \\n     <div class=\"hamburger__inner\"> \\n      <span class=\"hamburger__icon\"></span> \\n     </div> </button> \\n    <ul class=\"shortCutDropdown unstyled\" id=\"shortcutsMeny\"> \\n     <li> <style>    .topLink white .link:hover{    color: ;  }</style><a href=\"https://www.en.aau.dk/news\" title=\"News\" class=\"topLink white\">News</a></li> \\n     <li> <style>    .topLink white .link:hover{    color: ;  }</style><a href=\"https://www.en.aau.dk/events\" title=\"Events\" class=\"topLink white\">Events</a></li> \\n     <li> <style>    .topLink white .link:hover{    color: ;  }</style><a href=\"https://www.en.aau.dk/contact\" title=\"Contact\" class=\"topLink white\">Contact</a></li> \\n     <li> <style>    .topLink white .link:hover{    color: ;  }</style><a href=\"https://www.en.aau.dk/about-aau/organisation-management/campus-areas\" title=\"Campus Areas\" class=\"topLink white\">Campus Areas</a></li> \\n     <li> <style>    .topLink white .link:hover{    color: ;  }</style><a href=\"https://www.en.aau.dk/press-contact\" title=\"For the press\" class=\"topLink white\">For the press</a></li> \\n     <li> <style>    .topLink white .link:hover{    color: ;  }</style><a href=\"https://www.alumni.aau.dk/english/\" title=\"For Alumni\" class=\"topLink white\">For Alumni</a></li> \\n    </ul> \\n   </div> \\n   <!-- Mobile hamburger --> \\n   <button class=\"navbar__toggler hamburger--spin collapsed navbar__toggler--mobile\" type=\"button\" data-toggle=\"collapse\" data-target=\"#mobileMenu\" data-parent=\"\" aria-expanded=\"false\"> \\n    <div class=\"hamburger__inner\"> \\n     <span class=\"hamburger__icon\"></span> \\n    </div> </button> \\n   <ul class=\"horizontal unstyled flexnavigation\" id=\"mobileMenu\"> \\n    <!-- Mobile menu shortcuts --> \\n    <li class=\"serviceMenuCenterItem shortCutDropdownMenu\"> <a href=\"#\" class=\"topLink shortcutExpandLink\">Shortcuts</a> \\n     <ul class=\"shortCutDropdown unstyled shortcutsmobile\"> \\n      <li> <style>    .topLink white .link:hover{    color: ;  }</style><a href=\"https://www.en.aau.dk/news\" title=\"News\" class=\"topLink white\">News</a></li> \\n      <li> <style>    .topLink white .link:hover{    color: ;  }</style><a href=\"https://www.en.aau.dk/events\" title=\"Events\" class=\"topLink white\">Events</a></li> \\n      <li> <style>    .topLink white .link:hover{    color: ;  }</style><a href=\"https://www.en.aau.dk/contact\" title=\"Contact\" class=\"topLink white\">Contact</a></li> \\n      <li> <style>    .topLink white .link:hover{    color: ;  }</style><a href=\"https://www.en.aau.dk/about-aau/organisation-management/campus-areas\" title=\"Campus Areas\" class=\"topLink white\">Campus Areas</a></li> \\n      <li> <style>    .topLink white .link:hover{    color: ;  }</style><a href=\"https://www.en.aau.dk/press-contact\" title=\"For the press\" class=\"topLink white\">For the press</a></li> \\n      <li> <style>    .topLink white .link:hover{    color: ;  }</style><a href=\"https://www.alumni.aau.dk/english/\" title=\"For Alumni\" class=\"topLink white\">For Alumni</a></li> \\n     </ul> </li> \\n    <li class=\"serviceMenuCenterItem\"> <style>    .topLink .link:hover{    color: ;  }</style><a href=\"https://www.en.aau.dk/education/\" class=\"topLink\">aau education</a></li> \\n    <li class=\"serviceMenuCenterItem\"> <style>    .topLink .link:hover{    color: ;  }</style><a href=\"https://www.en.aau.dk/research/\" class=\"topLink\">aau research</a></li> \\n    <li class=\"serviceMenuCenterItem\"> <style>    .topLink .link:hover{    color: ;  }</style><a href=\"https://www.en.aau.dk/cooperation/\" class=\"topLink\">aau cooperation</a></li> \\n    <li class=\"serviceMenuCenterItem\"> <style>    .topLink .link:hover{    color: ;  }</style><a href=\"https://www.en.aau.dk/about-aau\" class=\"topLink\">About AAU</a></li> \\n    <li class=\"serviceMenuCenterItem\"> <style>    .topLink .link:hover{    color: ;  }</style><a href=\"https://www.vacancies.aau.dk/\" class=\"topLink\">Vacant Positions</a></li> \\n    <li class=\"serviceMenuCenterItem\"> <style>    .topLink .link:hover{    color: ;  }</style><a href=\"https://www.en.intern.aau.dk/\" class=\"topLink\">Staff and students</a></li> \\n    <li class=\"serviceMenuCenterItem hiddenMobile\"> <a id=\"search_icon_link\" href=\"https://www.en.search.aau.dk/?locale=en\" class=\"topLink searchMenu\"><span class=\"topLinkIcon search\"></span></a> </li> \\n    <li class=\"serviceMenuCenterItem hiddenMobile\"> <a href=\"https://www.caldiss.aau.dk/\" class=\"topLink\"> <span class=\"topLinkIcon danish\"></span> </a> </li> \\n   </ul> \\n   <a id=\"search_icon_link_2\" href=\"https://www.en.search.aau.dk/?locale=en\" class=\"topLinkMobile topLink searchMenu\"><span class=\"topLinkIcon search\"></span></a> \\n   <a href=\"https://www.caldiss.aau.dk/\" class=\"topLinkMobile topLink topLinkMobileLanguage\"> <span class=\"topLinkIcon danish\"></span> </a> \\n  </nav> \\n </div> \\n <!-- End service menu --> \\n <input type=\"hidden\" value=\"da\" id=\"languageCodeInput\"> \\n <div id=\"search-div\"> \\n  <div id=\"close-search-div\"></div> \\n  <iframe src=\"https://aau-search-web-prod.azurewebsites.net/\" id=\"search-iframe\"></iframe> \\n </div> \\n <script type=\"text/javascript\">\\t\\tvar width = window.outerWidth;\\t\\tvar mobile = true;\\t\\tif(width > 768) {\\t\\t\\tmobile = false;\\t\\t}\\t\\tvar iframe = document.getElementById(\"search-iframe\");\\t\\tvar languageCode = document.getElementById(\"languageCodeInput\").value;\\t\\tif(\"\" === languageCode || languageCode === undefined){\\t\\t\\tlanguageCode = \"da\";\\t\\t}\\t\\tvar url = iframe.src;\\t\\tvar index = url.indexOf(\"?\");\\t\\tvar urlParamsIframe;\\t\\t\\t\\tif(index != -1){\\t\\t\\turlParamsIframe = \"&\";\\t\\t}else{\\t\\t\\turlParamsIframe = \"?\";\\t\\t}\\t\\tvar searchElement = document.getElementById(\"search_icon_link\");\\t\\tvar searchElement2 = document.getElementById(\"search_icon_link_2\");\\t\\tvar mobileUrl = searchElement.href;\\t\\tvar index2 = mobileUrl.indexOf(\"?\");\\t\\tvar urlParamsMobile;\\t\\tif(index2 != -1){\\t\\t\\turlParamsMobile = \"&\";\\t\\t}else{\\t\\t\\turlParamsMobile = \"?\";\\t\\t}\\t\\tvar params = \"mobile=\" + mobile + \"&site=\"+window.location.hostname;\\t\\tvar languageParam = \"&locale=\"+languageCode;\\t\\turlParamsIframe += params;\\t\\turlParamsMobile += params;\\t\\t\\t\\tindex = url.indexOf(\"locale\");\\t\\tif(index == -1){\\t\\t\\turlParamsIframe += languageParam;\\t\\t}\\t\\tindex2 = mobileUrl.indexOf(\"locale\");\\t\\t\\t\\tif(index2 == -1){\\t\\t\\turlParamsMobile += languageParam;\\t\\t}\\t\\t\\t\\tvar mobileUrlWithParams = mobileUrl + urlParamsMobile;\\t\\tiframe.src = iframe.src + urlParamsIframe;\\t\\t\\t\\t\\tsearchElement.href = mobileUrlWithParams;\\t\\tsearchElement2.href = mobileUrlWithParams;\\t</script>\\n</div><!-- End service menu --><!--  Marquee --><div class=\"wrapper\"></div>\\r\\n        <!--  end Marquee --><div id=\"top\">\\r\\n            <div class=\"wrapper\">\\r\\n                <div class=\"section\">\\r\\n                    <div class=\"spotCon grid g12 isCentered\"><a href=\"https://www.en.aau.dk\"><img src=\"https://www.resources.aau.dk/design2013/images/logo_en.png\" alt=\"AAU logo\"></a></div>\\r\\n                    <!--  Headline --><div class=\"spotCon grid g12\"></div>\\r\\n                            <!--  end Headline --><div class=\"clear cleargrid\"></div>\\r\\n                </div>\\r\\n\\r\\n                <!--  Localmenu --><style>\\r\\n\\t.link:hover{\\r\\n\\t\\tcolor: ;\\r\\n\\t}\\r\\n\\r\\n\\t.localmenu .link:hover{\\r\\n\\t\\tcolor: ;\\r\\n\\t}\\r\\n</style>\\r\\n\\r\\n<div class=\"stickySpy\">\\r\\n\\t\\t<div class=\"localmenu \">\\r\\n            <div class=\"localmenuBase\">\\r\\n\\t\\t\\t\\t<div class=\"box color navigationTitle\" style=\"\">\\r\\n\\t\\t\\t\\t\\t<ul class=\"breadcrumb unstyled \">\\r\\n\\t\\t\\t\\t<li><style>  \\r\\n  . .link:hover{\\r\\n    color: ;\\r\\n  }\\r\\n</style>\\r\\n\\r\\n<a href=\"/\" title=\"Computational Analytics Laboratory for Digital Social Science\">Caldiss</a>\\r\\n</li>\\r\\n\\t\\t\\t\\t<li>/</li><li><style>  \\r\\n  .current .link:hover{\\r\\n    color: ;\\r\\n  }\\r\\n</style>\\r\\n\\r\\n<a href=\"/about/\" title=\"About CALDISS\" class=\"current\">About CALDISS</a>\\r\\n</li>\\r\\n\\t\\t\\t\\t<li>/</li></ul></div>\\r\\n\\t\\t\\t</div>\\r\\n            \\r\\n            <div class=\"localmenuMobile\">\\r\\n\\t\\t\\t\\t<div class=\"color navigationTitle\" style=\"\">\\r\\n\\t\\t\\t\\t<a href=\"#\" class=\"box\"><h2 class=\"localmenuMobileHeading\">Menu</h2></a>\\r\\n\\r\\n\\t\\t\\t\\t\\t<ul class=\"breadcrumb unstyled \">\\r\\n\\t\\t\\t\\t<li><style>  \\r\\n  . .link:hover{\\r\\n    color: ;\\r\\n  }\\r\\n</style>\\r\\n\\r\\n<a href=\"/\" title=\"Computational Analytics Laboratory for Digital Social Science\">Caldiss</a>\\r\\n</li>\\r\\n\\t\\t\\t\\t<li>/</li><li><style>  \\r\\n  .current .link:hover{\\r\\n    color: ;\\r\\n  }\\r\\n</style>\\r\\n\\r\\n<a href=\"/about/\" title=\"About CALDISS\" class=\"current\">About CALDISS</a>\\r\\n</li>\\r\\n\\t\\t\\t\\t<li>/</li></ul></div>\\r\\n\\t\\t\\t</div>\\r\\n\\t\\t</div>\\r\\n\\t</div><!--  end Localmenu --></div>\\r\\n        </div>\\r\\n\\r\\n        <div class=\"overlay\"></div>\\r\\n\\r\\n        <!-- Main --><div id=\"main\">\\r\\n            <!-- Wrapper in Main--><div class=\"wrapper\"><div class=\"section\">\\r\\n  <div class=\"spotCon grid g12\">\\r\\n        <h1 class=\"highlighted \">About CALDISS</h1>\\r\\n    </div>\\r\\n     <div class=\"clear cleargrid\"></div>\\r\\n</div><div class=\"section \">\\n    <div class=\"spotCon grid g8\">\\n\\n        <div class=\"article\" itemscope itemtype=\"http://schema.org/Article\">\\r\\n\\t<div class=\"box white\">\\r\\n\\t<meta itemprop=\"dateModified\"\\r\\n\\t\\t\\t\\tcontent=\"2018-08-28T05:46+0200\" />\\r\\n\\t\\t\\t<meta itemprop=\"datePublished\"\\r\\n\\t\\t\\t\\tcontent=\"2018-08-08T02:00+0200\" />\\r\\n\\t\\t<div itemprop=\"articleBody\">\\r\\n\\t\\t\\t\\t<p>The digital data and methods laboratory, CALDISS (Computational Analytics Laboratory for Digital Social Science), is a shared physical methods laboratory as well as a digital platform for the Faculty of Social Sciences at AAU, where new possibilities with digital data and digital methods are addressed and explored.</p>\\r\\n\\r\\n<p>The main purposes of the lab is to help everyone associated with the Faculty of Social Sciences at AAU better realize and make use of the potentials that the developments within digital social science has to offer, and to help researchers and students integrate new data or method solutions in their research or in relevant course curriculums. The lab also focuses on cooperation with external partners and will eventually seek to communicate relevant solutions to neighboring companies and organizations.</p>\\r\\n\\r\\n<p>CALDISS is partially funded by The Obel Family Foundation.</p>\\r\\n\\r\\n<p>&nbsp;</p>\\r\\n\\r\\n<h4>The day-to-day activities of CALDISS include:</h4>\\r\\n\\r\\n<ul>\\r\\n\\t<li>\\r\\n\\t<p>Regular teaching activities (workshops and lectures) for everyone associated with the Faculty of Social Sciences at AAU</p>\\r\\n\\t</li>\\r\\n\\t<li>\\r\\n\\t<p>Development of digital tools and utilities for the collection and management of digital data (&lsquo;Big Data&rsquo;)</p>\\r\\n\\t</li>\\r\\n\\t<li>\\r\\n\\t<p>Creating and gaining access to social science databases</p>\\r\\n\\t</li>\\r\\n\\t<li>\\r\\n\\t<p>Research collaboration and project work with the faculty&rsquo;s research environments or with external collaborators</p>\\r\\n\\t</li>\\r\\n</ul>\\r\\n\\r\\n<p>The activities of CALDISS are highly varied. The core principles of the activities are that they are anchored in ongoing research and study activities at the Faculty of Social Sciences at AAU and that they are in accordance with CALDISS&rsquo; focus areas.</p>\\r\\n\\r\\n<p>&nbsp;</p>\\r\\n\\r\\n<h2>CALDISS&rsquo; focus areas</h2>\\r\\n\\r\\n<h3>Creating a data and knowledge center: &rdquo;One-stop shop&rdquo; for available data</h3>\\r\\n\\r\\n<p>CALDISS wants to function as a common datacenter for the Faculty of Social Sciences at AAU. This includes identifying research data that the departments already possess, and making those data more accessible for researchers as well as students.<br />\\r\\nCALDISS seeks to develop a platform for safe and legal transfer and sharing of data, in which CALDISS will assist in potential anonymization and facilitate GDPR-compliant data collaborations between researchers, researchers and students as well as between researchers and external companies and organizations.</p>\\r\\n\\r\\n<p>Concurrently CALDISS acts as a knowledge center for available data and how it is accessed. The need for access to new databases is examined regularly.</p>\\r\\n\\r\\n<p><em>Keywords: data management, data governance, digitalization, data protection, IT-infrastructure</em></p>\\r\\n\\r\\n<p>&nbsp;</p>\\r\\n\\r\\n<h3>Advanced data management</h3>\\r\\n\\r\\n<p>As a data and knowledge center, CALDISS will not only help with accessing and using the data but also with the processing and handling of special data-related challenges. Although CALDISS is conceptualized with a focus on the new and the partly unknown within digital data and methodology, CALDISS will also focus on new solutions for known data management issues.</p>\\r\\n\\r\\n<p><em>Keywords: data management, data science, data mining, visualization</em></p>\\r\\n\\r\\n<p>&nbsp;</p>\\r\\n\\r\\n<h3>Collection and processing of digital data</h3>\\r\\n\\r\\n<p>CALDISS investigates the potentials in and develops tools for the harvesting and collection of new data sources. This in particular applies to data that is often referred to as &lsquo;Big Data&rsquo; within the social sciences.</p>\\r\\n\\r\\n<p>CALDISS offer access to especially powerful workstation developed for computational and visualization tasks with large datasets for both students and researchers.</p>\\r\\n\\r\\n<p><em>Keywords: digital data, Big Data, web scraping, API, data mining, text mining, data science, visualization, digital methods</em></p>\\r\\n\\r\\n<p>&nbsp;</p>\\r\\n\\r\\n<h3>Experimenting with new methods</h3>\\r\\n\\r\\n<p>CALDISS&rsquo; ambition is to investigate how new digital methods can be used and applied within the social sciences. CALDISS will investigate the usefulness and applicability of these methods within the social sciences while seeking to inform and inspire about using such methods to everyone associated with the Faculty of Social Sciences at AAU through various teaching activities (workshops and lectures).</p>\\r\\n\\r\\n<p><em>Keywords: digital methods, computational social science, &lsquo;computational thinking&rsquo;, data science, visualization</em></p>\\r\\n\\r\\n<p>&nbsp;</p>\\r\\n\\r\\n<h3>New software and advances use of known software</h3>\\r\\n\\r\\n<p>With new methods come new software. CALDISS will regularly offer workshops in the use of new software solutions like R and Python as well as workshops seeking to up-skill within the use of software that AAU already has acquired licensing for; including STATA, SAS, NVivo and ArcGIS.</p>\\r\\n\\r\\n<p>The demand for new software and workshops is identified regularly.</p>\\r\\n\\r\\n<p><em>Keywords: digitalization, &#39;computational thinking&#39;, data science, computer science, programming, software</em></p>\\r\\n\\r\\n<p>&nbsp;</p>\\r\\n\\r\\n<h2>The Philosophy of CALDISS</h2>\\r\\n\\r\\n<p>The activities of CALDISS are interdisciplinary and should benefit everyone associated with the Faculty of Social Sciences at AAU as much as possible. You are therefore always welcome to contact CALDISS with suggestions and comments.</p>\\r\\n\\r\\n<p>CALDISS wishes to promote and facilitate the use of digital data and digital methods as well as encourage interdisciplinary discussions about the possibilities and challenges (practical as well as ethical) that arise with the digitalization of the social sciences.</p>\\r\\n\\r\\n<p>CALDISS promotes knowledge sharing and collaboration across AAU departments as well as with external organizations and adopts an &ldquo;open-source&rdquo; and &ldquo;open access&rdquo; philosophy stating that the tools, resources and solutions that CALDISS develops are made available to everyone.</p>\\r\\n\\r\\n<p>CALDISS hopes to excite about the use of digital methods. We are experimental in our ambition in being curious about what digital methods can offer the social sciences, while being responsible in our actions and always ensuring ethical and responsible processing of data.</p>\\r\\n\\r\\n<p>&nbsp;</p>\\r\\n\\r\\n<p>Our hope is to become a service that benefits everyone associated with the Faculty of Social Sciences at AAU.</p>\\r\\n</div>\\r\\n\\t\\t</div>\\r\\n</div>\\n\\n    </div>\\n\\n    <div class=\"spotCon grid g4\">\\n         <div class=\"box color\" style=\"\">\\r\\n\\t<style>\\r\\n\\t.link:hover {\\r\\n\\t\\tcolor: ;\\r\\n\\t}\\r\\n\\t\\r\\n\\t.color .link:hover{\\r\\n\\t\\tcolor: ;\\r\\n\\t}\\r\\n</style>\\r\\n\\r\\n<ul class=\"unstyled\">\\r\\n\\t\\t<li><a class=\"inlineBlock \" href=\"/home/\" \\r\\n\\t\\t\\t\\t\\t\\t\\r\\n\\t\\t\\t\\t\\t\\t\\ttitle=\"home\" \\r\\n\\t\\t\\t\\t\\t\\t \\r\\n\\t\\t\\t\\t\\t>\\r\\n\\t\\t\\t\\t\\t\\t<h3 class=\"hasArrow\">\\r\\n\\t\\t\\t\\t\\t\\t\\tHome</h3>\\r\\n\\t\\t\\t\\t\\t</a>\\r\\n\\t\\t\\t\\t</li>\\r\\n\\t\\t\\t<li><a class=\"inlineBlock \" href=\"/about/\" \\r\\n\\t\\t\\t\\t\\t\\t\\r\\n\\t\\t\\t\\t\\t\\t\\ttitle=\"About CALDISS\" \\r\\n\\t\\t\\t\\t\\t\\t \\r\\n\\t\\t\\t\\t\\t>\\r\\n\\t\\t\\t\\t\\t\\t<h3 class=\"hasArrow\">\\r\\n\\t\\t\\t\\t\\t\\t\\tAbout CALDISS</h3>\\r\\n\\t\\t\\t\\t\\t</a>\\r\\n\\t\\t\\t\\t</li>\\r\\n\\t\\t\\t<li><a class=\"inlineBlock \" href=\"/facilities/\" \\r\\n\\t\\t\\t\\t\\t\\t\\r\\n\\t\\t\\t\\t\\t\\t\\ttitle=\"facilities\" \\r\\n\\t\\t\\t\\t\\t\\t \\r\\n\\t\\t\\t\\t\\t>\\r\\n\\t\\t\\t\\t\\t\\t<h3 class=\"hasArrow\">\\r\\n\\t\\t\\t\\t\\t\\t\\tCALDISS&#039; Facilities</h3>\\r\\n\\t\\t\\t\\t\\t</a>\\r\\n\\t\\t\\t\\t</li>\\r\\n\\t\\t\\t<li><a class=\"inlineBlock \" href=\"/events/\" \\r\\n\\t\\t\\t\\t\\t\\t\\r\\n\\t\\t\\t\\t\\t\\t\\ttitle=\"Events and Program\" \\r\\n\\t\\t\\t\\t\\t\\t \\r\\n\\t\\t\\t\\t\\t>\\r\\n\\t\\t\\t\\t\\t\\t<h3 class=\"hasArrow\">\\r\\n\\t\\t\\t\\t\\t\\t\\tEvents and Program</h3>\\r\\n\\t\\t\\t\\t\\t</a>\\r\\n\\t\\t\\t\\t</li>\\r\\n\\t\\t\\t<li><a class=\"inlineBlock \" href=\"/collaborate/\" \\r\\n\\t\\t\\t\\t\\t\\t\\r\\n\\t\\t\\t\\t\\t\\t\\ttitle=\"Collaborate with CALDISS\" \\r\\n\\t\\t\\t\\t\\t\\t \\r\\n\\t\\t\\t\\t\\t>\\r\\n\\t\\t\\t\\t\\t\\t<h3 class=\"hasArrow\">\\r\\n\\t\\t\\t\\t\\t\\t\\tCollaborate with CALDISS</h3>\\r\\n\\t\\t\\t\\t\\t</a>\\r\\n\\t\\t\\t\\t</li>\\r\\n\\t\\t\\t<li><a class=\"inlineBlock \" href=\"/blog/\" \\r\\n\\t\\t\\t\\t\\t\\t\\r\\n\\t\\t\\t\\t\\t\\t\\ttitle=\"Blog\" \\r\\n\\t\\t\\t\\t\\t\\t \\r\\n\\t\\t\\t\\t\\t>\\r\\n\\t\\t\\t\\t\\t\\t<h3 class=\"hasArrow\">\\r\\n\\t\\t\\t\\t\\t\\t\\tBlog</h3>\\r\\n\\t\\t\\t\\t\\t</a>\\r\\n\\t\\t\\t\\t</li>\\r\\n\\t\\t\\t<li><a class=\"inlineBlock \" href=\"/contact/\" \\r\\n\\t\\t\\t\\t\\t\\t\\r\\n\\t\\t\\t\\t\\t\\t\\ttitle=\"Contact - Ask CALDISS\" \\r\\n\\t\\t\\t\\t\\t\\t \\r\\n\\t\\t\\t\\t\\t>\\r\\n\\t\\t\\t\\t\\t\\t<h3 class=\"hasArrow\">\\r\\n\\t\\t\\t\\t\\t\\t\\tContact - Ask CALDISS</h3>\\r\\n\\t\\t\\t\\t\\t</a>\\r\\n\\t\\t\\t\\t</li>\\r\\n\\t\\t\\t</ul>\\r\\n</div><div class=\"article\" itemscope itemtype=\"http://schema.org/Article\">\\r\\n\\t<div class=\"box white\">\\r\\n\\t<h2 itemprop=\"headline\">\\r\\n\\t\\t\\t\\tContact</h2>\\r\\n\\t\\t<meta itemprop=\"dateModified\"\\r\\n\\t\\t\\t\\tcontent=\"2018-09-12T12:07+0200\" />\\r\\n\\t\\t\\t<meta itemprop=\"datePublished\"\\r\\n\\t\\t\\t\\tcontent=\"2018-08-08T02:01+0200\" />\\r\\n\\t\\t<div itemprop=\"articleBody\">\\r\\n\\t\\t\\t\\t<p><a class=\"none\" href=\"/contact/\"><img alt=\"\" src=\"/digitalAssets/402/402252_contact-small.jpg\" style=\"width: 278px; height: 77px;\" /></a></p>\\r\\n\\r\\n<p>E-mail: <a href=\"mailto:caldiss@adm.aau.dk\">caldiss@adm.aau.dk</a></p>\\r\\n\\r\\n<p>Yammer: <a class=\"none\" href=\"https://www.yammer.com/aau.dk/#/threads/inGroup?type=in_group&amp;feedId=15641811&amp;view=all\">Go to Yammer-group</a></p>\\r\\n</div>\\r\\n\\t\\t</div>\\r\\n</div>\\n    </div>\\n     <div class=\"clear cleargrid\"></div>\\n</div></div>\\r\\n            <!-- end wrapper in Main --></div>\\r\\n        <!-- end Main --><div class=\"push\"></div>\\r\\n    </div>\\r\\n    <!--  end stickyFooter --><!--  Footer --><div class=\"footer spotCon section\"> \\n <div class=\"footerArrow\"></div> \\n <div class=\"footerInner\"> \\n  <div class=\"wrapper\"> \\n   <div class=\"section \"> \\n    <div class=\"spotCon grid g4\"> \\n     <div itemscope itemtype=\"http://schema.org/EducationalOrganization\"> \\n      <div class=\"box white\"> \\n       <p class=\"h2\">Contact AAU</p> \\n       <p class=\"h3\"><span itemprop=\"name\">Aalborg University</span></p> \\n       <span itemprop=\"address\" itemscope itemtype=\"http://schema.org/PostalAddress\"> <span itemprop=\"streetAddress\">Fredrik Bajers Vej 5</span><br> P.O. Box 159 <span itemprop=\"postalCode\">DK-9100</span> <span itemprop=\"addressLocality\">Aalborg<br> Denmark</span><br> Phone: <span itemprop=\"telephone\">+45 9940 9940</span><p></p> <p>Mail: <span itemprop=\"email\"><a href=\"mailto:aau@aau.dk\">aau@aau.dk</a></span><br> CVRnr: 29102384<br> Eannr: <a class=\"none\" href=\"https://www.okonomi.aau.dk/digitalAssets/127/127219_ean--master--15112017--litl-kopi-.pdf\" target=\"_blank\">EAN</a></p> <p><a href=\"https://www.en.aau.dk/privacy-policy-cookies\">Privacy and use of cookies</a></p> </span>\\n      </div> \\n     </div> \\n    </div>\\n    <div class=\"spotCon grid g4\"> \\n     <div class=\"box white\" style=\"\"> \\n      <span class=\"h2\">About AAU</span> \\n      <style>\\t.link:hover {\\t\\tcolor: ;\\t}\\t\\t.color .link:hover{\\t\\tcolor: ;\\t}</style>\\n      <ul class=\"unstyled\"> \\n       <li><a class=\"inlineBlock \" href=\"https://www.en.aau.dk/about-aau/profile\" title=\"Aalborg University Profile\"> <h3 class=\"hasArrow\"> Aalborg University Profile</h3> </a> </li> \\n       <li><a class=\"inlineBlock \" href=\"https://www.en.aau.dk/about-aau/organisation-management\" title=\"Organisation and Management\"> <h3 class=\"hasArrow\"> Organisation and Management</h3> </a> </li> \\n       <li><a class=\"inlineBlock \" href=\"https://www.en.aau.dk/about-aau/figures-facts\" title=\"AAU in figures and facts\"> <h3 class=\"hasArrow\"> AAU in figures and facts</h3> </a> </li> \\n       <li><a class=\"inlineBlock \" href=\"https://www.en.aau.dk/about-aau/strategy-vision-mission\" title=\"Strategy, mission and vision\"> <h3 class=\"hasArrow\"> Strategy, mission and vision</h3> </a> </li> \\n       <li><a class=\"inlineBlock \" href=\"https://www.en.aau.dk/about-aau/strategy-vision-mission/quality-assurance\" title=\"Quality assurance of Study Programmes\"> <h3 class=\"hasArrow\"> Quality assurance of Study Programmes</h3> </a> </li> \\n       <li><a class=\"inlineBlock \" href=\"https://www.en.aau.dk/about-aau/aalborg-model-problem-based-learning\" title=\"The Aalborg Model for Problem Based Learning\"> <h3 class=\"hasArrow\"> The Aalborg Model for Problem Based Learning</h3> </a> </li> \\n       <li><a class=\"inlineBlock \" href=\"https://www.en.aau.dk/about-aau/international-cooperation\" title=\"International Cooperation\"> <h3 class=\"hasArrow\"> International Cooperation</h3> </a> </li> \\n       <li><a class=\"inlineBlock \" href=\"https://www.en.aau.dk/about-aau/history-honorary-doctors-fellows\" title=\"History, Honorary Doctors and Fellows\"> <h3 class=\"hasArrow\"> History, Honorary Doctors and Fellows</h3> </a> </li> \\n      </ul>\\n     </div> \\n    </div>\\n    <div class=\"spotCon grid g4\"> \\n     <div class=\"box white\" style=\"\"> \\n      <span class=\"h2\">Find us on social media</span> \\n      <style>\\t.link:hover {\\t\\tcolor: ;\\t}\\t\\t.color .link:hover{\\t\\tcolor: ;\\t}</style>\\n      <ul class=\"unstyled\"> \\n       <li><a class=\"inlineBlock \" href=\"https://www.facebook.com/InternationalOfficeAalborgUniversity\" title=\"Facebook\"> <h3 class=\"hasArrow\"> Facebook</h3> </a> </li> \\n       <li><a class=\"inlineBlock \" href=\"https://www.youtube.com/aalborguniversitet\" title=\"YouTube\"> <h3 class=\"hasArrow\"> YouTube</h3> </a> </li> \\n      </ul>\\n     </div> \\n    </div> \\n    <div class=\"clear cleargrid\"></div>\\n   </div> \\n  </div> \\n </div> \\n</div><!--  end Footer --><!--  CookieNotification --><div class=\"cookieNotification color hidden\">\\r\\n        <div class=\"wrapper\">\\r\\n            <div class=\"section\">\\r\\n                <div class=\"spotCon grid g8\">\\r\\n                    <div class=\"box color\"><h2>aau.dk uses cookies</h2><p>aau.dk uses cookies in order to generate usage statistics</p><p>You can read about our usage of your data and how to block cookies in <a href=\"https://www.aau.dk/om-cookies\">the AAU cookie policy</a>.</p></div>\\r\\n                </div>\\r\\n\\r\\n                <div class=\"spotCon grid g4\">\\r\\n                    <div class=\"box color\"><p><a href=\".\" class=\"cookieAccept smallButton x\">Close this message</a></p></div>\\r\\n                </div>\\r\\n            </div>\\r\\n        </div>\\r\\n    </div>\\r\\n    <!--  end CookieNotification --><script type=\"text/javascript\" src=\"https://ajax.googleapis.com/ajax/libs/jquery/1.8.1/jquery.min.js\"></script>\\r\\n    <script type=\"text/javascript\" src=\"https://www.resources.aau.dk/design2013/resources/js/jquery.marquee.min.js\"></script>\\r\\n    <script type=\"text/javascript\" src=\"https://www.resources.aau.dk/design2013/resources/js/jquery.hoverIntent.minified.js\"></script>\\r\\n    <script type=\"text/javascript\" src=\"https://www.resources.aau.dk/design2013/resources/js/selectivizr.min.js\"></script>\\r\\n    <script type=\"text/javascript\" src=\"https://www.resources.aau.dk/design2013/resources/js/jquery.carouFredSel-5.6.4-packed.js\"></script>\\r\\n    <script type=\"text/javascript\" src=\"https://www.resources.aau.dk/design2013/resources/js/waypoint.js\"></script>\\r\\n    <script type=\"text/javascript\" src=\"https://www.resources.aau.dk/design2013/resources/js/modernizr.custom.all.js\"></script>\\r\\n    <script type=\"text/javascript\" src=\"https://www.resources.aau.dk/design2013/resources/js/jquery.cookie.min.js\"></script>\\r\\n    <script type=\"text/javascript\" src=\"https://www.resources.aau.dk/design2013/resources/js/print.min.js\"></script>\\r\\n    <script type=\"text/javascript\" src=\"https://www.resources.aau.dk/design2013/resources/js/script.min.js\"></script>\\r\\n    <script type=\"text/javascript\" src=\"https://www.resources.aau.dk/design2013/resources/js/jquery.fancybox.min.js\"></script>\\r\\n    <script type=\"text/javascript\" src=\"https://www.resources.aau.dk/design2013/resources/js/studyGuideSearch.js\"></script>\\r\\n\\r\\n    <script type=\"text/javascript\">\\r\\n\\t\\t$(document).ready(function() {\\r\\n\\t\\t\\t$(\".fancybox\").fancybox({\\r\\n\\t\\t\\t\\tmaxWidth\\t: 800,\\r\\n\\t\\t\\t\\tmaxHeight\\t: 600,\\r\\n\\t\\t\\t\\tfitToView\\t: false,\\r\\n\\t\\t\\t\\twidth\\t\\t: \"70%\",\\r\\n\\t\\t\\t\\theight\\t\\t: \"70%\",\\r\\n\\t\\t\\t\\thelpers : {\\r\\n\\t\\t\\t        overlay : {\\r\\n\\t\\t\\t            css : {\\r\\n\\t\\t\\t                \"background\" : \"rgba(0, 0, 0, 0.5)\"\\r\\n\\t\\t\\t            }\\r\\n\\t\\t\\t        }\\r\\n\\t\\t\\t    }\\r\\n\\t\\t\\t});\\r\\n\\t\\t});\\r\\n\\t</script>\\r\\n</body>\\r\\n</html>\\r\\n\\n'\n"
     ]
    }
   ],
   "source": [
    "caldiss_html = caldiss_get.content\n",
    "print(caldiss_html)"
   ]
  },
  {
   "cell_type": "code",
   "execution_count": 3,
   "metadata": {},
   "outputs": [
    {
     "data": {
      "text/plain": [
       "<Response [404]>"
      ]
     },
     "execution_count": 3,
     "metadata": {},
     "output_type": "execute_result"
    }
   ],
   "source": [
    "invalid_suburl = 'https://www.en.caldiss.aau.dk/allaboutmeanandpastas/'\n",
    "invalid_subget = requests.get(invalid_suburl)\n",
    "invalid_subget  #Status code 404 is \"Not found\" - Useful for error handling!"
   ]
  },
  {
   "cell_type": "markdown",
   "metadata": {},
   "source": [
    "Most sites have a page setup for 404 errors (so that users know that they are on the right main site).\n",
    "\n",
    "We can still therefore still extract the HTML (the HTML of the 404 page)"
   ]
  },
  {
   "cell_type": "code",
   "execution_count": 15,
   "metadata": {},
   "outputs": [
    {
     "name": "stdout",
     "output_type": "stream",
     "text": [
      "b'<!DOCTYPE html>\\r\\n<html class=\"no-js\" prefix=\"og: http://ogp.me/ns#\">\\r\\n<head>\\r\\n<meta charset=\"utf-8\" />\\r\\n<meta name=\"viewport\" content=\"width=device-width, initial-scale=1, maximum-scale=1\">\\r\\n\\r\\n\\r\\n<meta name=\"description\" content=\"404 (page not found)\" />\\r\\n<title>404 (page not found)</title>\\r\\n\\r\\n<!-- Remove no-js enable html5 elements -->\\r\\n<script type=\"text/javascript\">\\r\\n    //Clear no-js\\r\\n    document.getElementsByTagName(\\'html\\')[0].className = document\\r\\n            .getElementsByTagName(\\'html\\')[0].className.replace(\\'no-js\\', \\'\\');\\r\\n    //Enable html5 elements in IE\\r\\n    \\'article aside footer header nav section time\\'.replace(/\\\\w+/g, function(n) {\\r\\n        document.createElement(n)\\r\\n    });\\r\\n</script>\\r\\n\\r\\n<!-- Google Tag Manager --> <script>(function(w,d,s,l,i){w[l]=w[l]||[];w[l].push({\\'gtm.start\\': new Date().getTime(),event:\\'gtm.js\\'});var f=d.getElementsByTagName(s)[0], j=d.createElement(s),dl=l!=\\'dataLayer\\'?\\'&l=\\'+l:\\'\\';j.async=true;j.src= \\'//www.googletagmanager.com/gtm.js?id=\\'+i+dl;f.parentNode.insertBefore(j,f); })(window,document,\\'script\\',\\'dataLayer\\',\\'GTM-MGKZK9C\\');</script> <!-- End Google Tag Manager --><meta name=\"twitter:card\" content=\"summary\" />\\r\\n\\r\\n<script type=\"text/javascript\" src=\"https://fast.fonts.com/jsapi/6ffba2ea-d55c-4389-b794-a04d376df85c.js\"></script>\\r\\n\\r\\n<link rel=\"stylesheet\" type=\"text/css\" href=\"https://www.resources.aau.dk/design2013/resources/css/style.min.css\" />\\r\\n\\r\\n<link rel=\"stylesheet\" type=\"text/css\" href=\"https://www.design2013.aau.dk/colorCss?color1=%2391268F&amp;color2=%23ffffff&amp;color3=%23262626\" />\\r\\n<link rel=\"stylesheet\" type=\"text/css\"\\r\\n        href=\"https://www.design2013.aau.dk/backgroundCss?image=%2FdigitalAssets%2F441%2F441801_jacob-stone-562589-unsplash.jpg\" />\\r\\n<link rel=\"shortcut icon\" type=\"image/vnd.microsoft.ico\" href=\"https://www.resources.aau.dk/design2013/images/aaufavicon.ico?v=2\" />\\r\\n\\n</head>\\r\\n\\r\\n<!--[if lt IE 7]> <body class=\"ie6\"> <![endif]--><!--[if IE 7]><body class=\"ie7\"><![endif]--><!--[if IE 8]><body class=\"ie8\"> <![endif]--><!--[if gt IE 8]><!--><body>\\r\\n\\t<!-- Google Tag Manager --> <noscript><iframe src=\"//www.googletagmanager.com/ns.html?id=GTM-MGKZK9C\" height=\"0\" width=\"0\" style=\"display:none;visibility:hidden\"></iframe></noscript><!-- End Google Tag Manager --><!--<![endif]--><div class=\"bg-img\"></div>\\r\\n\\r\\n    <!-- StickyFooter --><div class=\"stickyFooter\">    \\r\\n        <!-- Service menu --><div id=\"servicemenu\" class=\"wrapper cf\"> \\n <div class=\"servicemenuInner box white\"> \\n  <input type=\"hidden\" value=\"false\" id=\"useOverlay\"> \\n  <nav> \\n   <div class=\"shortCutsWrapper\"> \\n    <button class=\"navbar__toggler hamburger--spin collapsed\" id=\"shortcuthamburger\" type=\"button\" data-toggle=\"collapse\" data-target=\"#shortcutsMeny\" data-parent=\"\" aria-expanded=\"false\"> \\n     <div class=\"hamburger__inner\"> \\n      <span class=\"hamburger__icon\"></span> \\n     </div> </button> \\n    <ul class=\"shortCutDropdown unstyled\" id=\"shortcutsMeny\"> \\n     <li> <style>    .topLink white .link:hover{    color: ;  }</style><a href=\"https://www.en.aau.dk/news\" title=\"News\" class=\"topLink white\">News</a></li> \\n     <li> <style>    .topLink white .link:hover{    color: ;  }</style><a href=\"https://www.en.aau.dk/events\" title=\"Events\" class=\"topLink white\">Events</a></li> \\n     <li> <style>    .topLink white .link:hover{    color: ;  }</style><a href=\"https://www.en.aau.dk/contact\" title=\"Contact\" class=\"topLink white\">Contact</a></li> \\n     <li> <style>    .topLink white .link:hover{    color: ;  }</style><a href=\"https://www.en.aau.dk/about-aau/organisation-management/campus-areas\" title=\"Campus Areas\" class=\"topLink white\">Campus Areas</a></li> \\n     <li> <style>    .topLink white .link:hover{    color: ;  }</style><a href=\"https://www.en.aau.dk/press-contact\" title=\"For the press\" class=\"topLink white\">For the press</a></li> \\n     <li> <style>    .topLink white .link:hover{    color: ;  }</style><a href=\"https://www.alumni.aau.dk/english/\" title=\"For Alumni\" class=\"topLink white\">For Alumni</a></li> \\n    </ul> \\n   </div> \\n   <!-- Mobile hamburger --> \\n   <button class=\"navbar__toggler hamburger--spin collapsed navbar__toggler--mobile\" type=\"button\" data-toggle=\"collapse\" data-target=\"#mobileMenu\" data-parent=\"\" aria-expanded=\"false\"> \\n    <div class=\"hamburger__inner\"> \\n     <span class=\"hamburger__icon\"></span> \\n    </div> </button> \\n   <ul class=\"horizontal unstyled flexnavigation\" id=\"mobileMenu\"> \\n    <!-- Mobile menu shortcuts --> \\n    <li class=\"serviceMenuCenterItem shortCutDropdownMenu\"> <a href=\"#\" class=\"topLink shortcutExpandLink\">Shortcuts</a> \\n     <ul class=\"shortCutDropdown unstyled shortcutsmobile\"> \\n      <li> <style>    .topLink white .link:hover{    color: ;  }</style><a href=\"https://www.en.aau.dk/news\" title=\"News\" class=\"topLink white\">News</a></li> \\n      <li> <style>    .topLink white .link:hover{    color: ;  }</style><a href=\"https://www.en.aau.dk/events\" title=\"Events\" class=\"topLink white\">Events</a></li> \\n      <li> <style>    .topLink white .link:hover{    color: ;  }</style><a href=\"https://www.en.aau.dk/contact\" title=\"Contact\" class=\"topLink white\">Contact</a></li> \\n      <li> <style>    .topLink white .link:hover{    color: ;  }</style><a href=\"https://www.en.aau.dk/about-aau/organisation-management/campus-areas\" title=\"Campus Areas\" class=\"topLink white\">Campus Areas</a></li> \\n      <li> <style>    .topLink white .link:hover{    color: ;  }</style><a href=\"https://www.en.aau.dk/press-contact\" title=\"For the press\" class=\"topLink white\">For the press</a></li> \\n      <li> <style>    .topLink white .link:hover{    color: ;  }</style><a href=\"https://www.alumni.aau.dk/english/\" title=\"For Alumni\" class=\"topLink white\">For Alumni</a></li> \\n     </ul> </li> \\n    <li class=\"serviceMenuCenterItem\"> <style>    .topLink .link:hover{    color: ;  }</style><a href=\"https://www.en.aau.dk/education/\" class=\"topLink\">aau education</a></li> \\n    <li class=\"serviceMenuCenterItem\"> <style>    .topLink .link:hover{    color: ;  }</style><a href=\"https://www.en.aau.dk/research/\" class=\"topLink\">aau research</a></li> \\n    <li class=\"serviceMenuCenterItem\"> <style>    .topLink .link:hover{    color: ;  }</style><a href=\"https://www.en.aau.dk/cooperation/\" class=\"topLink\">aau cooperation</a></li> \\n    <li class=\"serviceMenuCenterItem\"> <style>    .topLink .link:hover{    color: ;  }</style><a href=\"https://www.en.aau.dk/about-aau\" class=\"topLink\">About AAU</a></li> \\n    <li class=\"serviceMenuCenterItem\"> <style>    .topLink .link:hover{    color: ;  }</style><a href=\"https://www.vacancies.aau.dk/\" class=\"topLink\">Vacant Positions</a></li> \\n    <li class=\"serviceMenuCenterItem\"> <style>    .topLink .link:hover{    color: ;  }</style><a href=\"https://www.en.intern.aau.dk/\" class=\"topLink\">Staff and students</a></li> \\n    <li class=\"serviceMenuCenterItem hiddenMobile\"> <a id=\"search_icon_link\" href=\"https://www.en.search.aau.dk/?locale=en\" class=\"topLink searchMenu\"><span class=\"topLinkIcon search\"></span></a> </li> \\n    <li class=\"serviceMenuCenterItem hiddenMobile\"> <a href=\"https://www.caldiss.aau.dk/\" class=\"topLink\"> <span class=\"topLinkIcon danish\"></span> </a> </li> \\n   </ul> \\n   <a id=\"search_icon_link_2\" href=\"https://www.en.search.aau.dk/?locale=en\" class=\"topLinkMobile topLink searchMenu\"><span class=\"topLinkIcon search\"></span></a> \\n   <a href=\"https://www.caldiss.aau.dk/\" class=\"topLinkMobile topLink topLinkMobileLanguage\"> <span class=\"topLinkIcon danish\"></span> </a> \\n  </nav> \\n </div> \\n <!-- End service menu --> \\n <input type=\"hidden\" value=\"da\" id=\"languageCodeInput\"> \\n <div id=\"search-div\"> \\n  <div id=\"close-search-div\"></div> \\n  <iframe src=\"https://aau-search-web-prod.azurewebsites.net/\" id=\"search-iframe\"></iframe> \\n </div> \\n <script type=\"text/javascript\">\\t\\tvar width = window.outerWidth;\\t\\tvar mobile = true;\\t\\tif(width > 768) {\\t\\t\\tmobile = false;\\t\\t}\\t\\tvar iframe = document.getElementById(\"search-iframe\");\\t\\tvar languageCode = document.getElementById(\"languageCodeInput\").value;\\t\\tif(\"\" === languageCode || languageCode === undefined){\\t\\t\\tlanguageCode = \"da\";\\t\\t}\\t\\tvar url = iframe.src;\\t\\tvar index = url.indexOf(\"?\");\\t\\tvar urlParamsIframe;\\t\\t\\t\\tif(index != -1){\\t\\t\\turlParamsIframe = \"&\";\\t\\t}else{\\t\\t\\turlParamsIframe = \"?\";\\t\\t}\\t\\tvar searchElement = document.getElementById(\"search_icon_link\");\\t\\tvar searchElement2 = document.getElementById(\"search_icon_link_2\");\\t\\tvar mobileUrl = searchElement.href;\\t\\tvar index2 = mobileUrl.indexOf(\"?\");\\t\\tvar urlParamsMobile;\\t\\tif(index2 != -1){\\t\\t\\turlParamsMobile = \"&\";\\t\\t}else{\\t\\t\\turlParamsMobile = \"?\";\\t\\t}\\t\\tvar params = \"mobile=\" + mobile + \"&site=\"+window.location.hostname;\\t\\tvar languageParam = \"&locale=\"+languageCode;\\t\\turlParamsIframe += params;\\t\\turlParamsMobile += params;\\t\\t\\t\\tindex = url.indexOf(\"locale\");\\t\\tif(index == -1){\\t\\t\\turlParamsIframe += languageParam;\\t\\t}\\t\\tindex2 = mobileUrl.indexOf(\"locale\");\\t\\t\\t\\tif(index2 == -1){\\t\\t\\turlParamsMobile += languageParam;\\t\\t}\\t\\t\\t\\tvar mobileUrlWithParams = mobileUrl + urlParamsMobile;\\t\\tiframe.src = iframe.src + urlParamsIframe;\\t\\t\\t\\t\\tsearchElement.href = mobileUrlWithParams;\\t\\tsearchElement2.href = mobileUrlWithParams;\\t</script>\\n</div><!-- End service menu --><!--  Marquee --><div class=\"wrapper\"></div>\\r\\n        <!--  end Marquee --><div id=\"top\">\\r\\n            <div class=\"wrapper\">\\r\\n                <div class=\"section\">\\r\\n                    <div class=\"spotCon grid g12 isCentered\"><a href=\"https://www.en.aau.dk\"><img src=\"https://www.resources.aau.dk/design2013/images/logo_en.png\" alt=\"AAU logo\"></a></div>\\r\\n                    <!--  Headline --><div class=\"spotCon grid g12\"></div>\\r\\n                            <!--  end Headline --><div class=\"clear cleargrid\"></div>\\r\\n                </div>\\r\\n\\r\\n                <!--  Localmenu --><style>\\r\\n\\t.link:hover{\\r\\n\\t\\tcolor: ;\\r\\n\\t}\\r\\n\\r\\n\\t.localmenu .link:hover{\\r\\n\\t\\tcolor: ;\\r\\n\\t}\\r\\n</style>\\r\\n\\r\\n<div class=\"stickySpy\">\\r\\n\\t\\t<div class=\"localmenu \">\\r\\n            <div class=\"localmenuBase\">\\r\\n\\t\\t\\t\\t<div class=\"box color navigationTitle\" style=\"\">\\r\\n\\t\\t\\t\\t\\t<ul class=\"breadcrumb unstyled \">\\r\\n\\t\\t\\t\\t<li><style>  \\r\\n  . .link:hover{\\r\\n    color: ;\\r\\n  }\\r\\n</style>\\r\\n\\r\\n<a href=\"/\" title=\"Computational Analytics Laboratory for Digital Social Science\">Caldiss</a>\\r\\n</li>\\r\\n\\t\\t\\t\\t<li>/</li><li><style>  \\r\\n  . .link:hover{\\r\\n    color: ;\\r\\n  }\\r\\n</style>\\r\\n\\r\\n<a href=\"/contact/\" title=\"Contact - Ask CALDISS\">Contact - Ask CALDISS</a>\\r\\n</li>\\r\\n\\t\\t\\t\\t<li>/</li><li><style>  \\r\\n  .current .link:hover{\\r\\n    color: ;\\r\\n  }\\r\\n</style>\\r\\n\\r\\n<a href=\"/contact/404/\" title=\"404 (page not found)\" class=\"current\">404 (page not found)</a>\\r\\n</li>\\r\\n\\t\\t\\t\\t<li>/</li></ul></div>\\r\\n\\t\\t\\t</div>\\r\\n            \\r\\n            <div class=\"localmenuMobile\">\\r\\n\\t\\t\\t\\t<div class=\"color navigationTitle\" style=\"\">\\r\\n\\t\\t\\t\\t<a href=\"#\" class=\"box\"><h2 class=\"localmenuMobileHeading\">Menu</h2></a>\\r\\n\\r\\n\\t\\t\\t\\t\\t<ul class=\"breadcrumb unstyled \">\\r\\n\\t\\t\\t\\t<li><style>  \\r\\n  . .link:hover{\\r\\n    color: ;\\r\\n  }\\r\\n</style>\\r\\n\\r\\n<a href=\"/\" title=\"Computational Analytics Laboratory for Digital Social Science\">Caldiss</a>\\r\\n</li>\\r\\n\\t\\t\\t\\t<li>/</li><li><style>  \\r\\n  . .link:hover{\\r\\n    color: ;\\r\\n  }\\r\\n</style>\\r\\n\\r\\n<a href=\"/contact/\" title=\"Contact - Ask CALDISS\">Contact - Ask CALDISS</a>\\r\\n</li>\\r\\n\\t\\t\\t\\t<li>/</li><li><style>  \\r\\n  .current .link:hover{\\r\\n    color: ;\\r\\n  }\\r\\n</style>\\r\\n\\r\\n<a href=\"/contact/404/\" title=\"404 (page not found)\" class=\"current\">404 (page not found)</a>\\r\\n</li>\\r\\n\\t\\t\\t\\t<li>/</li></ul></div>\\r\\n\\t\\t\\t</div>\\r\\n\\t\\t</div>\\r\\n\\t</div><!--  end Localmenu --></div>\\r\\n        </div>\\r\\n\\r\\n        <div class=\"overlay\"></div>\\r\\n\\r\\n        <!-- Main --><div id=\"main\">\\r\\n            <!-- Wrapper in Main--><div class=\"wrapper\"><div class=\"section\">\\r\\n  <div class=\"spotCon grid g12\">\\r\\n        <h1 class=\"highlighted \">404 (page not found)</h1>\\r\\n    </div>\\r\\n     <div class=\"clear cleargrid\"></div>\\r\\n</div><div class=\"section \">\\n    <div class=\"spotCon grid g8\">\\n\\n        <div class=\"article\" itemscope itemtype=\"http://schema.org/Article\">\\r\\n\\t<div class=\"box white\">\\r\\n\\t<meta itemprop=\"dateModified\"\\r\\n\\t\\t\\t\\tcontent=\"2018-09-04T02:31+0200\" />\\r\\n\\t\\t\\t<meta itemprop=\"datePublished\"\\r\\n\\t\\t\\t\\tcontent=\"2018-09-04T02:26+0200\" />\\r\\n\\t\\t<div itemprop=\"articleBody\">\\r\\n\\t\\t\\t\\t<h2>THE PAGE COULD NOT BE FOUND</h2>\\r\\n\\r\\n<p>The page you have tried to reach, cannot be found (errorcode 404). The page may have been deleted or changed.<br />\\r\\n&nbsp;</p>\\r\\n\\r\\n<h2>WHAT MAY HAVE CAUSED THE ERROR?</h2>\\r\\n\\r\\n<ul>\\r\\n<li>The web address has been entered incorrectly</li>\\r\\n<li>The page has been moved and now has a different address</li>\\r\\n<li>The page has become outdated and removed</li>\\r\\n</ul>\\r\\n\\r\\n<h2><br />\\r\\nHOW TO PROCEED?</h2>\\r\\n\\r\\n<ul>\\r\\n<li>Check if the address is spelled correctly in the address bar</li>\\r\\n<li>Click the &#39;Back&#39; button of your browser and try another link on the page from which you came</li>\\r\\n</ul></div>\\r\\n\\t\\t</div>\\r\\n</div>\\n\\n    </div>\\n\\n    <div class=\"spotCon grid g4\">\\n         <div class=\"circle color\">\\r\\n\\t\\t\\t\\t<a href=\"https://www.en.caldiss.aau.dk/\"\\r\\n\\t\\t\\t\\t\\ttitle=\"Go to frontpage of en.caldiss.aau.dk\"> \\r\\n                                    Go to frontpage</a>\\r\\n\\t\\t</div>\\n    </div>\\n     <div class=\"clear cleargrid\"></div>\\n</div></div>\\r\\n            <!-- end wrapper in Main --></div>\\r\\n        <!-- end Main --><div class=\"push\"></div>\\r\\n    </div>\\r\\n    <!--  end stickyFooter --><!--  Footer --><div class=\"footer spotCon section\"> \\n <div class=\"footerArrow\"></div> \\n <div class=\"footerInner\"> \\n  <div class=\"wrapper\"> \\n   <div class=\"section \"> \\n    <div class=\"spotCon grid g4\"> \\n     <div itemscope itemtype=\"http://schema.org/EducationalOrganization\"> \\n      <div class=\"box white\"> \\n       <p class=\"h2\">Contact AAU</p> \\n       <p class=\"h3\"><span itemprop=\"name\">Aalborg University</span></p> \\n       <span itemprop=\"address\" itemscope itemtype=\"http://schema.org/PostalAddress\"> <span itemprop=\"streetAddress\">Fredrik Bajers Vej 5</span><br> P.O. Box 159 <span itemprop=\"postalCode\">DK-9100</span> <span itemprop=\"addressLocality\">Aalborg<br> Denmark</span><br> Phone: <span itemprop=\"telephone\">+45 9940 9940</span><p></p> <p>Mail: <span itemprop=\"email\"><a href=\"mailto:aau@aau.dk\">aau@aau.dk</a></span><br> CVRnr: 29102384<br> Eannr: <a class=\"none\" href=\"https://www.okonomi.aau.dk/digitalAssets/127/127219_ean--master--15112017--litl-kopi-.pdf\" target=\"_blank\">EAN</a></p> <p><a href=\"https://www.en.aau.dk/privacy-policy-cookies\">Privacy and use of cookies</a></p> </span>\\n      </div> \\n     </div> \\n    </div>\\n    <div class=\"spotCon grid g4\"> \\n     <div class=\"box white\" style=\"\"> \\n      <span class=\"h2\">About AAU</span> \\n      <style>\\t.link:hover {\\t\\tcolor: ;\\t}\\t\\t.color .link:hover{\\t\\tcolor: ;\\t}</style>\\n      <ul class=\"unstyled\"> \\n       <li><a class=\"inlineBlock \" href=\"https://www.en.aau.dk/about-aau/profile\" title=\"Aalborg University Profile\"> <h3 class=\"hasArrow\"> Aalborg University Profile</h3> </a> </li> \\n       <li><a class=\"inlineBlock \" href=\"https://www.en.aau.dk/about-aau/organisation-management\" title=\"Organisation and Management\"> <h3 class=\"hasArrow\"> Organisation and Management</h3> </a> </li> \\n       <li><a class=\"inlineBlock \" href=\"https://www.en.aau.dk/about-aau/figures-facts\" title=\"AAU in figures and facts\"> <h3 class=\"hasArrow\"> AAU in figures and facts</h3> </a> </li> \\n       <li><a class=\"inlineBlock \" href=\"https://www.en.aau.dk/about-aau/strategy-vision-mission\" title=\"Strategy, mission and vision\"> <h3 class=\"hasArrow\"> Strategy, mission and vision</h3> </a> </li> \\n       <li><a class=\"inlineBlock \" href=\"https://www.en.aau.dk/about-aau/strategy-vision-mission/quality-assurance\" title=\"Quality assurance of Study Programmes\"> <h3 class=\"hasArrow\"> Quality assurance of Study Programmes</h3> </a> </li> \\n       <li><a class=\"inlineBlock \" href=\"https://www.en.aau.dk/about-aau/aalborg-model-problem-based-learning\" title=\"The Aalborg Model for Problem Based Learning\"> <h3 class=\"hasArrow\"> The Aalborg Model for Problem Based Learning</h3> </a> </li> \\n       <li><a class=\"inlineBlock \" href=\"https://www.en.aau.dk/about-aau/international-cooperation\" title=\"International Cooperation\"> <h3 class=\"hasArrow\"> International Cooperation</h3> </a> </li> \\n       <li><a class=\"inlineBlock \" href=\"https://www.en.aau.dk/about-aau/history-honorary-doctors-fellows\" title=\"History, Honorary Doctors and Fellows\"> <h3 class=\"hasArrow\"> History, Honorary Doctors and Fellows</h3> </a> </li> \\n      </ul>\\n     </div> \\n    </div>\\n    <div class=\"spotCon grid g4\"> \\n     <div class=\"box white\" style=\"\"> \\n      <span class=\"h2\">Find us on social media</span> \\n      <style>\\t.link:hover {\\t\\tcolor: ;\\t}\\t\\t.color .link:hover{\\t\\tcolor: ;\\t}</style>\\n      <ul class=\"unstyled\"> \\n       <li><a class=\"inlineBlock \" href=\"https://www.facebook.com/InternationalOfficeAalborgUniversity\" title=\"Facebook\"> <h3 class=\"hasArrow\"> Facebook</h3> </a> </li> \\n       <li><a class=\"inlineBlock \" href=\"https://www.youtube.com/aalborguniversitet\" title=\"YouTube\"> <h3 class=\"hasArrow\"> YouTube</h3> </a> </li> \\n      </ul>\\n     </div> \\n    </div> \\n    <div class=\"clear cleargrid\"></div>\\n   </div> \\n  </div> \\n </div> \\n</div><!--  end Footer --><!--  CookieNotification --><div class=\"cookieNotification color hidden\">\\r\\n        <div class=\"wrapper\">\\r\\n            <div class=\"section\">\\r\\n                <div class=\"spotCon grid g8\">\\r\\n                    <div class=\"box color\"><h2>aau.dk uses cookies</h2><p>aau.dk uses cookies in order to generate usage statistics</p><p>You can read about our usage of your data and how to block cookies in <a href=\"https://www.aau.dk/om-cookies\">the AAU cookie policy</a>.</p></div>\\r\\n                </div>\\r\\n\\r\\n                <div class=\"spotCon grid g4\">\\r\\n                    <div class=\"box color\"><p><a href=\".\" class=\"cookieAccept smallButton x\">Close this message</a></p></div>\\r\\n                </div>\\r\\n            </div>\\r\\n        </div>\\r\\n    </div>\\r\\n    <!--  end CookieNotification --><script type=\"text/javascript\" src=\"https://ajax.googleapis.com/ajax/libs/jquery/1.8.1/jquery.min.js\"></script>\\r\\n    <script type=\"text/javascript\" src=\"https://www.resources.aau.dk/design2013/resources/js/jquery.marquee.min.js\"></script>\\r\\n    <script type=\"text/javascript\" src=\"https://www.resources.aau.dk/design2013/resources/js/jquery.hoverIntent.minified.js\"></script>\\r\\n    <script type=\"text/javascript\" src=\"https://www.resources.aau.dk/design2013/resources/js/selectivizr.min.js\"></script>\\r\\n    <script type=\"text/javascript\" src=\"https://www.resources.aau.dk/design2013/resources/js/jquery.carouFredSel-5.6.4-packed.js\"></script>\\r\\n    <script type=\"text/javascript\" src=\"https://www.resources.aau.dk/design2013/resources/js/waypoint.js\"></script>\\r\\n    <script type=\"text/javascript\" src=\"https://www.resources.aau.dk/design2013/resources/js/modernizr.custom.all.js\"></script>\\r\\n    <script type=\"text/javascript\" src=\"https://www.resources.aau.dk/design2013/resources/js/jquery.cookie.min.js\"></script>\\r\\n    <script type=\"text/javascript\" src=\"https://www.resources.aau.dk/design2013/resources/js/print.min.js\"></script>\\r\\n    <script type=\"text/javascript\" src=\"https://www.resources.aau.dk/design2013/resources/js/script.min.js\"></script>\\r\\n    <script type=\"text/javascript\" src=\"https://www.resources.aau.dk/design2013/resources/js/jquery.fancybox.min.js\"></script>\\r\\n    <script type=\"text/javascript\" src=\"https://www.resources.aau.dk/design2013/resources/js/studyGuideSearch.js\"></script>\\r\\n\\r\\n    <script type=\"text/javascript\">\\r\\n\\t\\t$(document).ready(function() {\\r\\n\\t\\t\\t$(\".fancybox\").fancybox({\\r\\n\\t\\t\\t\\tmaxWidth\\t: 800,\\r\\n\\t\\t\\t\\tmaxHeight\\t: 600,\\r\\n\\t\\t\\t\\tfitToView\\t: false,\\r\\n\\t\\t\\t\\twidth\\t\\t: \"70%\",\\r\\n\\t\\t\\t\\theight\\t\\t: \"70%\",\\r\\n\\t\\t\\t\\thelpers : {\\r\\n\\t\\t\\t        overlay : {\\r\\n\\t\\t\\t            css : {\\r\\n\\t\\t\\t                \"background\" : \"rgba(0, 0, 0, 0.5)\"\\r\\n\\t\\t\\t            }\\r\\n\\t\\t\\t        }\\r\\n\\t\\t\\t    }\\r\\n\\t\\t\\t});\\r\\n\\t\\t});\\r\\n\\t</script>\\r\\n</body>\\r\\n</html>\\r\\n\\n\\n'\n"
     ]
    }
   ],
   "source": [
    "invalid_subhtml = invalid_subget.content\n",
    "print(invalid_subhtml)"
   ]
  },
  {
   "cell_type": "markdown",
   "metadata": {},
   "source": [
    "# Image Scraper\n",
    "\n",
    "Using output from image scraper, we can write a short script to download all the images on a website."
   ]
  },
  {
   "cell_type": "code",
   "execution_count": 79,
   "metadata": {},
   "outputs": [],
   "source": [
    "import urllib.request\n",
    "import pandas as pd\n",
    "\n",
    "image_df = pd.read_csv('caldiss_imgurls.csv', sep = \",\", skiprows = 1, header=None)  #Read the DMI image scraper output as a pandas dataframe\n",
    "image_urls = list(image_df.loc[:,1])  #Extract the image URL's and store them in a list\n",
    "\n",
    "i = 1  #Setting i to 1 - using it as identifier\n",
    "for url in image_urls:  #Loops through each URL\n",
    "    j = str(i)\n",
    "    url = url\n",
    "    img_path = \"caldissimg\" + j + \".png\"  #Creates the imagepath - assumes all images are .png!\n",
    "    urllib.request.urlretrieve(url, filename = \"./images/\" + img_path)  #Saves the image to the folder \"images\" - has to be created first!\n",
    "    i = i + 1  #Increases i with 1"
   ]
  },
  {
   "cell_type": "markdown",
   "metadata": {},
   "source": [
    "# Search Engine Scraper\n",
    "\n",
    "The output of the search engine scraper from the Digital Methods Initiative can be used in a spider to extract content from sites returned from google's search results."
   ]
  },
  {
   "cell_type": "code",
   "execution_count": 43,
   "metadata": {},
   "outputs": [
    {
     "data": {
      "text/plain": [
       "['https://podtail.com/da/podcasts/dk/education/',\n",
       " 'https://podtail.com/da/podcasts/es/education/new/',\n",
       " 'https://podtail.com/da/podcasts/education/',\n",
       " 'https://podtail.com/da/podcasts/se/education/new/',\n",
       " 'https://podtail.com/da/podcasts/all/education/new/',\n",
       " 'https://podtail.com/da/podcasts/no/education/new/',\n",
       " 'https://podtail.com/da/podcasts/cn/education/new/',\n",
       " 'https://podtail.com/da/podcasts/au/education/',\n",
       " 'https://interreg-oks.eu/webdav/files/gamla-projektbanken/se/Menu/Projektbank+2007-2013/Forprojekt-oresund/INDEX-+Education+Program.html',\n",
       " 'https://www.sasgroup.net/en/about-the-education/']"
      ]
     },
     "execution_count": 43,
     "metadata": {},
     "output_type": "execute_result"
    }
   ],
   "source": [
    "import pandas as pd\n",
    "import scrapy\n",
    "from scrapy import Selector\n",
    "import time\n",
    "import random\n",
    "\n",
    "swed_df = pd.read_csv('swed_goog.csv', sep = '\\t')\n",
    "swed_urls = list(swed_df['article url'])\n",
    "swed_urls"
   ]
  },
  {
   "cell_type": "markdown",
   "metadata": {},
   "source": [
    "After reading in the list of URL's, we can loop through them and extract specific elements of each."
   ]
  },
  {
   "cell_type": "code",
   "execution_count": 52,
   "metadata": {},
   "outputs": [
    {
     "name": "stderr",
     "output_type": "stream",
     "text": [
      "2019-04-01 21:50:13 [urllib3.connectionpool] DEBUG: Starting new HTTPS connection (1): podtail.com\n",
      "2019-04-01 21:50:13 [urllib3.connectionpool] DEBUG: https://podtail.com:443 \"GET /da/podcasts/dk/education/ HTTP/1.1\" 200 None\n",
      "2019-04-01 21:50:16 [urllib3.connectionpool] DEBUG: Starting new HTTPS connection (1): podtail.com\n",
      "2019-04-01 21:50:16 [urllib3.connectionpool] DEBUG: https://podtail.com:443 \"GET /da/podcasts/es/education/new/ HTTP/1.1\" 200 None\n",
      "2019-04-01 21:50:18 [urllib3.connectionpool] DEBUG: Starting new HTTPS connection (1): podtail.com\n",
      "2019-04-01 21:50:19 [urllib3.connectionpool] DEBUG: https://podtail.com:443 \"GET /da/podcasts/education/ HTTP/1.1\" 200 None\n",
      "2019-04-01 21:50:20 [urllib3.connectionpool] DEBUG: Starting new HTTPS connection (1): podtail.com\n",
      "2019-04-01 21:50:21 [urllib3.connectionpool] DEBUG: https://podtail.com:443 \"GET /da/podcasts/se/education/new/ HTTP/1.1\" 200 None\n",
      "2019-04-01 21:50:23 [urllib3.connectionpool] DEBUG: Starting new HTTPS connection (1): podtail.com\n",
      "2019-04-01 21:50:24 [urllib3.connectionpool] DEBUG: https://podtail.com:443 \"GET /da/podcasts/all/education/new/ HTTP/1.1\" 200 None\n",
      "2019-04-01 21:50:26 [urllib3.connectionpool] DEBUG: Starting new HTTPS connection (1): podtail.com\n",
      "2019-04-01 21:50:27 [urllib3.connectionpool] DEBUG: https://podtail.com:443 \"GET /da/podcasts/no/education/new/ HTTP/1.1\" 200 None\n",
      "2019-04-01 21:50:28 [urllib3.connectionpool] DEBUG: Starting new HTTPS connection (1): podtail.com\n",
      "2019-04-01 21:50:29 [urllib3.connectionpool] DEBUG: https://podtail.com:443 \"GET /da/podcasts/cn/education/new/ HTTP/1.1\" 200 None\n",
      "2019-04-01 21:50:30 [urllib3.connectionpool] DEBUG: Starting new HTTPS connection (1): podtail.com\n",
      "2019-04-01 21:50:30 [urllib3.connectionpool] DEBUG: https://podtail.com:443 \"GET /da/podcasts/au/education/ HTTP/1.1\" 200 None\n",
      "2019-04-01 21:50:31 [urllib3.connectionpool] DEBUG: Starting new HTTPS connection (1): interreg-oks.eu\n",
      "2019-04-01 21:50:31 [urllib3.connectionpool] DEBUG: https://interreg-oks.eu:443 \"GET /webdav/files/gamla-projektbanken/se/Menu/Projektbank+2007-2013/Forprojekt-oresund/INDEX-+Education+Program.html HTTP/1.1\" 200 None\n",
      "2019-04-01 21:50:33 [urllib3.connectionpool] DEBUG: Starting new HTTPS connection (1): www.sasgroup.net\n",
      "2019-04-01 21:50:34 [urllib3.connectionpool] DEBUG: https://www.sasgroup.net:443 \"GET /en/about-the-education/ HTTP/1.1\" 200 19433\n"
     ]
    }
   ],
   "source": [
    "swed_titles = []\n",
    "for url in swed_url:\n",
    "    time_delay = random.uniform(1,3)\n",
    "    time.sleep(time_delay)\n",
    "    \n",
    "    url_html = requests.get(url).content\n",
    "    url_sel = Selector(text = url_html)\n",
    "    \n",
    "    title = url_sel.css('title::text').extract_first()\n",
    "    \n",
    "    swed_titles.append(title)\n",
    "    "
   ]
  },
  {
   "cell_type": "markdown",
   "metadata": {},
   "source": [
    "The title elements of the sites are now stores in the list `swed_titles`."
   ]
  },
  {
   "cell_type": "code",
   "execution_count": 53,
   "metadata": {},
   "outputs": [
    {
     "data": {
      "text/plain": [
       "['Education – Denmark – Anbefalede podcasts – Podtail',\n",
       " 'Education – Spain – Nye podcasts – Podtail',\n",
       " 'Education – Anbefalede podcasts – Podtail',\n",
       " 'Education – Sweden – Nye podcasts – Podtail',\n",
       " 'Education – Nye podcasts – Podtail',\n",
       " 'Education – Norway – Nye podcasts – Podtail',\n",
       " 'Education – China – Nye podcasts – Podtail',\n",
       " 'Education – Australia – Anbefalede podcasts – Podtail',\n",
       " 'Interreg IVA ÖKS - INDEX: Education Program',\n",
       " 'About the education – SAS']"
      ]
     },
     "execution_count": 53,
     "metadata": {},
     "output_type": "execute_result"
    }
   ],
   "source": [
    "swed_titles"
   ]
  },
  {
   "cell_type": "code",
   "execution_count": 54,
   "metadata": {},
   "outputs": [
    {
     "data": {
      "text/plain": [
       "['https://www.cyberwyoming.org/education-and-training/',\n",
       " 'https://www.cyberwyoming.org/education-collaboration/',\n",
       " 'https://www.cyberwyoming.org/',\n",
       " 'https://ultimateaccesseducation.com/',\n",
       " 'http://www.workingin-australia.com/education/system/overview',\n",
       " 'http://www.workingin-australia.com/education/universities/tertiary-education',\n",
       " 'https://misfitteachers.com/education-is-power-but-do-your-students-know-it/',\n",
       " 'http://www.unesco.org.ve/dmdocuments/biblioteca/libros/national_report_dominica_erma_alfred.pdf',\n",
       " 'https://www.iaoed.org/',\n",
       " 'http://www.tylerhistory.org/education-racism/']"
      ]
     },
     "execution_count": 54,
     "metadata": {},
     "output_type": "execute_result"
    }
   ],
   "source": [
    "venez_df = pd.read_csv('venez_goog.csv', sep = '\\t')\n",
    "venez_urls = list(venez_df['article url'])\n",
    "venez_urls"
   ]
  },
  {
   "cell_type": "code",
   "execution_count": 50,
   "metadata": {},
   "outputs": [
    {
     "name": "stderr",
     "output_type": "stream",
     "text": [
      "2019-04-01 21:48:24 [urllib3.connectionpool] DEBUG: Starting new HTTPS connection (1): www.cyberwyoming.org\n",
      "2019-04-01 21:48:28 [urllib3.connectionpool] DEBUG: https://www.cyberwyoming.org:443 \"GET /education-and-training/ HTTP/1.1\" 200 9820\n",
      "2019-04-01 21:48:31 [urllib3.connectionpool] DEBUG: Starting new HTTPS connection (1): www.cyberwyoming.org\n",
      "2019-04-01 21:48:32 [urllib3.connectionpool] DEBUG: https://www.cyberwyoming.org:443 \"GET /education-collaboration/ HTTP/1.1\" 200 10350\n",
      "2019-04-01 21:48:34 [urllib3.connectionpool] DEBUG: Starting new HTTPS connection (1): www.cyberwyoming.org\n",
      "2019-04-01 21:48:35 [urllib3.connectionpool] DEBUG: https://www.cyberwyoming.org:443 \"GET / HTTP/1.1\" 200 11251\n",
      "2019-04-01 21:48:37 [urllib3.connectionpool] DEBUG: Starting new HTTPS connection (1): ultimateaccesseducation.com\n",
      "2019-04-01 21:48:39 [urllib3.connectionpool] DEBUG: https://ultimateaccesseducation.com:443 \"GET / HTTP/1.1\" 200 None\n",
      "2019-04-01 21:48:42 [urllib3.connectionpool] DEBUG: Starting new HTTP connection (1): www.workingin-australia.com\n",
      "2019-04-01 21:48:43 [urllib3.connectionpool] DEBUG: http://www.workingin-australia.com:80 \"GET /education/system/overview HTTP/1.1\" 200 None\n",
      "2019-04-01 21:48:46 [urllib3.connectionpool] DEBUG: Starting new HTTP connection (1): www.workingin-australia.com\n",
      "2019-04-01 21:48:47 [urllib3.connectionpool] DEBUG: http://www.workingin-australia.com:80 \"GET /education/universities/tertiary-education HTTP/1.1\" 200 None\n",
      "2019-04-01 21:48:49 [urllib3.connectionpool] DEBUG: Starting new HTTPS connection (1): misfitteachers.com\n",
      "2019-04-01 21:48:52 [urllib3.connectionpool] DEBUG: https://misfitteachers.com:443 \"GET /education-is-power-but-do-your-students-know-it/ HTTP/1.1\" 200 28297\n",
      "2019-04-01 21:48:54 [urllib3.connectionpool] DEBUG: Starting new HTTP connection (1): www.unesco.org.ve\n"
     ]
    },
    {
     "ename": "ConnectionError",
     "evalue": "HTTPConnectionPool(host='www.unesco.org.ve', port=80): Max retries exceeded with url: /dmdocuments/biblioteca/libros/national_report_dominica_erma_alfred.pdf (Caused by NewConnectionError('<urllib3.connection.HTTPConnection object at 0x00000253847285C0>: Failed to establish a new connection: [Errno 11001] getaddrinfo failed',))",
     "output_type": "error",
     "traceback": [
      "\u001b[1;31m---------------------------------------------------------------------------\u001b[0m",
      "\u001b[1;31mgaierror\u001b[0m                                  Traceback (most recent call last)",
      "\u001b[1;32mC:\\programs\\Continuum\\anaconda3\\lib\\site-packages\\urllib3\\connection.py\u001b[0m in \u001b[0;36m_new_conn\u001b[1;34m(self)\u001b[0m\n\u001b[0;32m    140\u001b[0m             conn = connection.create_connection(\n\u001b[1;32m--> 141\u001b[1;33m                 (self.host, self.port), self.timeout, **extra_kw)\n\u001b[0m\u001b[0;32m    142\u001b[0m \u001b[1;33m\u001b[0m\u001b[0m\n",
      "\u001b[1;32mC:\\programs\\Continuum\\anaconda3\\lib\\site-packages\\urllib3\\util\\connection.py\u001b[0m in \u001b[0;36mcreate_connection\u001b[1;34m(address, timeout, source_address, socket_options)\u001b[0m\n\u001b[0;32m     59\u001b[0m \u001b[1;33m\u001b[0m\u001b[0m\n\u001b[1;32m---> 60\u001b[1;33m     \u001b[1;32mfor\u001b[0m \u001b[0mres\u001b[0m \u001b[1;32min\u001b[0m \u001b[0msocket\u001b[0m\u001b[1;33m.\u001b[0m\u001b[0mgetaddrinfo\u001b[0m\u001b[1;33m(\u001b[0m\u001b[0mhost\u001b[0m\u001b[1;33m,\u001b[0m \u001b[0mport\u001b[0m\u001b[1;33m,\u001b[0m \u001b[0mfamily\u001b[0m\u001b[1;33m,\u001b[0m \u001b[0msocket\u001b[0m\u001b[1;33m.\u001b[0m\u001b[0mSOCK_STREAM\u001b[0m\u001b[1;33m)\u001b[0m\u001b[1;33m:\u001b[0m\u001b[1;33m\u001b[0m\u001b[0m\n\u001b[0m\u001b[0;32m     61\u001b[0m         \u001b[0maf\u001b[0m\u001b[1;33m,\u001b[0m \u001b[0msocktype\u001b[0m\u001b[1;33m,\u001b[0m \u001b[0mproto\u001b[0m\u001b[1;33m,\u001b[0m \u001b[0mcanonname\u001b[0m\u001b[1;33m,\u001b[0m \u001b[0msa\u001b[0m \u001b[1;33m=\u001b[0m \u001b[0mres\u001b[0m\u001b[1;33m\u001b[0m\u001b[0m\n",
      "\u001b[1;32mC:\\programs\\Continuum\\anaconda3\\lib\\socket.py\u001b[0m in \u001b[0;36mgetaddrinfo\u001b[1;34m(host, port, family, type, proto, flags)\u001b[0m\n\u001b[0;32m    744\u001b[0m     \u001b[0maddrlist\u001b[0m \u001b[1;33m=\u001b[0m \u001b[1;33m[\u001b[0m\u001b[1;33m]\u001b[0m\u001b[1;33m\u001b[0m\u001b[0m\n\u001b[1;32m--> 745\u001b[1;33m     \u001b[1;32mfor\u001b[0m \u001b[0mres\u001b[0m \u001b[1;32min\u001b[0m \u001b[0m_socket\u001b[0m\u001b[1;33m.\u001b[0m\u001b[0mgetaddrinfo\u001b[0m\u001b[1;33m(\u001b[0m\u001b[0mhost\u001b[0m\u001b[1;33m,\u001b[0m \u001b[0mport\u001b[0m\u001b[1;33m,\u001b[0m \u001b[0mfamily\u001b[0m\u001b[1;33m,\u001b[0m \u001b[0mtype\u001b[0m\u001b[1;33m,\u001b[0m \u001b[0mproto\u001b[0m\u001b[1;33m,\u001b[0m \u001b[0mflags\u001b[0m\u001b[1;33m)\u001b[0m\u001b[1;33m:\u001b[0m\u001b[1;33m\u001b[0m\u001b[0m\n\u001b[0m\u001b[0;32m    746\u001b[0m         \u001b[0maf\u001b[0m\u001b[1;33m,\u001b[0m \u001b[0msocktype\u001b[0m\u001b[1;33m,\u001b[0m \u001b[0mproto\u001b[0m\u001b[1;33m,\u001b[0m \u001b[0mcanonname\u001b[0m\u001b[1;33m,\u001b[0m \u001b[0msa\u001b[0m \u001b[1;33m=\u001b[0m \u001b[0mres\u001b[0m\u001b[1;33m\u001b[0m\u001b[0m\n",
      "\u001b[1;31mgaierror\u001b[0m: [Errno 11001] getaddrinfo failed",
      "\nDuring handling of the above exception, another exception occurred:\n",
      "\u001b[1;31mNewConnectionError\u001b[0m                        Traceback (most recent call last)",
      "\u001b[1;32mC:\\programs\\Continuum\\anaconda3\\lib\\site-packages\\urllib3\\connectionpool.py\u001b[0m in \u001b[0;36murlopen\u001b[1;34m(self, method, url, body, headers, retries, redirect, assert_same_host, timeout, pool_timeout, release_conn, chunked, body_pos, **response_kw)\u001b[0m\n\u001b[0;32m    600\u001b[0m                                                   \u001b[0mbody\u001b[0m\u001b[1;33m=\u001b[0m\u001b[0mbody\u001b[0m\u001b[1;33m,\u001b[0m \u001b[0mheaders\u001b[0m\u001b[1;33m=\u001b[0m\u001b[0mheaders\u001b[0m\u001b[1;33m,\u001b[0m\u001b[1;33m\u001b[0m\u001b[0m\n\u001b[1;32m--> 601\u001b[1;33m                                                   chunked=chunked)\n\u001b[0m\u001b[0;32m    602\u001b[0m \u001b[1;33m\u001b[0m\u001b[0m\n",
      "\u001b[1;32mC:\\programs\\Continuum\\anaconda3\\lib\\site-packages\\urllib3\\connectionpool.py\u001b[0m in \u001b[0;36m_make_request\u001b[1;34m(self, conn, method, url, timeout, chunked, **httplib_request_kw)\u001b[0m\n\u001b[0;32m    356\u001b[0m         \u001b[1;32melse\u001b[0m\u001b[1;33m:\u001b[0m\u001b[1;33m\u001b[0m\u001b[0m\n\u001b[1;32m--> 357\u001b[1;33m             \u001b[0mconn\u001b[0m\u001b[1;33m.\u001b[0m\u001b[0mrequest\u001b[0m\u001b[1;33m(\u001b[0m\u001b[0mmethod\u001b[0m\u001b[1;33m,\u001b[0m \u001b[0murl\u001b[0m\u001b[1;33m,\u001b[0m \u001b[1;33m**\u001b[0m\u001b[0mhttplib_request_kw\u001b[0m\u001b[1;33m)\u001b[0m\u001b[1;33m\u001b[0m\u001b[0m\n\u001b[0m\u001b[0;32m    358\u001b[0m \u001b[1;33m\u001b[0m\u001b[0m\n",
      "\u001b[1;32mC:\\programs\\Continuum\\anaconda3\\lib\\http\\client.py\u001b[0m in \u001b[0;36mrequest\u001b[1;34m(self, method, url, body, headers, encode_chunked)\u001b[0m\n\u001b[0;32m   1238\u001b[0m         \u001b[1;34m\"\"\"Send a complete request to the server.\"\"\"\u001b[0m\u001b[1;33m\u001b[0m\u001b[0m\n\u001b[1;32m-> 1239\u001b[1;33m         \u001b[0mself\u001b[0m\u001b[1;33m.\u001b[0m\u001b[0m_send_request\u001b[0m\u001b[1;33m(\u001b[0m\u001b[0mmethod\u001b[0m\u001b[1;33m,\u001b[0m \u001b[0murl\u001b[0m\u001b[1;33m,\u001b[0m \u001b[0mbody\u001b[0m\u001b[1;33m,\u001b[0m \u001b[0mheaders\u001b[0m\u001b[1;33m,\u001b[0m \u001b[0mencode_chunked\u001b[0m\u001b[1;33m)\u001b[0m\u001b[1;33m\u001b[0m\u001b[0m\n\u001b[0m\u001b[0;32m   1240\u001b[0m \u001b[1;33m\u001b[0m\u001b[0m\n",
      "\u001b[1;32mC:\\programs\\Continuum\\anaconda3\\lib\\http\\client.py\u001b[0m in \u001b[0;36m_send_request\u001b[1;34m(self, method, url, body, headers, encode_chunked)\u001b[0m\n\u001b[0;32m   1284\u001b[0m             \u001b[0mbody\u001b[0m \u001b[1;33m=\u001b[0m \u001b[0m_encode\u001b[0m\u001b[1;33m(\u001b[0m\u001b[0mbody\u001b[0m\u001b[1;33m,\u001b[0m \u001b[1;34m'body'\u001b[0m\u001b[1;33m)\u001b[0m\u001b[1;33m\u001b[0m\u001b[0m\n\u001b[1;32m-> 1285\u001b[1;33m         \u001b[0mself\u001b[0m\u001b[1;33m.\u001b[0m\u001b[0mendheaders\u001b[0m\u001b[1;33m(\u001b[0m\u001b[0mbody\u001b[0m\u001b[1;33m,\u001b[0m \u001b[0mencode_chunked\u001b[0m\u001b[1;33m=\u001b[0m\u001b[0mencode_chunked\u001b[0m\u001b[1;33m)\u001b[0m\u001b[1;33m\u001b[0m\u001b[0m\n\u001b[0m\u001b[0;32m   1286\u001b[0m \u001b[1;33m\u001b[0m\u001b[0m\n",
      "\u001b[1;32mC:\\programs\\Continuum\\anaconda3\\lib\\http\\client.py\u001b[0m in \u001b[0;36mendheaders\u001b[1;34m(self, message_body, encode_chunked)\u001b[0m\n\u001b[0;32m   1233\u001b[0m             \u001b[1;32mraise\u001b[0m \u001b[0mCannotSendHeader\u001b[0m\u001b[1;33m(\u001b[0m\u001b[1;33m)\u001b[0m\u001b[1;33m\u001b[0m\u001b[0m\n\u001b[1;32m-> 1234\u001b[1;33m         \u001b[0mself\u001b[0m\u001b[1;33m.\u001b[0m\u001b[0m_send_output\u001b[0m\u001b[1;33m(\u001b[0m\u001b[0mmessage_body\u001b[0m\u001b[1;33m,\u001b[0m \u001b[0mencode_chunked\u001b[0m\u001b[1;33m=\u001b[0m\u001b[0mencode_chunked\u001b[0m\u001b[1;33m)\u001b[0m\u001b[1;33m\u001b[0m\u001b[0m\n\u001b[0m\u001b[0;32m   1235\u001b[0m \u001b[1;33m\u001b[0m\u001b[0m\n",
      "\u001b[1;32mC:\\programs\\Continuum\\anaconda3\\lib\\http\\client.py\u001b[0m in \u001b[0;36m_send_output\u001b[1;34m(self, message_body, encode_chunked)\u001b[0m\n\u001b[0;32m   1025\u001b[0m         \u001b[1;32mdel\u001b[0m \u001b[0mself\u001b[0m\u001b[1;33m.\u001b[0m\u001b[0m_buffer\u001b[0m\u001b[1;33m[\u001b[0m\u001b[1;33m:\u001b[0m\u001b[1;33m]\u001b[0m\u001b[1;33m\u001b[0m\u001b[0m\n\u001b[1;32m-> 1026\u001b[1;33m         \u001b[0mself\u001b[0m\u001b[1;33m.\u001b[0m\u001b[0msend\u001b[0m\u001b[1;33m(\u001b[0m\u001b[0mmsg\u001b[0m\u001b[1;33m)\u001b[0m\u001b[1;33m\u001b[0m\u001b[0m\n\u001b[0m\u001b[0;32m   1027\u001b[0m \u001b[1;33m\u001b[0m\u001b[0m\n",
      "\u001b[1;32mC:\\programs\\Continuum\\anaconda3\\lib\\http\\client.py\u001b[0m in \u001b[0;36msend\u001b[1;34m(self, data)\u001b[0m\n\u001b[0;32m    963\u001b[0m             \u001b[1;32mif\u001b[0m \u001b[0mself\u001b[0m\u001b[1;33m.\u001b[0m\u001b[0mauto_open\u001b[0m\u001b[1;33m:\u001b[0m\u001b[1;33m\u001b[0m\u001b[0m\n\u001b[1;32m--> 964\u001b[1;33m                 \u001b[0mself\u001b[0m\u001b[1;33m.\u001b[0m\u001b[0mconnect\u001b[0m\u001b[1;33m(\u001b[0m\u001b[1;33m)\u001b[0m\u001b[1;33m\u001b[0m\u001b[0m\n\u001b[0m\u001b[0;32m    965\u001b[0m             \u001b[1;32melse\u001b[0m\u001b[1;33m:\u001b[0m\u001b[1;33m\u001b[0m\u001b[0m\n",
      "\u001b[1;32mC:\\programs\\Continuum\\anaconda3\\lib\\site-packages\\urllib3\\connection.py\u001b[0m in \u001b[0;36mconnect\u001b[1;34m(self)\u001b[0m\n\u001b[0;32m    165\u001b[0m     \u001b[1;32mdef\u001b[0m \u001b[0mconnect\u001b[0m\u001b[1;33m(\u001b[0m\u001b[0mself\u001b[0m\u001b[1;33m)\u001b[0m\u001b[1;33m:\u001b[0m\u001b[1;33m\u001b[0m\u001b[0m\n\u001b[1;32m--> 166\u001b[1;33m         \u001b[0mconn\u001b[0m \u001b[1;33m=\u001b[0m \u001b[0mself\u001b[0m\u001b[1;33m.\u001b[0m\u001b[0m_new_conn\u001b[0m\u001b[1;33m(\u001b[0m\u001b[1;33m)\u001b[0m\u001b[1;33m\u001b[0m\u001b[0m\n\u001b[0m\u001b[0;32m    167\u001b[0m         \u001b[0mself\u001b[0m\u001b[1;33m.\u001b[0m\u001b[0m_prepare_conn\u001b[0m\u001b[1;33m(\u001b[0m\u001b[0mconn\u001b[0m\u001b[1;33m)\u001b[0m\u001b[1;33m\u001b[0m\u001b[0m\n",
      "\u001b[1;32mC:\\programs\\Continuum\\anaconda3\\lib\\site-packages\\urllib3\\connection.py\u001b[0m in \u001b[0;36m_new_conn\u001b[1;34m(self)\u001b[0m\n\u001b[0;32m    149\u001b[0m             raise NewConnectionError(\n\u001b[1;32m--> 150\u001b[1;33m                 self, \"Failed to establish a new connection: %s\" % e)\n\u001b[0m\u001b[0;32m    151\u001b[0m \u001b[1;33m\u001b[0m\u001b[0m\n",
      "\u001b[1;31mNewConnectionError\u001b[0m: <urllib3.connection.HTTPConnection object at 0x00000253847285C0>: Failed to establish a new connection: [Errno 11001] getaddrinfo failed",
      "\nDuring handling of the above exception, another exception occurred:\n",
      "\u001b[1;31mMaxRetryError\u001b[0m                             Traceback (most recent call last)",
      "\u001b[1;32mC:\\programs\\Continuum\\anaconda3\\lib\\site-packages\\requests\\adapters.py\u001b[0m in \u001b[0;36msend\u001b[1;34m(self, request, stream, timeout, verify, cert, proxies)\u001b[0m\n\u001b[0;32m    439\u001b[0m                     \u001b[0mretries\u001b[0m\u001b[1;33m=\u001b[0m\u001b[0mself\u001b[0m\u001b[1;33m.\u001b[0m\u001b[0mmax_retries\u001b[0m\u001b[1;33m,\u001b[0m\u001b[1;33m\u001b[0m\u001b[0m\n\u001b[1;32m--> 440\u001b[1;33m                     \u001b[0mtimeout\u001b[0m\u001b[1;33m=\u001b[0m\u001b[0mtimeout\u001b[0m\u001b[1;33m\u001b[0m\u001b[0m\n\u001b[0m\u001b[0;32m    441\u001b[0m                 )\n",
      "\u001b[1;32mC:\\programs\\Continuum\\anaconda3\\lib\\site-packages\\urllib3\\connectionpool.py\u001b[0m in \u001b[0;36murlopen\u001b[1;34m(self, method, url, body, headers, retries, redirect, assert_same_host, timeout, pool_timeout, release_conn, chunked, body_pos, **response_kw)\u001b[0m\n\u001b[0;32m    638\u001b[0m             retries = retries.increment(method, url, error=e, _pool=self,\n\u001b[1;32m--> 639\u001b[1;33m                                         _stacktrace=sys.exc_info()[2])\n\u001b[0m\u001b[0;32m    640\u001b[0m             \u001b[0mretries\u001b[0m\u001b[1;33m.\u001b[0m\u001b[0msleep\u001b[0m\u001b[1;33m(\u001b[0m\u001b[1;33m)\u001b[0m\u001b[1;33m\u001b[0m\u001b[0m\n",
      "\u001b[1;32mC:\\programs\\Continuum\\anaconda3\\lib\\site-packages\\urllib3\\util\\retry.py\u001b[0m in \u001b[0;36mincrement\u001b[1;34m(self, method, url, response, error, _pool, _stacktrace)\u001b[0m\n\u001b[0;32m    387\u001b[0m         \u001b[1;32mif\u001b[0m \u001b[0mnew_retry\u001b[0m\u001b[1;33m.\u001b[0m\u001b[0mis_exhausted\u001b[0m\u001b[1;33m(\u001b[0m\u001b[1;33m)\u001b[0m\u001b[1;33m:\u001b[0m\u001b[1;33m\u001b[0m\u001b[0m\n\u001b[1;32m--> 388\u001b[1;33m             \u001b[1;32mraise\u001b[0m \u001b[0mMaxRetryError\u001b[0m\u001b[1;33m(\u001b[0m\u001b[0m_pool\u001b[0m\u001b[1;33m,\u001b[0m \u001b[0murl\u001b[0m\u001b[1;33m,\u001b[0m \u001b[0merror\u001b[0m \u001b[1;32mor\u001b[0m \u001b[0mResponseError\u001b[0m\u001b[1;33m(\u001b[0m\u001b[0mcause\u001b[0m\u001b[1;33m)\u001b[0m\u001b[1;33m)\u001b[0m\u001b[1;33m\u001b[0m\u001b[0m\n\u001b[0m\u001b[0;32m    389\u001b[0m \u001b[1;33m\u001b[0m\u001b[0m\n",
      "\u001b[1;31mMaxRetryError\u001b[0m: HTTPConnectionPool(host='www.unesco.org.ve', port=80): Max retries exceeded with url: /dmdocuments/biblioteca/libros/national_report_dominica_erma_alfred.pdf (Caused by NewConnectionError('<urllib3.connection.HTTPConnection object at 0x00000253847285C0>: Failed to establish a new connection: [Errno 11001] getaddrinfo failed',))",
      "\nDuring handling of the above exception, another exception occurred:\n",
      "\u001b[1;31mConnectionError\u001b[0m                           Traceback (most recent call last)",
      "\u001b[1;32m<ipython-input-50-cc3e865c1c1b>\u001b[0m in \u001b[0;36m<module>\u001b[1;34m()\u001b[0m\n\u001b[0;32m      4\u001b[0m     \u001b[0mtime\u001b[0m\u001b[1;33m.\u001b[0m\u001b[0msleep\u001b[0m\u001b[1;33m(\u001b[0m\u001b[0mtime_delay\u001b[0m\u001b[1;33m)\u001b[0m\u001b[1;33m\u001b[0m\u001b[0m\n\u001b[0;32m      5\u001b[0m \u001b[1;33m\u001b[0m\u001b[0m\n\u001b[1;32m----> 6\u001b[1;33m     \u001b[0murl_html\u001b[0m \u001b[1;33m=\u001b[0m \u001b[0mrequests\u001b[0m\u001b[1;33m.\u001b[0m\u001b[0mget\u001b[0m\u001b[1;33m(\u001b[0m\u001b[0murl\u001b[0m\u001b[1;33m)\u001b[0m\u001b[1;33m.\u001b[0m\u001b[0mcontent\u001b[0m\u001b[1;33m\u001b[0m\u001b[0m\n\u001b[0m\u001b[0;32m      7\u001b[0m     \u001b[0murl_sel\u001b[0m \u001b[1;33m=\u001b[0m \u001b[0mSelector\u001b[0m\u001b[1;33m(\u001b[0m\u001b[0mtext\u001b[0m \u001b[1;33m=\u001b[0m \u001b[0murl_html\u001b[0m\u001b[1;33m)\u001b[0m\u001b[1;33m\u001b[0m\u001b[0m\n\u001b[0;32m      8\u001b[0m \u001b[1;33m\u001b[0m\u001b[0m\n",
      "\u001b[1;32mC:\\programs\\Continuum\\anaconda3\\lib\\site-packages\\requests\\api.py\u001b[0m in \u001b[0;36mget\u001b[1;34m(url, params, **kwargs)\u001b[0m\n\u001b[0;32m     70\u001b[0m \u001b[1;33m\u001b[0m\u001b[0m\n\u001b[0;32m     71\u001b[0m     \u001b[0mkwargs\u001b[0m\u001b[1;33m.\u001b[0m\u001b[0msetdefault\u001b[0m\u001b[1;33m(\u001b[0m\u001b[1;34m'allow_redirects'\u001b[0m\u001b[1;33m,\u001b[0m \u001b[1;32mTrue\u001b[0m\u001b[1;33m)\u001b[0m\u001b[1;33m\u001b[0m\u001b[0m\n\u001b[1;32m---> 72\u001b[1;33m     \u001b[1;32mreturn\u001b[0m \u001b[0mrequest\u001b[0m\u001b[1;33m(\u001b[0m\u001b[1;34m'get'\u001b[0m\u001b[1;33m,\u001b[0m \u001b[0murl\u001b[0m\u001b[1;33m,\u001b[0m \u001b[0mparams\u001b[0m\u001b[1;33m=\u001b[0m\u001b[0mparams\u001b[0m\u001b[1;33m,\u001b[0m \u001b[1;33m**\u001b[0m\u001b[0mkwargs\u001b[0m\u001b[1;33m)\u001b[0m\u001b[1;33m\u001b[0m\u001b[0m\n\u001b[0m\u001b[0;32m     73\u001b[0m \u001b[1;33m\u001b[0m\u001b[0m\n\u001b[0;32m     74\u001b[0m \u001b[1;33m\u001b[0m\u001b[0m\n",
      "\u001b[1;32mC:\\programs\\Continuum\\anaconda3\\lib\\site-packages\\requests\\api.py\u001b[0m in \u001b[0;36mrequest\u001b[1;34m(method, url, **kwargs)\u001b[0m\n\u001b[0;32m     56\u001b[0m     \u001b[1;31m# cases, and look like a memory leak in others.\u001b[0m\u001b[1;33m\u001b[0m\u001b[1;33m\u001b[0m\u001b[0m\n\u001b[0;32m     57\u001b[0m     \u001b[1;32mwith\u001b[0m \u001b[0msessions\u001b[0m\u001b[1;33m.\u001b[0m\u001b[0mSession\u001b[0m\u001b[1;33m(\u001b[0m\u001b[1;33m)\u001b[0m \u001b[1;32mas\u001b[0m \u001b[0msession\u001b[0m\u001b[1;33m:\u001b[0m\u001b[1;33m\u001b[0m\u001b[0m\n\u001b[1;32m---> 58\u001b[1;33m         \u001b[1;32mreturn\u001b[0m \u001b[0msession\u001b[0m\u001b[1;33m.\u001b[0m\u001b[0mrequest\u001b[0m\u001b[1;33m(\u001b[0m\u001b[0mmethod\u001b[0m\u001b[1;33m=\u001b[0m\u001b[0mmethod\u001b[0m\u001b[1;33m,\u001b[0m \u001b[0murl\u001b[0m\u001b[1;33m=\u001b[0m\u001b[0murl\u001b[0m\u001b[1;33m,\u001b[0m \u001b[1;33m**\u001b[0m\u001b[0mkwargs\u001b[0m\u001b[1;33m)\u001b[0m\u001b[1;33m\u001b[0m\u001b[0m\n\u001b[0m\u001b[0;32m     59\u001b[0m \u001b[1;33m\u001b[0m\u001b[0m\n\u001b[0;32m     60\u001b[0m \u001b[1;33m\u001b[0m\u001b[0m\n",
      "\u001b[1;32mC:\\programs\\Continuum\\anaconda3\\lib\\site-packages\\requests\\sessions.py\u001b[0m in \u001b[0;36mrequest\u001b[1;34m(self, method, url, params, data, headers, cookies, files, auth, timeout, allow_redirects, proxies, hooks, stream, verify, cert, json)\u001b[0m\n\u001b[0;32m    506\u001b[0m         }\n\u001b[0;32m    507\u001b[0m         \u001b[0msend_kwargs\u001b[0m\u001b[1;33m.\u001b[0m\u001b[0mupdate\u001b[0m\u001b[1;33m(\u001b[0m\u001b[0msettings\u001b[0m\u001b[1;33m)\u001b[0m\u001b[1;33m\u001b[0m\u001b[0m\n\u001b[1;32m--> 508\u001b[1;33m         \u001b[0mresp\u001b[0m \u001b[1;33m=\u001b[0m \u001b[0mself\u001b[0m\u001b[1;33m.\u001b[0m\u001b[0msend\u001b[0m\u001b[1;33m(\u001b[0m\u001b[0mprep\u001b[0m\u001b[1;33m,\u001b[0m \u001b[1;33m**\u001b[0m\u001b[0msend_kwargs\u001b[0m\u001b[1;33m)\u001b[0m\u001b[1;33m\u001b[0m\u001b[0m\n\u001b[0m\u001b[0;32m    509\u001b[0m \u001b[1;33m\u001b[0m\u001b[0m\n\u001b[0;32m    510\u001b[0m         \u001b[1;32mreturn\u001b[0m \u001b[0mresp\u001b[0m\u001b[1;33m\u001b[0m\u001b[0m\n",
      "\u001b[1;32mC:\\programs\\Continuum\\anaconda3\\lib\\site-packages\\requests\\sessions.py\u001b[0m in \u001b[0;36msend\u001b[1;34m(self, request, **kwargs)\u001b[0m\n\u001b[0;32m    616\u001b[0m \u001b[1;33m\u001b[0m\u001b[0m\n\u001b[0;32m    617\u001b[0m         \u001b[1;31m# Send the request\u001b[0m\u001b[1;33m\u001b[0m\u001b[1;33m\u001b[0m\u001b[0m\n\u001b[1;32m--> 618\u001b[1;33m         \u001b[0mr\u001b[0m \u001b[1;33m=\u001b[0m \u001b[0madapter\u001b[0m\u001b[1;33m.\u001b[0m\u001b[0msend\u001b[0m\u001b[1;33m(\u001b[0m\u001b[0mrequest\u001b[0m\u001b[1;33m,\u001b[0m \u001b[1;33m**\u001b[0m\u001b[0mkwargs\u001b[0m\u001b[1;33m)\u001b[0m\u001b[1;33m\u001b[0m\u001b[0m\n\u001b[0m\u001b[0;32m    619\u001b[0m \u001b[1;33m\u001b[0m\u001b[0m\n\u001b[0;32m    620\u001b[0m         \u001b[1;31m# Total elapsed time of the request (approximately)\u001b[0m\u001b[1;33m\u001b[0m\u001b[1;33m\u001b[0m\u001b[0m\n",
      "\u001b[1;32mC:\\programs\\Continuum\\anaconda3\\lib\\site-packages\\requests\\adapters.py\u001b[0m in \u001b[0;36msend\u001b[1;34m(self, request, stream, timeout, verify, cert, proxies)\u001b[0m\n\u001b[0;32m    506\u001b[0m                 \u001b[1;32mraise\u001b[0m \u001b[0mSSLError\u001b[0m\u001b[1;33m(\u001b[0m\u001b[0me\u001b[0m\u001b[1;33m,\u001b[0m \u001b[0mrequest\u001b[0m\u001b[1;33m=\u001b[0m\u001b[0mrequest\u001b[0m\u001b[1;33m)\u001b[0m\u001b[1;33m\u001b[0m\u001b[0m\n\u001b[0;32m    507\u001b[0m \u001b[1;33m\u001b[0m\u001b[0m\n\u001b[1;32m--> 508\u001b[1;33m             \u001b[1;32mraise\u001b[0m \u001b[0mConnectionError\u001b[0m\u001b[1;33m(\u001b[0m\u001b[0me\u001b[0m\u001b[1;33m,\u001b[0m \u001b[0mrequest\u001b[0m\u001b[1;33m=\u001b[0m\u001b[0mrequest\u001b[0m\u001b[1;33m)\u001b[0m\u001b[1;33m\u001b[0m\u001b[0m\n\u001b[0m\u001b[0;32m    509\u001b[0m \u001b[1;33m\u001b[0m\u001b[0m\n\u001b[0;32m    510\u001b[0m         \u001b[1;32mexcept\u001b[0m \u001b[0mClosedPoolError\u001b[0m \u001b[1;32mas\u001b[0m \u001b[0me\u001b[0m\u001b[1;33m:\u001b[0m\u001b[1;33m\u001b[0m\u001b[0m\n",
      "\u001b[1;31mConnectionError\u001b[0m: HTTPConnectionPool(host='www.unesco.org.ve', port=80): Max retries exceeded with url: /dmdocuments/biblioteca/libros/national_report_dominica_erma_alfred.pdf (Caused by NewConnectionError('<urllib3.connection.HTTPConnection object at 0x00000253847285C0>: Failed to establish a new connection: [Errno 11001] getaddrinfo failed',))"
     ]
    }
   ],
   "source": [
    "venez_titles = []\n",
    "for url in venez_urls:\n",
    "    time_delay = random.uniform(1,3)\n",
    "    time.sleep(time_delay)\n",
    "    \n",
    "    url_html = requests.get(url).content\n",
    "    url_sel = Selector(text = url_html)\n",
    "    \n",
    "    title = url_sel.css('title::text').extract_first()\n",
    "    \n",
    "    venez_titles.append(title)"
   ]
  },
  {
   "cell_type": "code",
   "execution_count": 51,
   "metadata": {},
   "outputs": [
    {
     "data": {
      "text/plain": [
       "[['Education and Training – CyberWyoming'],\n",
       " ['COLLABORATION WITH EDUCATION – CyberWyoming'],\n",
       " ['CyberWyoming – Cybersecurity outreach programs for business, education, and workforce development.'],\n",
       " ['Ultimate Access Education'],\n",
       " ['Education in Australia: an overview - Jobs in Australia | Immigration to Australia | Working In Australia',\n",
       "  'Account Suspended'],\n",
       " ['University and tertiary education - Jobs in Australia | Immigration to Australia | Working In Australia',\n",
       "  'Account Suspended'],\n",
       " ['Education is power — but do your students know it? - Misfit Teachers']]"
      ]
     },
     "execution_count": 51,
     "metadata": {},
     "output_type": "execute_result"
    }
   ],
   "source": [
    "venez_titles"
   ]
  },
  {
   "cell_type": "code",
   "execution_count": null,
   "metadata": {},
   "outputs": [],
   "source": []
  }
 ],
 "metadata": {
  "kernelspec": {
   "display_name": "Python 3",
   "language": "python",
   "name": "python3"
  },
  "language_info": {
   "codemirror_mode": {
    "name": "ipython",
    "version": 3
   },
   "file_extension": ".py",
   "mimetype": "text/x-python",
   "name": "python",
   "nbconvert_exporter": "python",
   "pygments_lexer": "ipython3",
   "version": "3.7.8"
  }
 },
 "nbformat": 4,
 "nbformat_minor": 2
}

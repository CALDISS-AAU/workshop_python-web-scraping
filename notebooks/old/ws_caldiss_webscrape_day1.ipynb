{
 "cells": [
  {
   "cell_type": "markdown",
   "metadata": {},
   "source": [
    "# WEB SCRAPING: Day 1\n",
    "\n",
    "The following contains coding examples used in the first day of the CALDISS workshop: \"Web Scraping for the Social Sciences\".\n",
    "\n",
    "Codes are meant to illustrate how the output from various tools from DMI (Digital Methods Initiative) can be used.\n",
    "\n",
    "Copy the code to your own folder to run and edit the code yourself.\n",
    "\n",
    "**CONTENT**\n",
    "- DMI Tool: Text Ripper\n",
    "- DMI Tool: Image Scraper\n",
    "- DMI Tool: Search Engine Scraper\n",
    "- Using the Statistics Denmark’s API for StatBank (https://www.dst.dk/en/Statistik/statistikbanken/api)\n",
    "- Using the Twitter API"
   ]
  },
  {
   "cell_type": "markdown",
   "metadata": {},
   "source": [
    "## DMI TOOL: Text Ripper\n",
    "\n",
    "Link to the tool: https://tools.digitalmethods.net/beta/textRipper/\n",
    "\n",
    "What can we do with the output of Text Ripper?\n",
    "\n",
    "The following code is inspired by the following Medium post: https://medium.com/@datamonsters/text-preprocessing-in-python-steps-tools-and-examples-bf025f872908\n",
    "\n",
    "With python libraries `re` and `string` we can quickly preprocess raw text making it eligible for analysis."
   ]
  },
  {
   "cell_type": "code",
   "execution_count": 2,
   "metadata": {},
   "outputs": [
    {
     "name": "stdout",
     "output_type": "stream",
     "text": [
      "https://www.en.caldiss.aau.dk/about/\tAbout CALDISS                                              News    Events    Contact    Campus Areas    For the press    For Alumni                                Shortcuts       News    Events    Contact    Campus Areas    For the press    For Alumni        aau education    aau research    aau cooperation    About AAU    Vacant Positions    Staff and students                                                                    Caldiss  /  About CALDISS  /    Menu    Caldiss  /  About CALDISS  /         About CALDISS             The digital data and methods laboratory, CALDISS (Computational Analytics Laboratory for Digital Social Science), is a shared physical methods laboratory as well as a digital platform for the Faculty of Social Sciences at AAU, where new possibilities with digital data and digital methods are addressed and explored. The main purposes of the lab is to help everyone associated with the Faculty of Social Sciences at AAU better realize and make use of the potentials that the developments within digital social science has to offer, and to help researchers and students integrate new data or method solutions in their research or in relevant course curriculums. The lab also focuses on cooperation with external partners and will eventually seek to communicate relevant solutions to neighboring companies and organizations. CALDISS is partially funded by The Obel Family Foundation.   The day-to-day activities of CALDISS include:   Regular teaching activities (workshops and lectures) for everyone associated with the Faculty of Social Sciences at AAU   Development of digital tools and utilities for the collection and management of digital data (‘Big Data’)   Creating and gaining access to social science databases   Research collaboration and project work with the faculty’s research environments or with external collaborators   The activities of CALDISS are highly varied. The core principles of the activities are that they are anchored in ongoing research and study activities at the Faculty of Social Sciences at AAU and that they are in accordance with CALDISS’ focus areas.   CALDISS’ focus areas Creating a data and knowledge center: ”One-stop shop” for available data CALDISS wants to function as a common datacenter for the Faculty of Social Sciences at AAU. This includes identifying research data that the departments already possess, and making those data more accessible for researchers as well as students. CALDISS seeks to develop a platform for safe and legal transfer and sharing of data, in which CALDISS will assist in potential anonymization and facilitate GDPR-compliant data collaborations between researchers, researchers and students as well as between researchers and external companies and organizations. Concurrently CALDISS acts as a knowledge center for available data and how it is accessed. The need for access to new databases is examined regularly. Keywords: data management, data governance, digitalization, data protection, IT-infrastructure   Advanced data management As a data and knowledge center, CALDISS will not only help with accessing and using the data but also with the processing and handling of special data-related challenges. Although CALDISS is conceptualized with a focus on the new and the partly unknown within digital data and methodology, CALDISS will also focus on new solutions for known data management issues. Keywords: data management, data science, data mining, visualization   Collection and processing of digital data CALDISS investigates the potentials in and develops tools for the harvesting and collection of new data sources. This in particular applies to data that is often referred to as ‘Big Data’ within the social sciences. CALDISS offer access to especially powerful workstation developed for computational and visualization tasks with large datasets for both students and researchers. Keywords: digital data, Big Data, web scraping, API, data mining, text mining, data science, visualization, digital methods   Experimenting with new methods CALDISS’ ambition is to investigate how new digital methods can be used and applied within the social sciences. CALDISS will investigate the usefulness and applicability of these methods within the social sciences while seeking to inform and inspire about using such methods to everyone associated with the Faculty of Social Sciences at AAU through various teaching activities (workshops and lectures). Keywords: digital methods, computational social science, ‘computational thinking’, data science, visualization   New software and advances use of known software With new methods come new software. CALDISS will regularly offer workshops in the use of new software solutions like R and Python as well as workshops seeking to up-skill within the use of software that AAU already has acquired licensing for; including STATA, SAS, NVivo and ArcGIS. The demand for new software and workshops is identified regularly. Keywords: digitalization, &#39;computational thinking&#39;, data science, computer science, programming, software   The Philosophy of CALDISS The activities of CALDISS are interdisciplinary and should benefit everyone associated with the Faculty of Social Sciences at AAU as much as possible. You are therefore always welcome to contact CALDISS with suggestions and comments. CALDISS wishes to promote and facilitate the use of digital data and digital methods as well as encourage interdisciplinary discussions about the possibilities and challenges (practical as well as ethical) that arise with the digitalization of the social sciences. CALDISS promotes knowledge sharing and collaboration across AAU departments as well as with external organizations and adopts an “open-source” and “open access” philosophy stating that the tools, resources and solutions that CALDISS develops are made available to everyone. CALDISS hopes to excite about the use of digital methods. We are experimental in our ambition in being curious about what digital methods can offer the social sciences, while being responsible in our actions and always ensuring ethical and responsible processing of data.   Our hope is to become a service that benefits everyone associated with the Faculty of Social Sciences at AAU.               Home     About CALDISS     CALDISS&#039; Facilities     Events and Program     Collaborate with CALDISS     Blog     Contact - Ask CALDISS       Contact     E-mail: caldiss@adm.aau.dk Yammer: Go to Yammer-group                                    Contact AAU   Aalborg University    Fredrik Bajers Vej 5 P.O. Box 159 DK-9100 Aalborg Denmark Phone: +45 9940 9940 Mail: aau@aau.dk CVRnr: 29102384 Eannr: EAN Privacy and use of cookies                 About AAU          Aalborg University Profile       Organisation and Management       AAU in figures and facts       Strategy, mission and vision       Quality assurance of Study Programmes       The Aalborg Model for Problem Based Learning       International Cooperation       History, Honorary Doctors and Fellows                  Find us on social media          Facebook       YouTube                           aau.dk uses cookiesaau.dk uses cookies in order to generate usage statisticsYou can read about our usage of your data and how to block cookies in the AAU cookie policy.   Close this message\n",
      "https://www.en.caldiss.aau.dk/collaborate/\tCollaborate with CALDISS                                              News    Events    Contact    Campus Areas    For the press    For Alumni                                Shortcuts       News    Events    Contact    Campus Areas    For the press    For Alumni        aau education    aau research    aau cooperation    About AAU    Vacant Positions    Staff and students                                                                    Caldiss  /  Collaborate with CALDISS  /    Menu    Caldiss  /  Collaborate with CALDISS  /         Collaborate with CALDISS              One of CALDISS’ core principles is that its activities are anchored in ongoing research and teaching activities at the Faculty of Social Sciences at AAU. We would therefore like to hear from you if you wish to collaborate with CALDISS, either by developing a workshop or by engaging in a research collaboration. Striving to function as a datacenter for the Faculty of Social Sciences at AAU, we would also like to hear from researchers wishing to make their data available through CALDISS. Developing workshops and lectures If you have any suggestions for workshops or lectures for people associated with the Faculty of Social Sciences at AAU that you would like to develop and/or teach then please contact us. CALDISS is open to suggestions for new workshops and lectures that fall within our focus areas (data management, new data, new methods, new software and advanced use of software).   Present the possibilities of new data and new methods in a lecture Activities in CALDISS seek to inform and inspire about what is possible with new data and new methods within the social sciences. If you feel that your research is consistent with CALDISS’ focus areas then please contact us about arranging a lecture for researchers and students at the Faculty of Social Sciences at AAU as well as other people interested.   Project and research collaboration with the lab: ”Experiment” with new data and new methods Because CALDISS focuses on anchoring its activities in ongoing research practices, we gladly hear from researchers wanting to engage in project or research collaboration with the lab. Currently CALDISS offers to engage in project or research collaboration within the following areas:  Collecting/harvesting and immediate management of specific digital data (including the conversion of textual data to other data structures) Anonymization and sharing of data through CALDISS Tackling specific data management challenges; including anonymization and standardization Experimenting with digital methods on research data (such as network analysis and topic models)  These areas are not exhaustive and we are open to suggestions as long as they fall within CALDISS’ focus areas. Project and research collaboration with CALDISS does not include:  Analysis of results Interpretation Writing out text for journal articles, anthologies etc. Building and developing econometric models  As a rule, it is not CALDISS who is doing the actual research but is helping in making it possible to address research questions in new ways or provide data that prompts new research questions.   Share your research data with researchers and students at the Faculty of Social Sciences at AAU CALDISS’ goal is to function as a datacenter for the Faculty of Social Sciences at AAU. This involves creating an overview of the data that already exists at the faculty as well as facilitating the sharing of data between researchers or between researchers and students. CALDISS can assist in the anonymization of the data so that it can be shared or facilitate data collaboration between several parties.   Become part of CALDISS’ network As part of functioning as a knowledge center for the digitalization of the social sciences and new methods, we want to create an overview of researchers at AAU who are already working in these areas. If you possess specialized knowledge that fall within CALDISS’ focus areas that you would like to make available for other people at the Faculty of Social Sciences at AAU then please contact us.               Home     About CALDISS     CALDISS&#039; Facilities     Events and Program     Collaborate with CALDISS     Blog     Contact - Ask CALDISS       Contact     E-mail: caldiss@adm.aau.dk Yammer: Go to Yammer-group                                    Contact AAU   Aalborg University    Fredrik Bajers Vej 5 P.O. Box 159 DK-9100 Aalborg Denmark Phone: +45 9940 9940 Mail: aau@aau.dk CVRnr: 29102384 Eannr: EAN Privacy and use of cookies                 About AAU          Aalborg University Profile       Organisation and Management       AAU in figures and facts       Strategy, mission and vision       Quality assurance of Study Programmes       The Aalborg Model for Problem Based Learning       International Cooperation       History, Honorary Doctors and Fellows                  Find us on social media          Facebook       YouTube                           aau.dk uses cookiesaau.dk uses cookies in order to generate usage statisticsYou can read about our usage of your data and how to block cookies in the AAU cookie policy.   Close this message\n",
      "\n"
     ]
    }
   ],
   "source": [
    "import re\n",
    "import string\n",
    "import requests\n",
    "\n",
    "textrip_url = \"https://tools.digitalmethods.net/beta/results/textripper/frontpages2046898822.txt\"\n",
    "textrip_resp = requests.get(textrip_url)\n",
    "text_raw = textrip_resp.text\n",
    "print(text_raw)"
   ]
  },
  {
   "cell_type": "code",
   "execution_count": 3,
   "metadata": {},
   "outputs": [
    {
     "name": "stdout",
     "output_type": "stream",
     "text": [
      "['httpswwwencaldissaaudkabout\\tabout', 'caldiss', 'news', 'events', 'contact', 'campus', 'areas', 'for', 'the', 'press', 'for', 'alumni', 'shortcuts', 'news', 'events', 'contact', 'campus', 'areas', 'for', 'the', 'press', 'for', 'alumni', 'aau', 'education', 'aau', 'research', 'aau', 'cooperation', 'about', 'aau', 'vacant', 'positions', 'staff', 'and', 'students', 'caldiss', 'about', 'caldiss', 'menu', 'caldiss', 'about', 'caldiss', 'about', 'caldiss', 'the', 'digital', 'data', 'and', 'methods', 'laboratory', 'caldiss', 'computational', 'analytics', 'laboratory', 'for', 'digital', 'social', 'science', 'is', 'a', 'shared', 'physical', 'methods', 'laboratory', 'as', 'well', 'as', 'a', 'digital', 'platform', 'for', 'the', 'faculty', 'of', 'social', 'sciences', 'at', 'aau', 'where', 'new', 'possibilities', 'with', 'digital', 'data', 'and', 'digital', 'methods', 'are', 'addressed', 'and', 'explored', 'the', 'main', 'purposes', 'of', 'the', 'lab', 'is', 'to', 'help', 'everyone', 'associated', 'with', 'the', 'faculty', 'of', 'social', 'sciences', 'at', 'aau', 'better', 'realize', 'and', 'make', 'use', 'of', 'the', 'potentials', 'that', 'the', 'developments', 'within', 'digital', 'social', 'science', 'has', 'to', 'offer', 'and', 'to', 'help', 'researchers', 'and', 'students', 'integrate', 'new', 'data', 'or', 'method', 'solutions', 'in', 'their', 'research', 'or', 'in', 'relevant', 'course', 'curriculums', 'the', 'lab', 'also', 'focuses', 'on', 'cooperation', 'with', 'external', 'partners', 'and', 'will', 'eventually', 'seek', 'to', 'communicate', 'relevant', 'solutions', 'to', 'neighboring', 'companies', 'and', 'organizations', 'caldiss', 'is', 'partially', 'funded', 'by', 'the', 'obel', 'family', 'foundation', '\\xa0', 'the', 'daytoday', 'activities', 'of', 'caldiss', 'include', 'regular', 'teaching', 'activities', 'workshops', 'and', 'lectures', 'for', 'everyone', 'associated', 'with', 'the', 'faculty', 'of', 'social', 'sciences', 'at', 'aau', 'development', 'of', 'digital', 'tools', 'and', 'utilities', 'for', 'the', 'collection', 'and', 'management', 'of', 'digital', 'data', '‘big', 'data’', 'creating', 'and', 'gaining', 'access', 'to', 'social', 'science', 'databases', 'research', 'collaboration', 'and', 'project', 'work', 'with', 'the', 'faculty’s', 'research', 'environments', 'or', 'with', 'external', 'collaborators', 'the', 'activities', 'of', 'caldiss', 'are', 'highly', 'varied', 'the', 'core', 'principles', 'of', 'the', 'activities', 'are', 'that', 'they', 'are', 'anchored', 'in', 'ongoing', 'research', 'and', 'study', 'activities', 'at', 'the', 'faculty', 'of', 'social', 'sciences', 'at', 'aau', 'and', 'that', 'they', 'are', 'in', 'accordance', 'with', 'caldiss’', 'focus', 'areas', '\\xa0', 'caldiss’', 'focus', 'areas', 'creating', 'a', 'data', 'and', 'knowledge', 'center', '”onestop', 'shop”', 'for', 'available', 'data', 'caldiss', 'wants', 'to', 'function', 'as', 'a', 'common', 'datacenter', 'for', 'the', 'faculty', 'of', 'social', 'sciences', 'at', 'aau', 'this', 'includes', 'identifying', 'research', 'data', 'that', 'the', 'departments', 'already', 'possess', 'and', 'making', 'those', 'data', 'more', 'accessible', 'for', 'researchers', 'as', 'well', 'as', 'students', 'caldiss', 'seeks', 'to', 'develop', 'a', 'platform', 'for', 'safe', 'and', 'legal', 'transfer', 'and', 'sharing', 'of', 'data', 'in', 'which', 'caldiss', 'will', 'assist', 'in', 'potential', 'anonymization', 'and', 'facilitate', 'gdprcompliant', 'data', 'collaborations', 'between', 'researchers', 'researchers', 'and', 'students', 'as', 'well', 'as', 'between', 'researchers', 'and', 'external', 'companies', 'and', 'organizations', 'concurrently', 'caldiss', 'acts', 'as', 'a', 'knowledge', 'center', 'for', 'available', 'data', 'and', 'how', 'it', 'is', 'accessed', 'the', 'need', 'for', 'access', 'to', 'new', 'databases', 'is', 'examined', 'regularly', 'keywords', 'data', 'management', 'data', 'governance', 'digitalization', 'data', 'protection', 'itinfrastructure', '\\xa0', 'advanced', 'data', 'management', 'as', 'a', 'data', 'and', 'knowledge', 'center', 'caldiss', 'will', 'not', 'only', 'help', 'with', 'accessing', 'and', 'using', 'the', 'data', 'but', 'also', 'with', 'the', 'processing', 'and', 'handling', 'of', 'special', 'datarelated', 'challenges', 'although', 'caldiss', 'is', 'conceptualized', 'with', 'a', 'focus', 'on', 'the', 'new', 'and', 'the', 'partly', 'unknown', 'within', 'digital', 'data', 'and', 'methodology', 'caldiss', 'will', 'also', 'focus', 'on', 'new', 'solutions', 'for', 'known', 'data', 'management', 'issues', 'keywords', 'data', 'management', 'data', 'science', 'data', 'mining', 'visualization', '\\xa0', 'collection', 'and', 'processing', 'of', 'digital', 'data', 'caldiss', 'investigates', 'the', 'potentials', 'in', 'and', 'develops', 'tools', 'for', 'the', 'harvesting', 'and', 'collection', 'of', 'new', 'data', 'sources', 'this', 'in', 'particular', 'applies', 'to', 'data', 'that', 'is', 'often', 'referred', 'to', 'as', '‘big', 'data’', 'within', 'the', 'social', 'sciences', 'caldiss', 'offer', 'access', 'to', 'especially', 'powerful', 'workstation', 'developed', 'for', 'computational', 'and', 'visualization', 'tasks', 'with', 'large', 'datasets', 'for', 'both', 'students', 'and', 'researchers', 'keywords', 'digital', 'data', 'big', 'data', 'web', 'scraping', 'api', 'data', 'mining', 'text', 'mining', 'data', 'science', 'visualization', 'digital', 'methods', '\\xa0', 'experimenting', 'with', 'new', 'methods', 'caldiss’', 'ambition', 'is', 'to', 'investigate', 'how', 'new', 'digital', 'methods', 'can', 'be', 'used', 'and', 'applied', 'within', 'the', 'social', 'sciences', 'caldiss', 'will', 'investigate', 'the', 'usefulness', 'and', 'applicability', 'of', 'these', 'methods', 'within', 'the', 'social', 'sciences', 'while', 'seeking', 'to', 'inform', 'and', 'inspire', 'about', 'using', 'such', 'methods', 'to', 'everyone', 'associated', 'with', 'the', 'faculty', 'of', 'social', 'sciences', 'at', 'aau', 'through', 'various', 'teaching', 'activities', 'workshops', 'and', 'lectures', 'keywords', 'digital', 'methods', 'computational', 'social', 'science', '‘computational', 'thinking’', 'data', 'science', 'visualization', '\\xa0', 'new', 'software', 'and', 'advances', 'use', 'of', 'known', 'software', 'with', 'new', 'methods', 'come', 'new', 'software', 'caldiss', 'will', 'regularly', 'offer', 'workshops', 'in', 'the', 'use', 'of', 'new', 'software', 'solutions', 'like', 'r', 'and', 'python', 'as', 'well', 'as', 'workshops', 'seeking', 'to', 'upskill', 'within', 'the', 'use', 'of', 'software', 'that', 'aau', 'already', 'has', 'acquired', 'licensing', 'for', 'including', 'stata', 'sas', 'nvivo', 'and', 'arcgis', 'the', 'demand', 'for', 'new', 'software', 'and', 'workshops', 'is', 'identified', 'regularly', 'keywords', 'digitalization', '39computational', 'thinking39', 'data', 'science', 'computer', 'science', 'programming', 'software', '\\xa0', 'the', 'philosophy', 'of', 'caldiss', 'the', 'activities', 'of', 'caldiss', 'are', 'interdisciplinary', 'and', 'should', 'benefit', 'everyone', 'associated', 'with', 'the', 'faculty', 'of', 'social', 'sciences', 'at', 'aau', 'as', 'much', 'as', 'possible', 'you', 'are', 'therefore', 'always', 'welcome', 'to', 'contact', 'caldiss', 'with', 'suggestions', 'and', 'comments', 'caldiss', 'wishes', 'to', 'promote', 'and', 'facilitate', 'the', 'use', 'of', 'digital', 'data', 'and', 'digital', 'methods', 'as', 'well', 'as', 'encourage', 'interdisciplinary', 'discussions', 'about', 'the', 'possibilities', 'and', 'challenges', 'practical', 'as', 'well', 'as', 'ethical', 'that', 'arise', 'with', 'the', 'digitalization', 'of', 'the', 'social', 'sciences', 'caldiss', 'promotes', 'knowledge', 'sharing', 'and', 'collaboration', 'across', 'aau', 'departments', 'as', 'well', 'as', 'with', 'external', 'organizations', 'and', 'adopts', 'an', '“opensource”', 'and', '“open', 'access”', 'philosophy', 'stating', 'that', 'the', 'tools', 'resources', 'and', 'solutions', 'that', 'caldiss', 'develops', 'are', 'made', 'available', 'to', 'everyone', 'caldiss', 'hopes', 'to', 'excite', 'about', 'the', 'use', 'of', 'digital', 'methods', 'we', 'are', 'experimental', 'in', 'our', 'ambition', 'in', 'being', 'curious', 'about', 'what', 'digital', 'methods', 'can', 'offer', 'the', 'social', 'sciences', 'while', 'being', 'responsible', 'in', 'our', 'actions', 'and', 'always', 'ensuring', 'ethical', 'and', 'responsible', 'processing', 'of', 'data', '\\xa0', 'our', 'hope', 'is', 'to', 'become', 'a', 'service', 'that', 'benefits', 'everyone', 'associated', 'with', 'the', 'faculty', 'of', 'social', 'sciences', 'at', 'aau', 'home', 'about', 'caldiss', 'caldiss039', 'facilities', 'events', 'and', 'program', 'collaborate', 'with', 'caldiss', 'blog', 'contact', 'ask', 'caldiss', 'contact', 'email', 'caldissadmaaudk', 'yammer', 'go', 'to', 'yammergroup', 'contact', 'aau', 'aalborg', 'university', 'fredrik', 'bajers', 'vej', '5', 'po', 'box', '159', 'dk9100', 'aalborg', 'denmark', 'phone', '45', '9940', '9940', 'mail', 'aauaaudk', 'cvrnr', '29102384', 'eannr', 'ean', 'privacy', 'and', 'use', 'of', 'cookies', 'about', 'aau', 'aalborg', 'university', 'profile', 'organisation', 'and', 'management', 'aau', 'in', 'figures', 'and', 'facts', 'strategy', 'mission', 'and', 'vision', 'quality', 'assurance', 'of', 'study', 'programmes', 'the', 'aalborg', 'model', 'for', 'problem', 'based', 'learning', 'international', 'cooperation', 'history', 'honorary', 'doctors', 'and', 'fellows', 'find', 'us', 'on', 'social', 'media', 'facebook', 'youtube', 'aaudk', 'uses', 'cookiesaaudk', 'uses', 'cookies', 'in', 'order', 'to', 'generate', 'usage', 'statisticsyou', 'can', 'read', 'about', 'our', 'usage', 'of', 'your', 'data', 'and', 'how', 'to', 'block', 'cookies', 'in', 'the', 'aau', 'cookie', 'policy', 'close', 'this', 'message\\nhttpswwwencaldissaaudkcollaborate\\tcollaborate', 'with', 'caldiss', 'news', 'events', 'contact', 'campus', 'areas', 'for', 'the', 'press', 'for', 'alumni', 'shortcuts', 'news', 'events', 'contact', 'campus', 'areas', 'for', 'the', 'press', 'for', 'alumni', 'aau', 'education', 'aau', 'research', 'aau', 'cooperation', 'about', 'aau', 'vacant', 'positions', 'staff', 'and', 'students', 'caldiss', 'collaborate', 'with', 'caldiss', 'menu', 'caldiss', 'collaborate', 'with', 'caldiss', 'collaborate', 'with', 'caldiss', 'one', 'of', 'caldiss’', 'core', 'principles', 'is', 'that', 'its', 'activities', 'are', 'anchored', 'in', 'ongoing', 'research', 'and', 'teaching', 'activities', 'at', 'the', 'faculty', 'of', 'social', 'sciences', 'at', 'aau', 'we', 'would', 'therefore', 'like', 'to', 'hear', 'from', 'you', 'if', 'you', 'wish', 'to', 'collaborate', 'with', 'caldiss', 'either', 'by', 'developing', 'a', 'workshop', 'or', 'by', 'engaging', 'in', 'a', 'research', 'collaboration', 'striving', 'to', 'function', 'as', 'a', 'datacenter', 'for', 'the', 'faculty', 'of', 'social', 'sciences', 'at', 'aau', 'we', 'would', 'also', 'like', 'to', 'hear', 'from', 'researchers', 'wishing', 'to', 'make', 'their', 'data', 'available', 'through', 'caldiss', 'developing', 'workshops', 'and', 'lectures', 'if', 'you', 'have', 'any', 'suggestions', 'for', 'workshops', 'or', 'lectures', 'for', 'people', 'associated', 'with', 'the', 'faculty', 'of', 'social', 'sciences', 'at', 'aau', 'that', 'you', 'would', 'like', 'to', 'develop', 'andor', 'teach', 'then', 'please', 'contact', 'us', 'caldiss', 'is', 'open', 'to', 'suggestions', 'for', 'new', 'workshops', 'and', 'lectures', 'that', 'fall', 'within', 'our', 'focus', 'areas', 'data', 'management', 'new', 'data', 'new', 'methods', 'new', 'software', 'and', 'advanced', 'use', 'of', 'software', '\\xa0', 'present', 'the', 'possibilities', 'of', 'new', 'data', 'and', 'new', 'methods', 'in', 'a', 'lecture', 'activities', 'in', 'caldiss', 'seek', 'to', 'inform', 'and', 'inspire', 'about', 'what', 'is', 'possible', 'with', 'new', 'data', 'and', 'new', 'methods', 'within', 'the', 'social', 'sciences', 'if', 'you', 'feel', 'that', 'your', 'research', 'is', 'consistent', 'with', 'caldiss’', 'focus', 'areas', 'then', 'please', 'contact', 'us', 'about', 'arranging', 'a', 'lecture', 'for', 'researchers', 'and', 'students', 'at', 'the', 'faculty', 'of', 'social', 'sciences', 'at', 'aau', 'as', 'well', 'as', 'other', 'people', 'interested', '\\xa0', 'project', 'and', 'research', 'collaboration', 'with', 'the', 'lab', '”experiment”', 'with', 'new', 'data', 'and', 'new', 'methods', 'because', 'caldiss', 'focuses', 'on', 'anchoring', 'its', 'activities', 'in', 'ongoing', 'research', 'practices', 'we', 'gladly', 'hear', 'from', 'researchers', 'wanting', 'to', 'engage', 'in', 'project', 'or', 'research', 'collaboration', 'with', 'the', 'lab', 'currently', 'caldiss', 'offers', 'to', 'engage', 'in', 'project', 'or', 'research', 'collaboration', 'within', 'the', 'following', 'areas', 'collectingharvesting', 'and', 'immediate', 'management', 'of', 'specific', 'digital', 'data', 'including', 'the', 'conversion', 'of', 'textual', 'data', 'to', 'other', 'data', 'structures', 'anonymization', 'and', 'sharing', 'of', 'data', 'through', 'caldiss', 'tackling', 'specific', 'data', 'management', 'challenges', 'including', 'anonymization', 'and', 'standardization', 'experimenting', 'with', 'digital', 'methods', 'on', 'research', 'data', 'such', 'as', 'network', 'analysis', 'and', 'topic', 'models', 'these', 'areas', 'are', 'not', 'exhaustive', 'and', 'we', 'are', 'open', 'to', 'suggestions', 'as', 'long', 'as', 'they', 'fall', 'within', 'caldiss’', 'focus', 'areas', 'project', 'and', 'research', 'collaboration', 'with', 'caldiss', 'does', 'not', 'include', 'analysis', 'of', 'results', 'interpretation', 'writing', 'out', 'text', 'for', 'journal', 'articles', 'anthologies', 'etc', 'building', 'and', 'developing', 'econometric', 'models', 'as', 'a', 'rule', 'it', 'is', 'not', 'caldiss', 'who', 'is', 'doing', 'the', 'actual', 'research', 'but', 'is', 'helping', 'in', 'making', 'it', 'possible', 'to', 'address', 'research', 'questions', 'in', 'new', 'ways', 'or', 'provide', 'data', 'that', 'prompts', 'new', 'research', 'questions', '\\xa0', 'share', 'your', 'research', 'data', 'with', 'researchers', 'and', 'students', 'at', 'the', 'faculty', 'of', 'social', 'sciences', 'at', 'aau', 'caldiss’', 'goal', 'is', 'to', 'function', 'as', 'a', 'datacenter', 'for', 'the', 'faculty', 'of', 'social', 'sciences', 'at', 'aau', 'this', 'involves', 'creating', 'an', 'overview', 'of', 'the', 'data', 'that', 'already', 'exists', 'at', 'the', 'faculty', 'as', 'well', 'as', 'facilitating', 'the', 'sharing', 'of', 'data', 'between', 'researchers', 'or', 'between', 'researchers', 'and', 'students', 'caldiss', 'can', 'assist', 'in', 'the', 'anonymization', 'of', 'the', 'data', 'so', 'that', 'it', 'can', 'be', 'shared', 'or', 'facilitate', 'data', 'collaboration', 'between', 'several', 'parties', '\\xa0', 'become', 'part', 'of', 'caldiss’', 'network', 'as', 'part', 'of', 'functioning', 'as', 'a', 'knowledge', 'center', 'for', 'the', 'digitalization', 'of', 'the', 'social', 'sciences', 'and', 'new', 'methods', 'we', 'want', 'to', 'create', 'an', 'overview', 'of', 'researchers', 'at', 'aau', 'who', 'are', 'already', 'working', 'in', 'these', 'areas', 'if', 'you', 'possess', 'specialized', 'knowledge', 'that', 'fall', 'within', 'caldiss’', 'focus', 'areas', 'that', 'you', 'would', 'like', 'to', 'make', 'available', 'for', 'other', 'people', 'at', 'the', 'faculty', 'of', 'social', 'sciences', 'at', 'aau', 'then', 'please', 'contact', 'us', 'home', 'about', 'caldiss', 'caldiss039', 'facilities', 'events', 'and', 'program', 'collaborate', 'with', 'caldiss', 'blog', 'contact', 'ask', 'caldiss', 'contact', 'email', 'caldissadmaaudk', 'yammer', 'go', 'to', 'yammergroup', 'contact', 'aau', 'aalborg', 'university', 'fredrik', 'bajers', 'vej', '5', 'po', 'box', '159', 'dk9100', 'aalborg', 'denmark', 'phone', '45', '9940', '9940', 'mail', 'aauaaudk', 'cvrnr', '29102384', 'eannr', 'ean', 'privacy', 'and', 'use', 'of', 'cookies', 'about', 'aau', 'aalborg', 'university', 'profile', 'organisation', 'and', 'management', 'aau', 'in', 'figures', 'and', 'facts', 'strategy', 'mission', 'and', 'vision', 'quality', 'assurance', 'of', 'study', 'programmes', 'the', 'aalborg', 'model', 'for', 'problem', 'based', 'learning', 'international', 'cooperation', 'history', 'honorary', 'doctors', 'and', 'fellows', 'find', 'us', 'on', 'social', 'media', 'facebook', 'youtube', 'aaudk', 'uses', 'cookiesaaudk', 'uses', 'cookies', 'in', 'order', 'to', 'generate', 'usage', 'statisticsyou', 'can', 'read', 'about', 'our', 'usage', 'of', 'your', 'data', 'and', 'how', 'to', 'block', 'cookies', 'in', 'the', 'aau', 'cookie', 'policy', 'close', 'this', 'message']\n"
     ]
    }
   ],
   "source": [
    "lc_text = text_raw.lower()  #Lower-case#\n",
    "nopunct_text = lc_text.translate(str.maketrans(\"\", \"\", string.punctuation))  #Remove punctuation\n",
    "strip_text = nopunct_text.strip()  #Remove white-space\n",
    "text_vec = strip_text.split(\" \")  #Split words - create vector\n",
    "text_vec = [i for i in text_vec if not i == '']\n",
    "print(text_vec)"
   ]
  },
  {
   "cell_type": "markdown",
   "metadata": {},
   "source": [
    "An important aspect of text preprocessing is removing stopwords."
   ]
  },
  {
   "cell_type": "code",
   "execution_count": 4,
   "metadata": {},
   "outputs": [
    {
     "name": "stdout",
     "output_type": "stream",
     "text": [
      "['httpswwwencaldissaaudkabout\\tabout', 'caldiss', 'news', 'events', 'contact', 'campus', 'areas', 'press', 'alumni', 'shortcuts', 'news', 'events', 'contact', 'campus', 'areas', 'press', 'alumni', 'aau', 'education', 'aau', 'research', 'aau', 'cooperation', 'aau', 'vacant', 'positions', 'staff', 'students', 'caldiss', 'caldiss', 'menu', 'caldiss', 'caldiss', 'caldiss', 'digital', 'data', 'methods', 'laboratory', 'caldiss', 'computational', 'analytics', 'laboratory', 'digital', 'social', 'science', 'shared', 'physical', 'methods', 'laboratory', 'digital', 'platform', 'faculty', 'social', 'sciences', 'aau', 'new', 'possibilities', 'digital', 'data', 'digital', 'methods', 'addressed', 'explored', 'main', 'purposes', 'lab', 'help', 'associated', 'faculty', 'social', 'sciences', 'aau', 'better', 'realize', 'make', 'use', 'potentials', 'developments', 'digital', 'social', 'science', 'offer', 'help', 'researchers', 'students', 'integrate', 'new', 'data', 'method', 'solutions', 'research', 'relevant', 'course', 'curriculums', 'lab', 'focuses', 'cooperation', 'external', 'partners', 'eventually', 'seek', 'communicate', 'relevant', 'solutions', 'neighboring', 'companies', 'organizations', 'caldiss', 'partially', 'funded', 'obel', 'family', 'foundation', '\\xa0', 'daytoday', 'activities', 'caldiss', 'include', 'regular', 'teaching', 'activities', 'workshops', 'lectures', 'associated', 'faculty', 'social', 'sciences', 'aau', 'development', 'digital', 'tools', 'utilities', 'collection', 'management', 'digital', 'data', '‘big', 'data’', 'creating', 'gaining', 'access', 'social', 'science', 'databases', 'research', 'collaboration', 'project', 'work', 'faculty’s', 'research', 'environments', 'external', 'collaborators', 'activities', 'caldiss', 'highly', 'varied', 'core', 'principles', 'activities', 'anchored', 'ongoing', 'research', 'study', 'activities', 'faculty', 'social', 'sciences', 'aau', 'accordance', 'caldiss’', 'focus', 'areas', '\\xa0', 'caldiss’', 'focus', 'areas', 'creating', 'data', 'knowledge', 'center', '”onestop', 'shop”', 'available', 'data', 'caldiss', 'wants', 'function', 'common', 'datacenter', 'faculty', 'social', 'sciences', 'aau', 'includes', 'identifying', 'research', 'data', 'departments', 'possess', 'making', 'data', 'accessible', 'researchers', 'students', 'caldiss', 'seeks', 'develop', 'platform', 'safe', 'legal', 'transfer', 'sharing', 'data', 'caldiss', 'assist', 'potential', 'anonymization', 'facilitate', 'gdprcompliant', 'data', 'collaborations', 'researchers', 'researchers', 'students', 'researchers', 'external', 'companies', 'organizations', 'concurrently', 'caldiss', 'acts', 'knowledge', 'center', 'available', 'data', 'accessed', 'need', 'access', 'new', 'databases', 'examined', 'regularly', 'keywords', 'data', 'management', 'data', 'governance', 'digitalization', 'data', 'protection', 'itinfrastructure', '\\xa0', 'advanced', 'data', 'management', 'data', 'knowledge', 'center', 'caldiss', 'help', 'accessing', 'using', 'data', 'processing', 'handling', 'special', 'datarelated', 'challenges', 'caldiss', 'conceptualized', 'focus', 'new', 'partly', 'unknown', 'digital', 'data', 'methodology', 'caldiss', 'focus', 'new', 'solutions', 'known', 'data', 'management', 'issues', 'keywords', 'data', 'management', 'data', 'science', 'data', 'mining', 'visualization', '\\xa0', 'collection', 'processing', 'digital', 'data', 'caldiss', 'investigates', 'potentials', 'develops', 'tools', 'harvesting', 'collection', 'new', 'data', 'sources', 'particular', 'applies', 'data', 'referred', '‘big', 'data’', 'social', 'sciences', 'caldiss', 'offer', 'access', 'especially', 'powerful', 'workstation', 'developed', 'computational', 'visualization', 'tasks', 'large', 'datasets', 'students', 'researchers', 'keywords', 'digital', 'data', 'big', 'data', 'web', 'scraping', 'api', 'data', 'mining', 'text', 'mining', 'data', 'science', 'visualization', 'digital', 'methods', '\\xa0', 'experimenting', 'new', 'methods', 'caldiss’', 'ambition', 'investigate', 'new', 'digital', 'methods', 'used', 'applied', 'social', 'sciences', 'caldiss', 'investigate', 'usefulness', 'applicability', 'methods', 'social', 'sciences', 'seeking', 'inform', 'inspire', 'using', 'methods', 'associated', 'faculty', 'social', 'sciences', 'aau', 'various', 'teaching', 'activities', 'workshops', 'lectures', 'keywords', 'digital', 'methods', 'computational', 'social', 'science', '‘computational', 'thinking’', 'data', 'science', 'visualization', '\\xa0', 'new', 'software', 'advances', 'use', 'known', 'software', 'new', 'methods', 'come', 'new', 'software', 'caldiss', 'regularly', 'offer', 'workshops', 'use', 'new', 'software', 'solutions', 'like', 'r', 'python', 'workshops', 'seeking', 'upskill', 'use', 'software', 'aau', 'acquired', 'licensing', 'including', 'stata', 'sas', 'nvivo', 'arcgis', 'demand', 'new', 'software', 'workshops', 'identified', 'regularly', 'keywords', 'digitalization', '39computational', 'thinking39', 'data', 'science', 'computer', 'science', 'programming', 'software', '\\xa0', 'philosophy', 'caldiss', 'activities', 'caldiss', 'interdisciplinary', 'benefit', 'associated', 'faculty', 'social', 'sciences', 'aau', 'possible', 'welcome', 'contact', 'caldiss', 'suggestions', 'comments', 'caldiss', 'wishes', 'promote', 'facilitate', 'use', 'digital', 'data', 'digital', 'methods', 'encourage', 'interdisciplinary', 'discussions', 'possibilities', 'challenges', 'practical', 'ethical', 'arise', 'digitalization', 'social', 'sciences', 'caldiss', 'promotes', 'knowledge', 'sharing', 'collaboration', 'aau', 'departments', 'external', 'organizations', 'adopts', '“opensource”', '“open', 'access”', 'philosophy', 'stating', 'tools', 'resources', 'solutions', 'caldiss', 'develops', 'available', 'caldiss', 'hopes', 'excite', 'use', 'digital', 'methods', 'experimental', 'ambition', 'curious', 'digital', 'methods', 'offer', 'social', 'sciences', 'responsible', 'actions', 'ensuring', 'ethical', 'responsible', 'processing', 'data', '\\xa0', 'hope', 'service', 'benefits', 'associated', 'faculty', 'social', 'sciences', 'aau', 'home', 'caldiss', 'caldiss039', 'facilities', 'events', 'program', 'collaborate', 'caldiss', 'blog', 'contact', 'ask', 'caldiss', 'contact', 'email', 'caldissadmaaudk', 'yammer', 'yammergroup', 'contact', 'aau', 'aalborg', 'university', 'fredrik', 'bajers', 'vej', '5', 'po', 'box', '159', 'dk9100', 'aalborg', 'denmark', 'phone', '45', '9940', '9940', 'mail', 'aauaaudk', 'cvrnr', '29102384', 'eannr', 'ean', 'privacy', 'use', 'cookies', 'aau', 'aalborg', 'university', 'profile', 'organisation', 'management', 'aau', 'figures', 'facts', 'strategy', 'mission', 'vision', 'quality', 'assurance', 'study', 'programmes', 'aalborg', 'model', 'problem', 'based', 'learning', 'international', 'cooperation', 'history', 'honorary', 'doctors', 'fellows', 'social', 'media', 'facebook', 'youtube', 'aaudk', 'uses', 'cookiesaaudk', 'uses', 'cookies', 'order', 'generate', 'usage', 'statisticsyou', 'read', 'usage', 'data', 'block', 'cookies', 'aau', 'cookie', 'policy', 'close', 'message\\nhttpswwwencaldissaaudkcollaborate\\tcollaborate', 'caldiss', 'news', 'events', 'contact', 'campus', 'areas', 'press', 'alumni', 'shortcuts', 'news', 'events', 'contact', 'campus', 'areas', 'press', 'alumni', 'aau', 'education', 'aau', 'research', 'aau', 'cooperation', 'aau', 'vacant', 'positions', 'staff', 'students', 'caldiss', 'collaborate', 'caldiss', 'menu', 'caldiss', 'collaborate', 'caldiss', 'collaborate', 'caldiss', 'caldiss’', 'core', 'principles', 'activities', 'anchored', 'ongoing', 'research', 'teaching', 'activities', 'faculty', 'social', 'sciences', 'aau', 'like', 'hear', 'wish', 'collaborate', 'caldiss', 'developing', 'workshop', 'engaging', 'research', 'collaboration', 'striving', 'function', 'datacenter', 'faculty', 'social', 'sciences', 'aau', 'like', 'hear', 'researchers', 'wishing', 'make', 'data', 'available', 'caldiss', 'developing', 'workshops', 'lectures', 'suggestions', 'workshops', 'lectures', 'people', 'associated', 'faculty', 'social', 'sciences', 'aau', 'like', 'develop', 'andor', 'teach', 'contact', 'caldiss', 'open', 'suggestions', 'new', 'workshops', 'lectures', 'fall', 'focus', 'areas', 'data', 'management', 'new', 'data', 'new', 'methods', 'new', 'software', 'advanced', 'use', 'software', '\\xa0', 'present', 'possibilities', 'new', 'data', 'new', 'methods', 'lecture', 'activities', 'caldiss', 'seek', 'inform', 'inspire', 'possible', 'new', 'data', 'new', 'methods', 'social', 'sciences', 'feel', 'research', 'consistent', 'caldiss’', 'focus', 'areas', 'contact', 'arranging', 'lecture', 'researchers', 'students', 'faculty', 'social', 'sciences', 'aau', 'people', 'interested', '\\xa0', 'project', 'research', 'collaboration', 'lab', '”experiment”', 'new', 'data', 'new', 'methods', 'caldiss', 'focuses', 'anchoring', 'activities', 'ongoing', 'research', 'practices', 'gladly', 'hear', 'researchers', 'wanting', 'engage', 'project', 'research', 'collaboration', 'lab', 'currently', 'caldiss', 'offers', 'engage', 'project', 'research', 'collaboration', 'following', 'areas', 'collectingharvesting', 'immediate', 'management', 'specific', 'digital', 'data', 'including', 'conversion', 'textual', 'data', 'data', 'structures', 'anonymization', 'sharing', 'data', 'caldiss', 'tackling', 'specific', 'data', 'management', 'challenges', 'including', 'anonymization', 'standardization', 'experimenting', 'digital', 'methods', 'research', 'data', 'network', 'analysis', 'topic', 'models', 'areas', 'exhaustive', 'open', 'suggestions', 'long', 'fall', 'caldiss’', 'focus', 'areas', 'project', 'research', 'collaboration', 'caldiss', 'does', 'include', 'analysis', 'results', 'interpretation', 'writing', 'text', 'journal', 'articles', 'anthologies', 'building', 'developing', 'econometric', 'models', 'rule', 'caldiss', 'doing', 'actual', 'research', 'helping', 'making', 'possible', 'address', 'research', 'questions', 'new', 'ways', 'provide', 'data', 'prompts', 'new', 'research', 'questions', '\\xa0', 'share', 'research', 'data', 'researchers', 'students', 'faculty', 'social', 'sciences', 'aau', 'caldiss’', 'goal', 'function', 'datacenter', 'faculty', 'social', 'sciences', 'aau', 'involves', 'creating', 'overview', 'data', 'exists', 'faculty', 'facilitating', 'sharing', 'data', 'researchers', 'researchers', 'students', 'caldiss', 'assist', 'anonymization', 'data', 'shared', 'facilitate', 'data', 'collaboration', 'parties', '\\xa0', 'caldiss’', 'network', 'functioning', 'knowledge', 'center', 'digitalization', 'social', 'sciences', 'new', 'methods', 'want', 'create', 'overview', 'researchers', 'aau', 'working', 'areas', 'possess', 'specialized', 'knowledge', 'fall', 'caldiss’', 'focus', 'areas', 'like', 'make', 'available', 'people', 'faculty', 'social', 'sciences', 'aau', 'contact', 'home', 'caldiss', 'caldiss039', 'facilities', 'events', 'program', 'collaborate', 'caldiss', 'blog', 'contact', 'ask', 'caldiss', 'contact', 'email', 'caldissadmaaudk', 'yammer', 'yammergroup', 'contact', 'aau', 'aalborg', 'university', 'fredrik', 'bajers', 'vej', '5', 'po', 'box', '159', 'dk9100', 'aalborg', 'denmark', 'phone', '45', '9940', '9940', 'mail', 'aauaaudk', 'cvrnr', '29102384', 'eannr', 'ean', 'privacy', 'use', 'cookies', 'aau', 'aalborg', 'university', 'profile', 'organisation', 'management', 'aau', 'figures', 'facts', 'strategy', 'mission', 'vision', 'quality', 'assurance', 'study', 'programmes', 'aalborg', 'model', 'problem', 'based', 'learning', 'international', 'cooperation', 'history', 'honorary', 'doctors', 'fellows', 'social', 'media', 'facebook', 'youtube', 'aaudk', 'uses', 'cookiesaaudk', 'uses', 'cookies', 'order', 'generate', 'usage', 'statisticsyou', 'read', 'usage', 'data', 'block', 'cookies', 'aau', 'cookie', 'policy', 'close', 'message']\n"
     ]
    }
   ],
   "source": [
    "from sklearn.feature_extraction.stop_words import ENGLISH_STOP_WORDS\n",
    "\n",
    "tokens = text_vec\n",
    "stop_words = set(ENGLISH_STOP_WORDS)\n",
    "tokens_nostop = [i for i in tokens if not i in stop_words]\n",
    "print (tokens_nostop)"
   ]
  },
  {
   "cell_type": "markdown",
   "metadata": {},
   "source": [
    "After preprocessing we are ready for some simple computations (here using `pandas`)."
   ]
  },
  {
   "cell_type": "code",
   "execution_count": 5,
   "metadata": {},
   "outputs": [
    {
     "data": {
      "text/plain": [
       "data           53\n",
       "caldiss        50\n",
       "aau            34\n",
       "social         28\n",
       "new            26\n",
       "sciences       22\n",
       "digital        20\n",
       "research       20\n",
       "methods        19\n",
       "faculty        16\n",
       "contact        14\n",
       "researchers    13\n",
       "areas          13\n",
       "               12\n",
       "activities     11\n",
       "management     10\n",
       "science         9\n",
       "use             9\n",
       "caldiss’        9\n",
       "students        9\n",
       "Name: Tokens, dtype: int64"
      ]
     },
     "execution_count": 5,
     "metadata": {},
     "output_type": "execute_result"
    }
   ],
   "source": [
    "import pandas as pd\n",
    "import numpy as np\n",
    "\n",
    "text_ind = list(range(0, len(tokens_nostop)))  #Create index\n",
    "text_col = ['Tokens']  #List of column names (here 1 column)\n",
    "\n",
    "text_df = pd.DataFrame(index = text_ind, columns = text_col)  #Create empty pandas dataframe using the above\n",
    "text_df['Tokens'] = tokens_nostop  #Fill the empty column with the tokens\n",
    "\n",
    "text_df['Tokens'].value_counts()[:20]  #Count the tokens - top 20 tokens"
   ]
  },
  {
   "cell_type": "markdown",
   "metadata": {},
   "source": [
    "## DMI TOOL: Image Scraper\n",
    "\n",
    "Link to the tool: https://tools.digitalmethods.net/beta/imagesDeep/\n",
    "\n",
    "Using output from image scraper, we can write a short script to download all the images on a website."
   ]
  },
  {
   "cell_type": "code",
   "execution_count": 6,
   "metadata": {},
   "outputs": [
    {
     "name": "stdout",
     "output_type": "stream",
     "text": [
      "'images' folder created\n"
     ]
    }
   ],
   "source": [
    "import urllib.request\n",
    "import pandas as pd\n",
    "import os\n",
    "\n",
    "image_csv = 'caldiss_imgurls.csv'\n",
    "image_df = pd.read_csv(image_csv, sep = \",\", skiprows = 1, header=None)  #Read the DMI image scraper output as a pandas dataframe\n",
    "image_urls = list(image_df.loc[:,1])  #Extract the image URL's and store them in a list\n",
    "\n",
    "image_name = \"caldissimg\"\n",
    "\n",
    "img_folder = \"./images/\"\n",
    "\n",
    "try:  #Check if the folder \"images\" exists. Otherwise it is created.\n",
    "    os.mkdir(img_folder)\n",
    "except FileExistsError:\n",
    "    print(\"'images' folder already exists\")\n",
    "else:\n",
    "    print(\"'images' folder created\")\n",
    "\n",
    "i = 1  #Setting i to 1 - using it as identifier\n",
    "for url in image_urls:  #Loops through each URL\n",
    "    j = str(i)\n",
    "    url = url\n",
    "    img_path = image_name + j + \".png\"  #Creates the imagepath - assumes all images are .png!\n",
    "    urllib.request.urlretrieve(url, filename = img_folder + img_path)  #Saves the image to the folder \"images\" - has to be created first!\n",
    "    i = i + 1  #Increases i with 1"
   ]
  },
  {
   "cell_type": "markdown",
   "metadata": {},
   "source": [
    "## DMI TOOL: Search Engine Scraper\n",
    "\n",
    "Link to the tool: https://tools.digitalmethods.net/beta/searchEngineScraper/\n",
    "\n",
    "The output of the search engine scraper from the Digital Methods Initiative can be used in a spider to extract content from sites returned from google's search results.\n",
    "\n",
    "In the following, two pre-saved csv-files are used contatining the top 10 Google search results for \"education\" in Sweden and Venezuela respectively."
   ]
  },
  {
   "cell_type": "code",
   "execution_count": null,
   "metadata": {},
   "outputs": [],
   "source": [
    "import pandas as pd\n",
    "\n",
    "swed_csv = 'swed_goog.csv'\n",
    "swed_df = pd.read_csv(swed_csv, sep = '\\t')  #Load the csv as pandas dataframe\n",
    "swed_urls = list(swed_df['article url'])  #Extract the url's only\n",
    "swed_urls"
   ]
  },
  {
   "cell_type": "markdown",
   "metadata": {},
   "source": [
    "After reading in the list of URL's, we can loop through them and extract specific elements of each."
   ]
  },
  {
   "cell_type": "code",
   "execution_count": null,
   "metadata": {},
   "outputs": [],
   "source": [
    "import requests\n",
    "import scrapy\n",
    "from scrapy import Selector\n",
    "import time\n",
    "import random\n",
    " \n",
    "swed_titles = []  #Create empty list\n",
    "for url in swed_urls:  #Iterate over url's in list\n",
    "    time_delay = random.uniform(0.3,1.5)  #Set delay between 0.3 and 1.5 seconds in each iteration\n",
    "    time.sleep(time_delay)  #Activate delay\n",
    "    \n",
    "    try:  # Error-handling\n",
    "        requests.get(url)\n",
    "    except requests.ConnectionError:\n",
    "        title = \"website NA\"\n",
    "    else:\n",
    "        url_html = requests.get(url).content  #Load the url content\n",
    "        url_sel = Selector(text = url_html)   #Convert HTML to Selector object\n",
    "        title = url_sel.css('title::text').extract_first()  #Extract the text of the title element\n",
    "\n",
    "    swed_titles.append(title)  #Add title to list\n",
    "    "
   ]
  },
  {
   "cell_type": "markdown",
   "metadata": {},
   "source": [
    "The title elements of the sites are now stores in the list `swed_titles`."
   ]
  },
  {
   "cell_type": "code",
   "execution_count": null,
   "metadata": {},
   "outputs": [],
   "source": [
    "swed_titles  #print the titles"
   ]
  },
  {
   "cell_type": "code",
   "execution_count": null,
   "metadata": {},
   "outputs": [],
   "source": [
    "venez_csv = 'venez_goog.csv'\n",
    "venez_df = pd.read_csv(venez_csv, sep = '\\t')\n",
    "venez_urls = list(venez_df['article url'])\n",
    "venez_urls"
   ]
  },
  {
   "cell_type": "code",
   "execution_count": null,
   "metadata": {},
   "outputs": [],
   "source": [
    "venez_titles = []\n",
    "for url in venez_urls:\n",
    "    time_delay = random.uniform(0.3,1.5)\n",
    "    time.sleep(time_delay)\n",
    "    \n",
    "    try:\n",
    "        requests.get(url)\n",
    "    except requests.ConnectionError:\n",
    "        title = \"website NA\"\n",
    "    else:\n",
    "        url_html = requests.get(url).content\n",
    "        url_sel = Selector(text = url_html)\n",
    "        title = url_sel.css('title::text').extract_first()\n",
    "      \n",
    "    venez_titles.append(title)"
   ]
  },
  {
   "cell_type": "code",
   "execution_count": null,
   "metadata": {},
   "outputs": [],
   "source": [
    "venez_titles"
   ]
  },
  {
   "cell_type": "markdown",
   "metadata": {},
   "source": [
    "## Using the Statistics Denmark’s API for StatBank\n",
    "\n",
    "Link to API documentation: https://www.dst.dk/en/Statistik/statistikbanken/api\n",
    "\n",
    "That Statistics Denmark's API for StatBank makes it possible to access the data in Statbank (http://www.statbank.dk/statbank5a/default.asp?w=2560)\n",
    "\n",
    "The following demonstrates how to interact with the API directly via python.\n",
    "\n",
    "The `PyDST` package is a python package for working with the API in a simpler way: https://github.com/Kristianuruplarsen/PyDST"
   ]
  },
  {
   "cell_type": "markdown",
   "metadata": {},
   "source": [
    "### Finding the right table\n",
    "\n",
    "The StatBank has several API's. The most useful is their API for extracting data: https://api.statbank.dk/v1/data\n",
    "\n",
    "However, making use of the data API requires knowing what to ask it, which depends on the table we want to extract data from.\n",
    "\n",
    "The \"tableinfo\" API returns information regarding a specific table in StatBank: https://api.statbank.dk/v1/tableinfo\n",
    "\n",
    "Before even interacting with the API, it makes the most sense to find the table you want to draw data from via the main StatBank page: http://www.statbank.dk/statbank5a/default.asp?w=2560\n"
   ]
  },
  {
   "cell_type": "markdown",
   "metadata": {},
   "source": [
    "## Extracting information about the Danish population (\"FOLK1C\")\n",
    "\n",
    "In the following, we use the \"tableinfo\" API to find information regarding the table: FOLK1C."
   ]
  },
  {
   "cell_type": "code",
   "execution_count": null,
   "metadata": {},
   "outputs": [],
   "source": [
    "import json\n",
    "import requests\n",
    "import urllib.parse\n",
    "from urllib.request import urlopen\n",
    "\n",
    "statbank_api = \"https://api.statbank.dk/v1/tableinfo\"  #Link to the API\n",
    "table_req = {\"lang\": \"en\", \"table\": \"folk1c\"}  #The request to be send (JSON format) - note the table input!\n",
    "stat_req = requests.post(statbank_api, json=table_req)  #Send the requests\n",
    "stat_req.encoding = 'UTF-8'  #Change the encoding to 'utf-8'\n",
    "\n",
    "table_json = json.loads(stat_req.text, encoding = 'utf-8')  #Load the data as JSON (allowing us to interact with the data)\n",
    "print(json.dumps(table_json, indent=4, ensure_ascii=False)) #Print the data as JSON"
   ]
  },
  {
   "cell_type": "markdown",
   "metadata": {},
   "source": [
    "With the `table_json` containing the information about the table FOLK1C, we can extract specific information about the table."
   ]
  },
  {
   "cell_type": "code",
   "execution_count": null,
   "metadata": {},
   "outputs": [],
   "source": [
    "table_json['description']"
   ]
  },
  {
   "cell_type": "code",
   "execution_count": null,
   "metadata": {},
   "outputs": [],
   "source": [
    "for variable in table_json['variables']:\n",
    "    print(variable['id'])"
   ]
  },
  {
   "cell_type": "code",
   "execution_count": null,
   "metadata": {},
   "outputs": [],
   "source": [
    "table_json['variables'][0]  #OMRÅDE (area/municipality)"
   ]
  },
  {
   "cell_type": "code",
   "execution_count": null,
   "metadata": {},
   "outputs": [],
   "source": [
    "table_json['variables'][2]  #Alder (age)"
   ]
  },
  {
   "cell_type": "markdown",
   "metadata": {},
   "source": [
    "## Extracting data from the StatBank\n",
    "\n",
    "Using the information above, we can now request specific data from the data API."
   ]
  },
  {
   "cell_type": "code",
   "execution_count": null,
   "metadata": {},
   "outputs": [],
   "source": [
    "statbank_api = \"https://api.statbank.dk/v1/data\"  #Adress of the data API\n",
    "\n",
    "data_req = {'table': 'folk1c','format': 'CSV','variables': [{'code': 'OMRÅDE', 'values': ['101', '851']},  #Request in JSON\n",
    "                                                            {'code': 'ALDER', 'values': ['20-24', '25-29']}]\n",
    "           }\n",
    "\n",
    "data_req = requests.post(statbank_api, json=data_req)  #Sending requests\n",
    "\n",
    "print(data_req.text)  #Printing the raw text output"
   ]
  },
  {
   "cell_type": "markdown",
   "metadata": {},
   "source": [
    "The data API returns commma-separated values by default (csv).\n",
    "\n",
    "This output is directly readable by the `pandas` package (`pd.read_csv`)"
   ]
  },
  {
   "cell_type": "code",
   "execution_count": null,
   "metadata": {},
   "outputs": [],
   "source": [
    "import sys\n",
    "from io import StringIO\n",
    "import pandas as pd\n",
    "\n",
    "dstdata = StringIO(data_req.text)  #Read the data output as raw text\n",
    "dstdf = pd.read_csv(dstdata, sep=\";\")  #Read text as csv\n",
    "dstdf  #Print data"
   ]
  },
  {
   "cell_type": "code",
   "execution_count": null,
   "metadata": {},
   "outputs": [],
   "source": [
    "dstdf.groupby(['OMRÅDE']).sum()  #Group by municipality and count sum"
   ]
  },
  {
   "cell_type": "markdown",
   "metadata": {},
   "source": [
    "## EXERCISE: Using the StatBank API\n",
    "\n",
    "Using the API code below (or in the console), can you figure out whether more men or women were admitted to the hospital in 2017 with influenza?\n",
    "\n",
    "Table: IND01\n",
    "\n",
    "StatBank console: http://api.statbank.dk/console#subjects"
   ]
  },
  {
   "cell_type": "code",
   "execution_count": null,
   "metadata": {},
   "outputs": [],
   "source": [
    "import json\n",
    "import requests\n",
    "import urllib.parse\n",
    "from urllib.request import urlopen\n",
    "\n",
    "statbank_api = \"https://api.statbank.dk/v1/tableinfo\"  #Link to the API\n",
    "\n",
    "table_req = #???#  Your code here!\n",
    "\n",
    "stat_req = requests.post(statbank_api, json=table_req)  #Send the requests\n",
    "stat_req.encoding = 'UTF-8'  #Change the encoding to 'utf-8'\n",
    "\n",
    "table_json = json.loads(stat_req.text, encoding = 'utf-8')  #Load the data as JSON (allowing us to interact with the data)\n",
    "print(json.dumps(table_json, indent=4, ensure_ascii=False)) #Print the data as JSON"
   ]
  },
  {
   "cell_type": "code",
   "execution_count": null,
   "metadata": {},
   "outputs": [],
   "source": [
    "for variable in table_json['variables']:\n",
    "    print(variable['id'])"
   ]
  },
  {
   "cell_type": "code",
   "execution_count": null,
   "metadata": {},
   "outputs": [],
   "source": [
    "table_json['variables'][0]  #Change the index to see info about other variables"
   ]
  },
  {
   "cell_type": "code",
   "execution_count": null,
   "metadata": {},
   "outputs": [],
   "source": [
    "import sys\n",
    "from io import StringIO\n",
    "import pandas as pd\n",
    "\n",
    "statbank_api = \"https://api.statbank.dk/v1/data\"  #Adress of the data API\n",
    "\n",
    "data_req = #???# - Your code here!\n",
    "\n",
    "data_req = requests.post(statbank_api, json=data_req)  #Sending requests\n",
    "dstdata = StringIO(data_req.text)  #Read the data output as raw text\n",
    "dstdf = pd.read_csv(dstdata, sep=\";\")  #Read text as csv\n",
    "dstdf  #Print data"
   ]
  }
 ],
 "metadata": {
  "kernelspec": {
   "display_name": "Python 3",
   "language": "python",
   "name": "python3"
  },
  "language_info": {
   "codemirror_mode": {
    "name": "ipython",
    "version": 3
   },
   "file_extension": ".py",
   "mimetype": "text/x-python",
   "name": "python",
   "nbconvert_exporter": "python",
   "pygments_lexer": "ipython3",
   "version": "3.7.8"
  }
 },
 "nbformat": 4,
 "nbformat_minor": 2
}

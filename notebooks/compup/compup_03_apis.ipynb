{
 "cells": [
  {
   "cell_type": "markdown",
   "metadata": {},
   "source": [
    "## Using API's in Python\n",
    "\n",
    "### How to use API's\n",
    "\n",
    "API's are very different but usually consist of the following components:\n",
    "\n",
    "**Request:** Like any other interactions with the web, using API's involves sending a request (GET or POST) to the API.\n",
    "\n",
    "**Endpoint:** API's usually consists of different endpoints. These can be considered different outlets. Endpoints are simply URLs we send the request to.\n",
    "\n",
    "**Parameters:** Parameters are the arguements the endpoint accepts. Some may be required, others are optionals.\n",
    "\n",
    "**Authentication:** Most API's requires some kind of authentication. This can be either HTTPS authentication (username and password) or authentication via tokens. Tokens are essentially unique keys that identify who is making the request."
   ]
  },
  {
   "cell_type": "markdown",
   "metadata": {},
   "source": [
    "## Example 1: Using the Statistics Denmark’s API for StatBank\n",
    "\n",
    "Link to API documentation: https://www.dst.dk/en/Statistik/brug-statistikken/muligheder-i-statistikbanken/api\n",
    "\n",
    "The Statistics Denmark's API for StatBank makes it possible to access the data in Statbank.\n",
    "\n",
    "The following demonstrates how to interact with the API directly via python.\n",
    "\n",
    "*Note*: The StatBank API does not require authentication"
   ]
  },
  {
   "cell_type": "markdown",
   "metadata": {},
   "source": [
    "### Extracting data from the StatBank\n"
   ]
  },
  {
   "cell_type": "code",
   "execution_count": null,
   "metadata": {},
   "outputs": [],
   "source": [
    "import requests\n",
    "\n",
    "statbank_api = \"https://api.statbank.dk/v1/data\"  #Endpoint of the data API\n",
    "\n",
    "data_req = {'table': 'folk1c',\n",
    "            'format': 'CSV',\n",
    "            'variables': [{'code': 'OMRÅDE', 'values': ['101', '851']},  #Request in JSON/dictionary\n",
    "                                                            {'code': 'ALDER', 'values': ['20-24', '25-29']}]\n",
    "           }\n",
    "\n",
    "data_req = requests.post(statbank_api, json=data_req)  #Sending requests\n",
    "\n",
    "print(data_req.text)  #Printing the raw text output"
   ]
  },
  {
   "cell_type": "markdown",
   "metadata": {},
   "source": [
    "The data API returns commma-separated values by default (csv).\n",
    "\n",
    "This output is directly readable by the `pandas` package (`pd.read_csv`)"
   ]
  },
  {
   "cell_type": "code",
   "execution_count": null,
   "metadata": {},
   "outputs": [],
   "source": [
    "from io import StringIO\n",
    "import pandas as pd\n",
    "\n",
    "dstdata = StringIO(data_req.text)  #Read the data output as raw text\n",
    "dstdf = pd.read_csv(dstdata, sep=\";\")  #Read text as csv\n",
    "dstdf  #Print data"
   ]
  },
  {
   "cell_type": "code",
   "execution_count": null,
   "metadata": {},
   "outputs": [],
   "source": [
    "dstdf.groupby(['OMRÅDE']).sum()  #Group by municipality and count sum"
   ]
  },
  {
   "cell_type": "markdown",
   "metadata": {},
   "source": [
    "## Example: Using the Twitter API\n",
    "\n",
    "***NOTE***: This notebook uses a token that is not included in the notebook. You will not be able to reproduce this on your own computer without proper authentication (for this you need access to the Twitter enterprise API: https://developer.twitter.com/en/docs/twitter-api/getting-started/getting-access-to-the-twitter-api\n",
    "\n",
    "The Twitter API contains a wide variety of endpoints for both interacting with Twitter (sending tweets, replying) and for retrieving data.\n",
    "\n",
    "The example below uses the \"Search Tweets\" endpoints (full archive search): https://developer.twitter.com/en/docs/twitter-api/tweets/search/api-reference/get-tweets-search-all. The example retrieves tweets from Elon Mush from the last week.\n",
    "\n",
    "It is adapted from Twitter's own sample code: https://github.com/twitterdev/Twitter-API-v2-sample-code/blob/main/Full-Archive-Search/full-archive-search.py"
   ]
  },
  {
   "cell_type": "code",
   "execution_count": null,
   "metadata": {},
   "outputs": [],
   "source": [
    "import requests\n",
    "import os\n",
    "import json\n",
    "import time\n",
    "from datetime import datetime, timedelta\n",
    "\n",
    "# token and endpoint\n",
    "with open(os.path.join(\"C:/\", \"repos\", \"tokens\", \"twitter_bearer.txt\"), 'r') as f:\n",
    "    bearer_token = f.read()\n",
    "\n",
    "search_url = \"https://api.twitter.com/2/tweets/search/all\"\n",
    "\n",
    "# set start_time\n",
    "d = datetime.today() - timedelta(days=7)\n",
    "start_time = f\"{str(d.date())}T00:00:00Z\"\n",
    "\n",
    "query_params = {'query': 'from:elonmusk -is:retweet',\n",
    "                'tweet.fields': 'entities,public_metrics,created_at,referenced_tweets',\n",
    "                'expansions': 'author_id',\n",
    "                'user.fields': 'created_at,description,public_metrics,url,verified', \n",
    "                'max_results': 500,\n",
    "                'start_time': start_time}\n",
    "\n",
    "\n",
    "def bearer_oauth(r):\n",
    "    \"\"\"\n",
    "    Method required by bearer token authentication.\n",
    "    \"\"\"\n",
    "\n",
    "    r.headers[\"Authorization\"] = f\"Bearer {bearer_token}\"\n",
    "    r.headers[\"User-Agent\"] = \"v2FullArchiveSearchPython\"\n",
    "    return r\n",
    "\n",
    "\n",
    "def connect_to_endpoint(url, params):\n",
    "    response = requests.get(search_url, auth=bearer_oauth, params=params)\n",
    "    #print(response.status_code)\n",
    "    if response.status_code != 200:\n",
    "        raise Exception(response.status_code, response.text)\n",
    "    return response.json()\n",
    "\n",
    "\n",
    "def initial():\n",
    "    json_response = connect_to_endpoint(search_url, query_params)\n",
    "    return(json_response)\n",
    "\n",
    "def continued(next_token):\n",
    "    new_params = query_params.copy()\n",
    "    new_params['next_token'] = next_token\n",
    "    json_response = connect_to_endpoint(search_url, new_params)\n",
    "    return(json_response)\n",
    "\n",
    "data = initial()\n",
    "all_data = data.copy()\n",
    "all_data.pop('meta', None)\n",
    "\n",
    "used_next_tokens = []\n",
    "next_token = data.get('meta').get('next_token')\n",
    "\n",
    "if next_token is not None:\n",
    "    while True:\n",
    "        time.sleep(1)\n",
    "        data = continued(next_token)\n",
    "        all_data['data'] = all_data.get('data') + data.get('data')\n",
    "        all_data['includes']['users'] = all_data.get('includes').get('users') + data.get('includes').get('users')\n",
    "\n",
    "        used_next_tokens.append(next_token)\n",
    "\n",
    "        next_token = data.get('meta').get('next_token')\n",
    "\n",
    "        if next_token is None:\n",
    "            break"
   ]
  }
 ],
 "metadata": {
  "kernelspec": {
   "display_name": "Python 3",
   "language": "python",
   "name": "python3"
  },
  "language_info": {
   "codemirror_mode": {
    "name": "ipython",
    "version": 3
   },
   "file_extension": ".py",
   "mimetype": "text/x-python",
   "name": "python",
   "nbconvert_exporter": "python",
   "pygments_lexer": "ipython3",
   "version": "3.7.9"
  }
 },
 "nbformat": 4,
 "nbformat_minor": 4
}

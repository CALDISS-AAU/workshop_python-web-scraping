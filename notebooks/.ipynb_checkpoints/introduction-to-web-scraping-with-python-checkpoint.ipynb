{
 "cells": [
  {
   "cell_type": "markdown",
   "metadata": {},
   "source": [
    "**Learning Objectives**\n",
    "- Knowing what web scraping is\n",
    "- Understanding the relevance of web scraping in social science analysis\n",
    "- Understanding the basics of how the internet works (IP's, URL, DNS, browsers, API's)\n",
    "- Knowing basic concepts of HTML (tags, ids, classes, CSS)\n",
    "- Knowing and navigating the structure of HTML (in browser)\n",
    "- Using an API\n",
    "- Using relevant packages for scraping web-pages in python (requests, scrapy, beautifulsoup)\n",
    "- Generating data sets from web data (HTML, Twitter, API)\n",
    "- Building program for generating data across several sites\n",
    "- Understanding how internet \"traffic\" works and what to consider (also ethically)\n",
    "\n",
    "**Evidence/Evaluation types**\n",
    "- Knowledge checks: what are examples of web scraping?\n",
    "- Knowledge check: what is a URL?\n",
    "- Able to use the web console to inspect HTML\n",
    "- Able to load the raw content of a webpage into python (using requests)\n",
    "- Able to send a request to an API (using requests)\n",
    "- Able to download a dataset of tweets (using twint)\n",
    "- Able to navigate HTML in python using selector objects (using scrapy)\n",
    "- Able to extract specific content of a webpage into python (using beautiful soup)\n",
    "- Able to scrape emulating a browser (Selenium)\n",
    "- Able to build a simple spider with a parser\n",
    "- Able to perform simple error-handling\n",
    "- Able to insert delays into scripts to avoid over-querying"
   ]
  },
  {
   "cell_type": "markdown",
   "metadata": {},
   "source": [
    "# Introduktion til Web Scraping med Python\n",
    "\n",
    "Denne lektion introducerer til web scraping med særligt fokus på, hvordan Python kan anvendes til at skaffe og behandle forskellige data fra internettet"
   ]
  },
  {
   "cell_type": "markdown",
   "metadata": {},
   "source": [
    "# {#Kapitel}Data fra Internettet\n",
    "\n",
    "Internettet er en kilde til utrolige mængder af data. \n",
    "\n",
    "tilgå internettet med Python... kræver forståelse af internettet..."
   ]
  },
  {
   "cell_type": "markdown",
   "metadata": {},
   "source": [
    "# {#Afsnit}Hvad er \"Web Scraping\"?\n",
    "\n",
    "- Hvad dækker web scraping over?\n",
    "- Hvad gennemgås i denne session?\n",
    "- Hvorfor er det relevant?\n",
    "- Hvad er særligt vanskeligt?\n",
    "\n",
    "- Check: Hvad kan web scraping bruges til? (hvad forestiller I jer?)"
   ]
  },
  {
   "attachments": {},
   "cell_type": "markdown",
   "metadata": {},
   "source": [
    "# {#Afsnit}Internettet 101\n",
    "\n",
    "![Internet_map_1024_-_transparent,_inverted.png](../static/Internet_map_1024_-_transparent,_inverted.png)\n",
    "\n",
    "![howdomainswork_tp.png](../static/howdomainswork_tp.png)\n",
    "\n",
    "- IP's, URL, DNS, browsers, API's"
   ]
  },
  {
   "cell_type": "markdown",
   "metadata": {},
   "source": [
    "# {#Afsnit}Internettets sprog: HTML\n",
    "\n",
    "- Hvad er HTML?\n",
    "- Generel opbygning af HTML\n",
    "- Inspicer HTML i browser\n",
    "- Øvelse: Inspicer HTML"
   ]
  },
  {
   "cell_type": "markdown",
   "metadata": {},
   "source": [
    "# {#Kapitel}Python og internettet"
   ]
  },
  {
   "cell_type": "markdown",
   "metadata": {},
   "source": [
    "# {#Afsnit}Requests\n",
    "\n",
    "- Send request\n",
    "- Statuskoder\n",
    "- Rå html\n",
    "\n",
    "- Øvelse: Indlæs HTML til tekst"
   ]
  },
  {
   "cell_type": "markdown",
   "metadata": {},
   "source": [
    "# {#Afsnit}API'er\n",
    "\n",
    "- Hvad er API'er?\n",
    "- Hvordan sendes en API request?\n",
    "\n",
    "- Øvelse: API request med bestemt API (Statbank og ...?)"
   ]
  },
  {
   "cell_type": "markdown",
   "metadata": {},
   "source": [
    "# {#Afsnit}Download tweets med twint i Python\n",
    "\n",
    "- Brug af Twint\n",
    "- Obs: faldgruber ved at bruge uofficielle pakker til API'er\n",
    "- Øvelse: Download test sample"
   ]
  },
  {
   "cell_type": "markdown",
   "metadata": {},
   "source": [
    "# {#Kapitel}HTML i Python"
   ]
  },
  {
   "cell_type": "markdown",
   "metadata": {},
   "source": [
    "# {#Afsnit}Selector objekter (naviger i HTML)\n",
    "\n",
    "- Selectors\n",
    "- XPATH / CSS selectors\n",
    "- Check: Hvad peger en specific CSS selector på?\n",
    "- Øvelse: Hent et specifikt tekststykke fra en hjemmeside med en CSS selector"
   ]
  },
  {
   "cell_type": "markdown",
   "metadata": {},
   "source": [
    "# {#Afsnit}Introduktion til BeautifulSoup\n",
    "\n",
    "- Hvad er beautifulsoup?\n",
    "- Mest brugbare funktioner\n",
    "- Øvelse: Brug BS til at hente bestemte tekststykker fra hjemmeside"
   ]
  },
  {
   "cell_type": "markdown",
   "metadata": {},
   "source": [
    "# {#Afsnit}Gør som din browser med Selenium\n",
    "\n",
    "- Hvad er Selenium?\n",
    "- Hvornår kan det være nødvendigt?"
   ]
  },
  {
   "cell_type": "markdown",
   "metadata": {},
   "source": [
    "# {#Kapitel}Scrapers og spiders"
   ]
  },
  {
   "cell_type": "markdown",
   "metadata": {},
   "source": [
    "# {#Afsnit}God opførsel med scrapers\n",
    "\n",
    "- timeouts\n",
    "- robots.txt (selvom det ikke altid er der)\n",
    "- TOS"
   ]
  },
  {
   "cell_type": "markdown",
   "metadata": {},
   "source": [
    "# {#Afsnit}Byg en scraper\n",
    "\n",
    "- Sæt det hele sammen\n",
    "- Scraper på flere URL's\n",
    "- Øvelse: Byg en scraper"
   ]
  },
  {
   "cell_type": "markdown",
   "metadata": {},
   "source": [
    "# {#Afsnit}Byg en spider\n",
    "\n",
    "- Hvad er en spider?\n",
    "- Eksempel med simpel spider"
   ]
  },
  {
   "cell_type": "markdown",
   "metadata": {},
   "source": [
    "# {#Kapitel}Supplerende materiale"
   ]
  },
  {
   "cell_type": "markdown",
   "metadata": {},
   "source": [
    "# {#Afsnit}Litteratur"
   ]
  },
  {
   "cell_type": "markdown",
   "metadata": {},
   "source": [
    "# {#END}"
   ]
  }
 ],
 "metadata": {
  "kernelspec": {
   "display_name": "Python 3",
   "language": "python",
   "name": "python3"
  },
  "language_info": {
   "codemirror_mode": {
    "name": "ipython",
    "version": 3
   },
   "file_extension": ".py",
   "mimetype": "text/x-python",
   "name": "python",
   "nbconvert_exporter": "python",
   "pygments_lexer": "ipython3",
   "version": "3.6.10"
  }
 },
 "nbformat": 4,
 "nbformat_minor": 4
}

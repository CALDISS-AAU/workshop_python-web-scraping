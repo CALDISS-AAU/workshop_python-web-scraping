{
 "cells": [
  {
   "cell_type": "markdown",
   "metadata": {},
   "source": [
    "## Using the Twitter API\n",
    "\n",
    "Link to API documentation: \n",
    "\n",
    "Working with the Twitter API requires an access token and API key. These are required by having an approved Twitter Developer Account (https://developer.twitter.com/). \n",
    "\n",
    "The following demonstrates how to interact with the API directly via python.\n",
    "\n",
    "Several packages facilitates the gather collection process, like `tweepy` or `Twython`.\n",
    "\n",
    "The DMI tool: TCAT (Twitter Capture Analysis Toolset) provides a convenient interface for starting data collections and provides nicely formatted tabular outputs: https://wiki.digitalmethods.net/Dmi/ToolDmiTcat.\n",
    "Using the tool, however, requires you to install it yourself."
   ]
  },
  {
   "cell_type": "markdown",
   "metadata": {},
   "source": [
    "### Access tokens and keys\n",
    "\n",
    "The Twitter API requires an approved Twitter Developer Account. Luckily the CALDISS Twitter account is an approved developer account!\n",
    "\n",
    "NOTE! The credentials used below will eventually expire."
   ]
  },
  {
   "cell_type": "code",
   "execution_count": 1,
   "metadata": {},
   "outputs": [],
   "source": [
    "from twitter import *\n",
    "access_tok = '1016604456916602880-qbRUODdjg6lTq1hHI1QIjnKr1mV7s2'\n",
    "access_sec = '5NOyyCSfAAZVt89ngm8N5SQkmagp27BHvzQOoS7tCdSAz'\n",
    "consumer_key = 'JsnYU4HCwvhYBYgYfGyAu8vuz'\n",
    "consumer_sec = 'APO97b9O800NHeichG8oKpAkc0h8VLtJJS9AFMZT63EwKw84PT'\n",
    "\n",
    "twit_con = Twitter(auth = OAuth(access_tok, access_sec, consumer_key, consumer_sec))  #Connecting to twitter"
   ]
  },
  {
   "cell_type": "markdown",
   "metadata": {},
   "source": [
    "When connection is established, we use the `twitter` package to extract tweets - for example from a specific user.\n",
    "\n",
    "The returned output is a JSON."
   ]
  },
  {
   "cell_type": "code",
   "execution_count": 6,
   "metadata": {},
   "outputs": [
    {
     "name": "stdout",
     "output_type": "stream",
     "text": [
      "{\n",
      "  \"created_at\": \"Sun Apr 07 20:20:36 +0000 2019\",\n",
      "  \"id\": 1114986352439775232,\n",
      "  \"id_str\": \"1114986352439775232\",\n",
      "  \"text\": \"Next time no assholes.\",\n",
      "  \"truncated\": false,\n",
      "  \"entities\": {\n",
      "    \"hashtags\": [],\n",
      "    \"symbols\": [],\n",
      "    \"user_mentions\": [],\n",
      "    \"urls\": []\n",
      "  },\n",
      "  \"source\": \"<a href=\\\"https://about.twitter.com/products/tweetdeck\\\" rel=\\\"nofollow\\\">TweetDeck</a>\",\n",
      "  \"in_reply_to_status_id\": null,\n",
      "  \"in_reply_to_status_id_str\": null,\n",
      "  \"in_reply_to_user_id\": null,\n",
      "  \"in_reply_to_user_id_str\": null,\n",
      "  \"in_reply_to_screen_name\": null,\n",
      "  \"user\": {\n",
      "    \"id\": 204832963,\n",
      "    \"id_str\": \"204832963\",\n",
      "    \"name\": \"God\",\n",
      "    \"screen_name\": \"TheTweetOfGod\",\n",
      "    \"location\": \"\",\n",
      "    \"description\": \"Unverified. Unverified.\",\n",
      "    \"url\": null,\n",
      "    \"entities\": {\n",
      "      \"description\": {\n",
      "        \"urls\": []\n",
      "      }\n",
      "    },\n",
      "    \"protected\": false,\n",
      "    \"followers_count\": 5792041,\n",
      "    \"friends_count\": 1,\n",
      "    \"listed_count\": 16597,\n",
      "    \"created_at\": \"Tue Oct 19 15:26:05 +0000 2010\",\n",
      "    \"favourites_count\": 114,\n",
      "    \"utc_offset\": null,\n",
      "    \"time_zone\": null,\n",
      "    \"geo_enabled\": true,\n",
      "    \"verified\": false,\n",
      "    \"statuses_count\": 10600,\n",
      "    \"lang\": \"en\",\n",
      "    \"contributors_enabled\": false,\n",
      "    \"is_translator\": false,\n",
      "    \"is_translation_enabled\": false,\n",
      "    \"profile_background_color\": \"C0DEED\",\n",
      "    \"profile_background_image_url\": \"http://abs.twimg.com/images/themes/theme1/bg.png\",\n",
      "    \"profile_background_image_url_https\": \"https://abs.twimg.com/images/themes/theme1/bg.png\",\n",
      "    \"profile_background_tile\": false,\n",
      "    \"profile_image_url\": \"http://pbs.twimg.com/profile_images/577952058680070144/6hlNZ0_Y_normal.jpeg\",\n",
      "    \"profile_image_url_https\": \"https://pbs.twimg.com/profile_images/577952058680070144/6hlNZ0_Y_normal.jpeg\",\n",
      "    \"profile_banner_url\": \"https://pbs.twimg.com/profile_banners/204832963/1455727157\",\n",
      "    \"profile_link_color\": \"89C9FA\",\n",
      "    \"profile_sidebar_border_color\": \"FFFFFF\",\n",
      "    \"profile_sidebar_fill_color\": \"DDEEF6\",\n",
      "    \"profile_text_color\": \"333333\",\n",
      "    \"profile_use_background_image\": true,\n",
      "    \"has_extended_profile\": false,\n",
      "    \"default_profile\": false,\n",
      "    \"default_profile_image\": false,\n",
      "    \"following\": false,\n",
      "    \"follow_request_sent\": false,\n",
      "    \"notifications\": false,\n",
      "    \"translator_type\": \"regular\"\n",
      "  },\n",
      "  \"geo\": null,\n",
      "  \"coordinates\": null,\n",
      "  \"place\": null,\n",
      "  \"contributors\": null,\n",
      "  \"is_quote_status\": false,\n",
      "  \"retweet_count\": 3877,\n",
      "  \"favorite_count\": 28816,\n",
      "  \"favorited\": false,\n",
      "  \"retweeted\": false,\n",
      "  \"lang\": \"en\"\n",
      "}\n"
     ]
    }
   ],
   "source": [
    "import json\n",
    "\n",
    "twit_statuses = twit_con.statuses.user_timeline(screen_name=\"thetweetofgod\", count = 10)  #  #Extracting the last 10 tweets from God\n",
    "\n",
    "twit_stat = json.loads(json.dumps(twit_statuses))\n",
    "print(json.dumps(twit_stat[1], indent = 2))"
   ]
  },
  {
   "cell_type": "markdown",
   "metadata": {},
   "source": [
    "The Twitter API returns a lot of data and metadata. We can extract just the text by subsetting the JSON."
   ]
  },
  {
   "cell_type": "code",
   "execution_count": 9,
   "metadata": {},
   "outputs": [
    {
     "name": "stdout",
     "output_type": "stream",
     "text": [
      "The idea that you evolved from apes is disgusting. \n",
      "\n",
      "Isn't it nicer to believe you all descended from one couple an… https://t.co/d9X8HvzbsL\n",
      " --- \n",
      "\n",
      "Next time no assholes.\n",
      " --- \n",
      "\n",
      "When animals work together there's nothing they can't do! https://t.co/RkyQ7zQLzz\n",
      " --- \n",
      "\n",
      "It’s a well-known fact that the world is full of stupid people, but what may surprise you is you are one of them.\n",
      " --- \n",
      "\n",
      "The biggest misconception about Me is that I give a shit.\n",
      " --- \n",
      "\n",
      "Age is just a number. A number that increases by one every year until you die.\n",
      " --- \n",
      "\n",
      "If I am not constantly told how great I am I get angry because even though I am omnipotent and omniscient I am emotionally insecure.\n",
      " --- \n",
      "\n",
      "Saving your planet and yourselves will require nothing less than a total and immediate transformation of human cons… https://t.co/h4gZwVlm4r\n",
      " --- \n",
      "\n",
      "Nope. I'm winging it. https://t.co/ot6xDCJ4n1\n",
      " --- \n",
      "\n",
      "You should not vaccinate your children unless you are absolutely sure you want them to live.\n",
      " --- \n",
      "\n"
     ]
    }
   ],
   "source": [
    "for twit in twit_stat:\n",
    "    print(twit['text'] + \"\\n --- \\n\")"
   ]
  },
  {
   "cell_type": "code",
   "execution_count": null,
   "metadata": {},
   "outputs": [],
   "source": []
  }
 ],
 "metadata": {
  "kernelspec": {
   "display_name": "Python 3",
   "language": "python",
   "name": "python3"
  },
  "language_info": {
   "codemirror_mode": {
    "name": "ipython",
    "version": 3
   },
   "file_extension": ".py",
   "mimetype": "text/x-python",
   "name": "python",
   "nbconvert_exporter": "python",
   "pygments_lexer": "ipython3",
   "version": "3.6.10"
  }
 },
 "nbformat": 4,
 "nbformat_minor": 2
}

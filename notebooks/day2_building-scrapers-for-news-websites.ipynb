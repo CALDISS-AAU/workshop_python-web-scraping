{
 "cells": [
  {
   "cell_type": "markdown",
   "metadata": {},
   "source": [
    "(opbygges efter at et scraper værktøj er udarbejdet i slutningen af workshop: trin for trin, hvad støder man på, hvordan løser man det?)\n",
    "\n",
    "## Indhold\n",
    "\n",
    "- Mål for dagen: Opbygning af scraper til Politiken(?)\n",
    "- Hvad skal scraperen kunne? (åbent spørgsmål)\n",
    "    - Finde overskrifter (evt. efter nøgleord)\n",
    "    - Hente information ned\n",
    "        - Overskrift\n",
    "        - Dato\n",
    "        - Tekst\n",
    "        - URL\n",
    "- Hent overskrifter og links til artikler fra Politiken\n",
    "    - Bonus: Søgning efter ord/fraser i tekst (regex?)\n",
    "- Hent information ned om artikel: Hvad skal den hente? (åbent spørgsmål)\n",
    "- Datastruktur til scrapet data: Dictionary\n",
    "    - Saml information om artikel i dictionary\n",
    "- Funktioner i Python: Skriv kode, der henter info ned om artikel, om til funktion\n",
    "- For loops: Gentag funktion for hvert element i en liste\n",
    "- Scrape af artikler på forsiden: Hvad skal vi være opmærksom på? (åbent spørgsmål)\n",
    "    - Ikke sende for mange henvendelser\n",
    "        - Løsning: time.sleep\n",
    "    - Request kan slå fejl mellem kørsler\n",
    "        - Løsning: try-except, if-betingelser og statuskoder\n",
    "- Skriv kode, der henter overskrifter og links om til funktion\n",
    "- Ny kørsel: Hvilke problemer/udfordringer? (åbent spørgsmål)\n",
    "    - Ikke sende for mange henvendelser\n",
    "    - Ikke hente artikler, der allerede er hentet\n",
    "- Lagring\n",
    "    - Dataformat: JSON\n",
    "- Logging"
   ]
  }
 ],
 "metadata": {
  "kernelspec": {
   "display_name": "Python 3",
   "language": "python",
   "name": "python3"
  },
  "language_info": {
   "codemirror_mode": {
    "name": "ipython",
    "version": 3
   },
   "file_extension": ".py",
   "mimetype": "text/x-python",
   "name": "python",
   "nbconvert_exporter": "python",
   "pygments_lexer": "ipython3",
   "version": "3.7.9"
  }
 },
 "nbformat": 4,
 "nbformat_minor": 4
}

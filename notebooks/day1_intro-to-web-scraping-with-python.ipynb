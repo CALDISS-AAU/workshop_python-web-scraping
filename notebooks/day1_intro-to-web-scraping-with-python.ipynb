{
 "cells": [
  {
   "cell_type": "markdown",
   "metadata": {},
   "source": [
    "# Introduktion til web scraping med Python\n",
    "\n",
    "## Indhold\n",
    "\n",
    "- Hvad er web scraping?\n",
    "    - Relevansen af web scraping\n",
    "- Introduktion til internettet\n",
    "    - Internettet og \"webbet\" (kort fortalt)\n",
    "    - Hvordan virker internettet? (kort fortalt)\n",
    "    - Hvad består hjemmesider af? (HTML)\n",
    "- \"Legaliteten\" af web scraping\n",
    "    - Web scraping og copyright\n",
    "    - Web scraping og persondata\n",
    "    - Web scraping og \"hacking\"\n",
    "- Eksempel på web scraping med Python (mål for dagen)\n",
    "- Kort introduktion til Python\n",
    "    - Python sproget i Jupyter Notebook\n",
    "    - Variable i Python\n",
    "    - Pakker og Python funktionalitet\n",
    "- Python og internettet\n",
    "    - Internettet gennem Python (requests)\n",
    "    - Klasser og attributter (response object)\n",
    "- Naviger i HTML med Python\n",
    "    - Kort introuktion til HTML\n",
    "    - Intro til BeautifulSoup\n",
    "    - Soup-klassen\n",
    "    - Find HTML gennem tags og attributter\n",
    "    - Python lister (find_all)\n",
    "    - Naviger i HTML strukturen\n",
    "- Øvelse: Hent overskrifter fra nyheder.tv2.dk"
   ]
  },
  {
   "cell_type": "markdown",
   "metadata": {},
   "source": [
    "## Hvad er web scraping?\n",
    "\n",
    "### Hvorfor er web scraping relevant? (for samfundsvidenskab)"
   ]
  },
  {
   "cell_type": "markdown",
   "metadata": {},
   "source": [
    "## Introduktion til internettet\n",
    "\n",
    "### Internettet og \"webbet\" (kort fortalt)\n",
    "\n",
    "### Hvordan virker internettet? (kort fortalt)\n",
    "\n",
    "### Hvad består hjemmesider af? \n",
    "\n",
    "- Kildekode (rå og \"rendered\")\n",
    "- Mediefiler (billeder, videoer, osv.)\n",
    "- Dynamisk indhold (fx JavaScript, Ajax)\n",
    "- Indhold fra andre hjemmesider"
   ]
  },
  {
   "cell_type": "markdown",
   "metadata": {},
   "source": [
    "## \"Legaliteten\" af web scraping\n",
    "\n",
    "### Web scraping og copyright\n",
    "\n",
    "### Web scraping og persondata\n",
    "\n",
    "### Web scraping og \"hacking\""
   ]
  },
  {
   "cell_type": "markdown",
   "metadata": {},
   "source": [
    "## Eksempel på web scraping med Python\n",
    "\n",
    "(kodestump, som de selv kan køre, der henter og evt. visualiserer nøgleord fra overskrifter)"
   ]
  },
  {
   "cell_type": "markdown",
   "metadata": {},
   "source": [
    "## Kort introduktion til Python\n",
    "\n",
    "### Python sproget i Jupyter Notebook\n",
    "\n",
    "### Variable i Python\n",
    "\n",
    "### Pakker og Python funktionalitet"
   ]
  },
  {
   "cell_type": "markdown",
   "metadata": {},
   "source": [
    "## Naviger i HTML med Python\n",
    "\n",
    "### Kort introduktion til HTML\n",
    "\n",
    "### Introduktion til pakken `BeautifulSoup`\n",
    "\n",
    "### Brug af soup-klassen\n",
    "\n",
    "### Find HTML gennem tags og attributter\n",
    "\n",
    "#### Python lister\n",
    "\n",
    "### Naviger i HTML strukturen"
   ]
  },
  {
   "cell_type": "markdown",
   "metadata": {},
   "source": [
    "## Øvelse: Overskrifter fra nyheder.tv2.dk"
   ]
  }
 ],
 "metadata": {
  "kernelspec": {
   "display_name": "Python 3",
   "language": "python",
   "name": "python3"
  },
  "language_info": {
   "codemirror_mode": {
    "name": "ipython",
    "version": 3
   },
   "file_extension": ".py",
   "mimetype": "text/x-python",
   "name": "python",
   "nbconvert_exporter": "python",
   "pygments_lexer": "ipython3",
   "version": "3.7.9"
  }
 },
 "nbformat": 4,
 "nbformat_minor": 4
}

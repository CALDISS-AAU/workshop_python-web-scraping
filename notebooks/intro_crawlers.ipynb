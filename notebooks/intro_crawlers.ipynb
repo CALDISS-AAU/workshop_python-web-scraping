{
 "cells": [
  {
   "cell_type": "markdown",
   "metadata": {},
   "source": [
    "# Introduction to crawlers/spiders in Python\n",
    "\n",
    "This notebook contains a short introduction to working with crawlers/spiders with `Scrapy`:\n",
    "\n",
    "- What are crawlers/spiders?\n",
    "- Defining functions in Python\n",
    "- What is a \"class\" in Python?\n",
    "- Building a simple crawler using `Scrapy`"
   ]
  },
  {
   "cell_type": "markdown",
   "metadata": {},
   "source": [
    "## What are crawlers/spiders?\n",
    "\n",
    "Where \"web scraping\" refers to (mostly) automated collections of data and material from websites, crawlers and spiders are bots/programs specifically developed to traverse several websites and performing some scraping tasks.\n",
    "\n",
    "If we are interested in scraping the content of several websites without knowing the exact URLs of those websites, a crawler can be used to go from site to site and perform the necessary web scraping task.\n",
    "\n",
    "Developing crawlers can be especially tricky if they have to traverse several domains. This is because the web is connected in such a way where a few sites are dominant and are linked to across most websites (just think of how often you see links to Google, Twitter, Facebook etc. on a website). Imagining the web as an ocean with layers like the figure below, a crawler will always move towards the surface because the websites located there are referenced so often.\n",
    "\n",
    "Obviously we want to avoid the surface with a crawler, as it will then end up trying to crawl the entire web.\n",
    "\n",
    "![websea](./img/web_sea.png)\n",
    "\n",
    "*Source unknown*"
   ]
  },
  {
   "cell_type": "markdown",
   "metadata": {},
   "source": [
    "### Constructing a crawler\n",
    "\n",
    "The following should be considered when constructing a crawler:\n",
    "- Where should the crawler start?\n",
    "- What sites are of interest?\n",
    "- What scraping task should the crawler do?\n",
    "- How should the crawler be limited?\n",
    "\n",
    "In Python, the best way of constructing a crawler is to use relevant data structures to define the starting points and possible sites to avoid. The scraping tasks can be defined as function to be integrated in the crawler."
   ]
  },
  {
   "cell_type": "markdown",
   "metadata": {},
   "source": [
    "## Functions in Python\n",
    "\n",
    "It is easy to define your own functions in Python. When working with crawlers, it makes sense to think of the scraping tasks to be performed as functions to be integrated.\n",
    "\n",
    "The syntax for defining a function is as follow:\n",
    "\n",
    "```{python}\n",
    "def my_function(x):\n",
    "    result = x + 2\n",
    "    return(result)\n",
    "```\n",
    "\n",
    "- `def` is used to define functions. \n",
    "- `my_function` is the name of the function. Make sure not to overwrite existing functions.\n",
    "- The `x` in parenthesis is the input argument. A function takes from 0 to any number of arguments separated by comma.\n",
    "- The indented lines following `:` are the commands for the function.\n",
    "- `result` is a variable created inside the function. It only exists inside the function. `x` refers to the input argument `x`.\n",
    "- `return` is used to specify the output of the function. Note: Commands following a return line in the function are ignored. "
   ]
  },
  {
   "cell_type": "code",
   "execution_count": 1,
   "metadata": {},
   "outputs": [],
   "source": [
    "def my_function(x):\n",
    "    result = x + 2\n",
    "    return(result)"
   ]
  },
  {
   "cell_type": "markdown",
   "metadata": {},
   "source": [
    "Notice that running the cell above returns nothing. We have simply defined a function which in itself does not have an output.\n",
    "\n",
    "The function is now available to use:"
   ]
  },
  {
   "cell_type": "code",
   "execution_count": 2,
   "metadata": {},
   "outputs": [
    {
     "data": {
      "text/plain": [
       "5"
      ]
     },
     "execution_count": 2,
     "metadata": {},
     "output_type": "execute_result"
    }
   ],
   "source": [
    "my_function(3)"
   ]
  },
  {
   "cell_type": "markdown",
   "metadata": {},
   "source": [
    "The function adds 2 to the input argument (in this case `2`) and returns it (stored inside the function as `result`).\n",
    "\n",
    "Notice that `result` does not exist outside the function:"
   ]
  },
  {
   "cell_type": "code",
   "execution_count": 3,
   "metadata": {},
   "outputs": [
    {
     "ename": "NameError",
     "evalue": "name 'result' is not defined",
     "output_type": "error",
     "traceback": [
      "\u001b[1;31m---------------------------------------------------------------------------\u001b[0m",
      "\u001b[1;31mNameError\u001b[0m                                 Traceback (most recent call last)",
      "\u001b[1;32m<ipython-input-3-6459d04d738f>\u001b[0m in \u001b[0;36m<module>\u001b[1;34m()\u001b[0m\n\u001b[1;32m----> 1\u001b[1;33m \u001b[0mprint\u001b[0m\u001b[1;33m(\u001b[0m\u001b[0mresult\u001b[0m\u001b[1;33m)\u001b[0m\u001b[1;33m\u001b[0m\u001b[1;33m\u001b[0m\u001b[0m\n\u001b[0m",
      "\u001b[1;31mNameError\u001b[0m: name 'result' is not defined"
     ]
    }
   ],
   "source": [
    "print(result)"
   ]
  },
  {
   "cell_type": "markdown",
   "metadata": {},
   "source": [
    "**The return statement**\n",
    "\n",
    "If the function is meant to have an output, the return statement is used to specify what to be returned.\n",
    "\n",
    "Any lines following a return statement in a function is ignored:"
   ]
  },
  {
   "cell_type": "code",
   "execution_count": 4,
   "metadata": {},
   "outputs": [
    {
     "name": "stdout",
     "output_type": "stream",
     "text": [
      "You see me!\n"
     ]
    }
   ],
   "source": [
    "def a_function():\n",
    "\n",
    "    print(\"You see me!\")\n",
    "    \n",
    "    return\n",
    "    \n",
    "    print(\"But you don't see me!\")\n",
    "    \n",
    "a_function()"
   ]
  },
  {
   "cell_type": "markdown",
   "metadata": {},
   "source": [
    "### Error handling\n",
    "\n",
    "A integral part of Python programming is the ability to handle errors in the programming. \n",
    "\n",
    "In most data analysis tasks, we have little use for error handling. However, when working crawlers we are writing commands that have to be able to process information that we do not know before-hand. Error-handling can therefore be necessary to ensure that the crawler not just terminated when encountering an error.\n",
    "\n",
    "When we provide a function with an input that it is not able to handle, it will return an error:"
   ]
  },
  {
   "cell_type": "code",
   "execution_count": 5,
   "metadata": {},
   "outputs": [
    {
     "ename": "TypeError",
     "evalue": "can only concatenate str (not \"int\") to str",
     "output_type": "error",
     "traceback": [
      "\u001b[1;31m---------------------------------------------------------------------------\u001b[0m",
      "\u001b[1;31mTypeError\u001b[0m                                 Traceback (most recent call last)",
      "\u001b[1;32m<ipython-input-5-7bbfd0f8d480>\u001b[0m in \u001b[0;36m<module>\u001b[1;34m()\u001b[0m\n\u001b[1;32m----> 1\u001b[1;33m \u001b[0mmy_function\u001b[0m\u001b[1;33m(\u001b[0m\u001b[1;34m\"hello\"\u001b[0m\u001b[1;33m)\u001b[0m\u001b[1;33m\u001b[0m\u001b[1;33m\u001b[0m\u001b[0m\n\u001b[0m",
      "\u001b[1;32m<ipython-input-1-0703a96d1b27>\u001b[0m in \u001b[0;36mmy_function\u001b[1;34m(x)\u001b[0m\n\u001b[0;32m      1\u001b[0m \u001b[1;32mdef\u001b[0m \u001b[0mmy_function\u001b[0m\u001b[1;33m(\u001b[0m\u001b[0mx\u001b[0m\u001b[1;33m)\u001b[0m\u001b[1;33m:\u001b[0m\u001b[1;33m\u001b[0m\u001b[1;33m\u001b[0m\u001b[0m\n\u001b[1;32m----> 2\u001b[1;33m     \u001b[0mresult\u001b[0m \u001b[1;33m=\u001b[0m \u001b[0mx\u001b[0m \u001b[1;33m+\u001b[0m \u001b[1;36m2\u001b[0m\u001b[1;33m\u001b[0m\u001b[1;33m\u001b[0m\u001b[0m\n\u001b[0m\u001b[0;32m      3\u001b[0m     \u001b[1;32mreturn\u001b[0m\u001b[1;33m(\u001b[0m\u001b[0mresult\u001b[0m\u001b[1;33m)\u001b[0m\u001b[1;33m\u001b[0m\u001b[1;33m\u001b[0m\u001b[0m\n",
      "\u001b[1;31mTypeError\u001b[0m: can only concatenate str (not \"int\") to str"
     ]
    }
   ],
   "source": [
    "my_function(\"hello\")"
   ]
  },
  {
   "cell_type": "markdown",
   "metadata": {},
   "source": [
    "Because the function performs addition on the input argument, Python returns an error because it cannot perform addition on text.\n",
    "\n",
    "In a crawler setting, the errors we could encounter could also be related to datatypes or trying to access attributs in HTML code that are not present.\n",
    "\n",
    "There are two main ways of including error handling:\n",
    "1. Using if-else statements\n",
    "2. Using try-except statements\n",
    "\n",
    "#### Using if-else statements as error handling\n",
    "\n",
    "if-else is simply used to write commands that should only be run when certain conditions are met:"
   ]
  },
  {
   "cell_type": "code",
   "execution_count": 6,
   "metadata": {},
   "outputs": [],
   "source": [
    "def if_function(x):\n",
    "    if x > 2:\n",
    "        return(\"Above 2!\")\n",
    "    else:\n",
    "        return(\"Not above 2!\")"
   ]
  },
  {
   "cell_type": "code",
   "execution_count": 7,
   "metadata": {},
   "outputs": [
    {
     "data": {
      "text/plain": [
       "'Not above 2!'"
      ]
     },
     "execution_count": 7,
     "metadata": {},
     "output_type": "execute_result"
    }
   ],
   "source": [
    "if_function(1)"
   ]
  },
  {
   "cell_type": "markdown",
   "metadata": {},
   "source": [
    "If-else can be used to check the length of a data structure (number of elements), whether a certain attribute or tag is present and so on."
   ]
  },
  {
   "cell_type": "markdown",
   "metadata": {},
   "source": [
    "#### Using try-except as error handling\n",
    "\n",
    "Sometimes we may not know the specific conditions that have to be met to avoid the error but we instead know what errors could occur.\n",
    "try-except allows one to write commands that accounts for specific errors. \n",
    "\n",
    "The logic is as follows:\n",
    "\n",
    "- *try* to do something.\n",
    "- *except* if you encounter this error. Do something else.\n",
    "\n",
    "Below `my_function` is redefined to account for Type Errors:"
   ]
  },
  {
   "cell_type": "code",
   "execution_count": 8,
   "metadata": {},
   "outputs": [],
   "source": [
    "import numpy as np\n",
    "\n",
    "def my_function(x):\n",
    "    try:\n",
    "        result = x + 2\n",
    "    except TypeError:\n",
    "        result = np.nan\n",
    "        \n",
    "    return(result)"
   ]
  },
  {
   "cell_type": "code",
   "execution_count": 9,
   "metadata": {},
   "outputs": [
    {
     "data": {
      "text/plain": [
       "nan"
      ]
     },
     "execution_count": 9,
     "metadata": {},
     "output_type": "execute_result"
    }
   ],
   "source": [
    "my_function(\"hello\")"
   ]
  },
  {
   "cell_type": "markdown",
   "metadata": {},
   "source": [
    "The function now no longer throws an error but instead returns a missing value (`np.nan`) when encountering a TypeError."
   ]
  },
  {
   "cell_type": "markdown",
   "metadata": {},
   "source": [
    "#### Except all errors (beware)\n",
    "\n",
    "try-except statements do not need a specified error to work. It is possible to just except all errors:"
   ]
  },
  {
   "cell_type": "code",
   "execution_count": 10,
   "metadata": {},
   "outputs": [],
   "source": [
    "def my_function(x):\n",
    "    try:\n",
    "        result = x + 2\n",
    "    except:\n",
    "        result = np.nan\n",
    "        \n",
    "    return(result)"
   ]
  },
  {
   "cell_type": "code",
   "execution_count": 11,
   "metadata": {},
   "outputs": [
    {
     "data": {
      "text/plain": [
       "nan"
      ]
     },
     "execution_count": 11,
     "metadata": {},
     "output_type": "execute_result"
    }
   ],
   "source": [
    "my_function(\"hello\")"
   ]
  },
  {
   "cell_type": "markdown",
   "metadata": {},
   "source": [
    "As a rule this practiced is highly discouraged as you run the risk of completely overlooking glaring errors in your code:"
   ]
  },
  {
   "cell_type": "code",
   "execution_count": 12,
   "metadata": {},
   "outputs": [],
   "source": [
    "def my_function(y):\n",
    "    try:\n",
    "        result = x + 2\n",
    "    except:\n",
    "        result = np.nan\n",
    "        \n",
    "    return(result)"
   ]
  },
  {
   "cell_type": "code",
   "execution_count": 13,
   "metadata": {},
   "outputs": [
    {
     "data": {
      "text/plain": [
       "nan"
      ]
     },
     "execution_count": 13,
     "metadata": {},
     "output_type": "execute_result"
    }
   ],
   "source": [
    "my_function(5)"
   ]
  },
  {
   "cell_type": "markdown",
   "metadata": {},
   "source": [
    "In the function above, there is a mis-match between the input argument and the variable used in the function. Usually Python will throw a `NameError` when running a function like this but this error is captured by the `except` statement (as it captures all errors)."
   ]
  },
  {
   "cell_type": "markdown",
   "metadata": {},
   "source": [
    "## Classes in Python\n",
    "\n",
    "Everything in Python is essentially a class. The class determines what is possible with a specific object and what the object can contain.\n",
    "\n",
    "Classes consists (mainly) of three components:\n",
    "- The content of the class itself\n",
    "- Attributes stored within the class\n",
    "- Methods callable with the class\n",
    "\n",
    "A `pandas Series` is fx a class:"
   ]
  },
  {
   "cell_type": "code",
   "execution_count": 14,
   "metadata": {},
   "outputs": [
    {
     "data": {
      "text/plain": [
       "pandas.core.series.Series"
      ]
     },
     "execution_count": 14,
     "metadata": {},
     "output_type": "execute_result"
    }
   ],
   "source": [
    "import pandas as pd\n",
    "\n",
    "a_series = pd.Series([1,4,6,8])\n",
    "type(a_series)"
   ]
  },
  {
   "cell_type": "markdown",
   "metadata": {},
   "source": [
    "### Attributes\n",
    "\n",
    "Attributes in a class are accessed using `.` followed by the attribute.\n",
    "\n",
    "Pandas series contain the attribute `size` returning the number of element."
   ]
  },
  {
   "cell_type": "code",
   "execution_count": 15,
   "metadata": {},
   "outputs": [
    {
     "data": {
      "text/plain": [
       "4"
      ]
     },
     "execution_count": 15,
     "metadata": {},
     "output_type": "execute_result"
    }
   ],
   "source": [
    "a_series.size"
   ]
  },
  {
   "cell_type": "markdown",
   "metadata": {},
   "source": [
    "Because the `size` attribute is specific to the pandas series is class, it is fx not callable from a list:"
   ]
  },
  {
   "cell_type": "code",
   "execution_count": 16,
   "metadata": {},
   "outputs": [
    {
     "ename": "AttributeError",
     "evalue": "'list' object has no attribute 'size'",
     "output_type": "error",
     "traceback": [
      "\u001b[1;31m---------------------------------------------------------------------------\u001b[0m",
      "\u001b[1;31mAttributeError\u001b[0m                            Traceback (most recent call last)",
      "\u001b[1;32m<ipython-input-16-905c557c3612>\u001b[0m in \u001b[0;36m<module>\u001b[1;34m()\u001b[0m\n\u001b[0;32m      1\u001b[0m \u001b[0ma_list\u001b[0m \u001b[1;33m=\u001b[0m \u001b[1;33m[\u001b[0m\u001b[1;36m1\u001b[0m\u001b[1;33m,\u001b[0m\u001b[1;36m4\u001b[0m\u001b[1;33m,\u001b[0m\u001b[1;36m6\u001b[0m\u001b[1;33m,\u001b[0m\u001b[1;36m8\u001b[0m\u001b[1;33m]\u001b[0m\u001b[1;33m\u001b[0m\u001b[1;33m\u001b[0m\u001b[0m\n\u001b[1;32m----> 2\u001b[1;33m \u001b[0ma_list\u001b[0m\u001b[1;33m.\u001b[0m\u001b[0msize\u001b[0m\u001b[1;33m\u001b[0m\u001b[1;33m\u001b[0m\u001b[0m\n\u001b[0m",
      "\u001b[1;31mAttributeError\u001b[0m: 'list' object has no attribute 'size'"
     ]
    }
   ],
   "source": [
    "a_list = [1,4,6,8]\n",
    "a_list.size"
   ]
  },
  {
   "cell_type": "markdown",
   "metadata": {},
   "source": [
    "### Methods\n",
    "\n",
    "Methods in a class are accessed using `.` followed by the name of the metod, followed by parenthesis. \n",
    "\n",
    "Methods are similar to functions in that some may accept input arguments (additional to the one given from the class). These are specified in the parenthesis.\n",
    "\n",
    "Pandas series contain the method `mean()` to calculate the mean. This method is specific to pandas series and is also not callable from a list:"
   ]
  },
  {
   "cell_type": "code",
   "execution_count": null,
   "metadata": {},
   "outputs": [],
   "source": [
    "a_series.mean()"
   ]
  },
  {
   "cell_type": "code",
   "execution_count": null,
   "metadata": {},
   "outputs": [],
   "source": [
    "a_list.mean()"
   ]
  },
  {
   "cell_type": "markdown",
   "metadata": {},
   "source": [
    "### Constructing a class\n",
    "\n",
    "It is possible to specify your own class is python. This allows one to combine functions and data to *one* specific object.\n",
    "\n",
    "Classes are simply constructed using `class` followed by a name for the class and `:`. \n",
    "\n",
    "The indented lines specify what the class should contain.\n",
    "\n",
    "- Attributes are simply created by specifying a variable to include in the class\n",
    "- Methods are created by specifying a function in the class. Notice that methods always need the class itself as an argument (`self`)"
   ]
  },
  {
   "cell_type": "code",
   "execution_count": 17,
   "metadata": {},
   "outputs": [],
   "source": [
    "class my_class:\n",
    "    number = 5\n",
    "    \n",
    "    def say_hello(self):\n",
    "        print(\"Hello!\")"
   ]
  },
  {
   "cell_type": "markdown",
   "metadata": {},
   "source": [
    "The class is now defined. To use it, it has to be assigned:"
   ]
  },
  {
   "cell_type": "code",
   "execution_count": 18,
   "metadata": {},
   "outputs": [],
   "source": [
    "a_class = my_class()"
   ]
  },
  {
   "cell_type": "markdown",
   "metadata": {},
   "source": [
    "`a_class` is now an instance of `my_class` with the attributes and methods available:"
   ]
  },
  {
   "cell_type": "code",
   "execution_count": 19,
   "metadata": {},
   "outputs": [
    {
     "data": {
      "text/plain": [
       "5"
      ]
     },
     "execution_count": 19,
     "metadata": {},
     "output_type": "execute_result"
    }
   ],
   "source": [
    "a_class.number"
   ]
  },
  {
   "cell_type": "code",
   "execution_count": 20,
   "metadata": {},
   "outputs": [
    {
     "name": "stdout",
     "output_type": "stream",
     "text": [
      "Hello!\n"
     ]
    }
   ],
   "source": [
    "a_class.say_hello()"
   ]
  },
  {
   "cell_type": "markdown",
   "metadata": {},
   "source": [
    "#### Input in a class\n",
    "\n",
    "To specify input for a class, it needs a \"constructor\". This is done by specifying a function named `__init__`. This function specifies the required arguments and what to do when the class is initiated.\n",
    "\n",
    "Below we are creating a custom list with a mean function:"
   ]
  },
  {
   "cell_type": "code",
   "execution_count": 21,
   "metadata": {},
   "outputs": [],
   "source": [
    "total = 0\n",
    "for i in a_list:\n",
    "    total = total + i\n",
    "    mean = total/len(a_list)\n",
    "\n",
    "    "
   ]
  },
  {
   "cell_type": "code",
   "execution_count": 22,
   "metadata": {},
   "outputs": [],
   "source": [
    "class numbers_list:\n",
    "    def __init__(self, numbers):\n",
    "        self.data = numbers\n",
    "    def mean(self):\n",
    "        total = 0\n",
    "        for number in self.data:\n",
    "            total = total + number\n",
    "        mean = total/len(self.data)\n",
    "        return(mean)        "
   ]
  },
  {
   "cell_type": "code",
   "execution_count": 23,
   "metadata": {},
   "outputs": [],
   "source": [
    "my_list = numbers_list([2,5,6,7])"
   ]
  },
  {
   "cell_type": "code",
   "execution_count": 24,
   "metadata": {},
   "outputs": [
    {
     "data": {
      "text/plain": [
       "[2, 5, 6, 7]"
      ]
     },
     "execution_count": 24,
     "metadata": {},
     "output_type": "execute_result"
    }
   ],
   "source": [
    "my_list.data"
   ]
  },
  {
   "cell_type": "code",
   "execution_count": 25,
   "metadata": {},
   "outputs": [
    {
     "data": {
      "text/plain": [
       "5.0"
      ]
     },
     "execution_count": 25,
     "metadata": {},
     "output_type": "execute_result"
    }
   ],
   "source": [
    "my_list.mean()"
   ]
  },
  {
   "cell_type": "markdown",
   "metadata": {},
   "source": [
    "## Building a scraper (using `Scrapy`)\n",
    "\n",
    "The package [`scrapy`](https://docs.scrapy.org/en/latest/) is used for various web scraping purposes. \n",
    "\n",
    "One major challenge when crawling is the massive amount of request-handling needed to crawl across various site (the crawler has to keep sending new requests and not just stop if it encounters a timeout). Another thing to be aware of is crawler-restrictions on the page (`robots.txt`) and avoiding sending too many requests to a server too quickly.\n",
    "\n",
    "Luckily `scrapy` has a lot of existibng functions and classes that are created to account for common problems in scraping. Using scrapy, one can focus on the actual scraping tasks that needs to be performed.\n",
    "\n",
    "Here is a boiled down version of how to create a simple scraper using `scrapy`:\n",
    "- Create a crawler-class that is adapted from the base class `scrapy.Spider` (fx `my_crawler`)\n",
    "    - Name the spider by creating a `name` attribute (this is used to call it later)\n",
    "    - Specify the URLs to scrape in a `start_urls` attribute\n",
    "    - (Optional) Specify how the scraper should initially process the URLs in `start_urls` (by default, it sends a GET request for each and returns a response object)\n",
    "    - Specify how each response from the requests send should be processed by defining a `parse` function\n",
    "- Create a data structure for the scraped info to be stored in\n",
    "- Call the `CrawlerProcess()` from `scrapy`: `process = CrawlerProcess()`\n",
    "- Define what crawler the `CrawlerProcess()` should use: `process.crawl(my_crawler)`\n",
    "- Start the crawling: `process.start()`\n",
    "\n",
    "**NOTE ON RESTARTING CRAWLERS**\n",
    "\n",
    "A spacy crawler can only be run once in a given notebook instance. To restart the crawler, you have to restart the kernel of the notebook as well."
   ]
  },
  {
   "cell_type": "code",
   "execution_count": 26,
   "metadata": {},
   "outputs": [],
   "source": [
    "import requests\n",
    "import scrapy\n",
    "from scrapy.crawler import CrawlerProcess\n",
    "from urllib.parse import urljoin\n",
    "from bs4 import BeautifulSoup as bs"
   ]
  },
  {
   "cell_type": "code",
   "execution_count": null,
   "metadata": {},
   "outputs": [],
   "source": [
    "class eu_crawler(scrapy.Spider):\n",
    "    name = \"eu_crawler\"\n",
    "    main_url = 'https://ec.europa.eu/clima/news-your-voice/news_en'\n",
    "    start_urls = ['https://ec.europa.eu/clima/news-your-voice/news_en']\n",
    "    \n",
    "    def parse(self, response):\n",
    "        soup = bs(response.text, \"html.parser\") # Notice that HTML content is refered to as .text in a scrapy response\n",
    "        \n",
    "        article_rows_soup = soup.find_all(\"div\", class_ = \"ecl-content-item-block__item\")\n",
    "        \n",
    "        for row in article_rows_soup:\n",
    "            article_dict = {}\n",
    "\n",
    "            article_title_soup = row.find(\"div\", class_ = \"ecl-content-item__title\").find(\"a\")\n",
    "            article_title = article_title_soup.get_text()\n",
    "            article_link = article_title_soup['href']\n",
    "\n",
    "            article_dict['title'] = article_title\n",
    "            article_dict['link'] = article_link\n",
    "\n",
    "            article_list.append(article_dict)\n",
    "        \n",
    "        try:\n",
    "            next_page_url = urljoin(self.main_url, soup.find(\"a\", attrs = {'aria-label': \"Go to next page\"})['href'])\n",
    "        except:\n",
    "            next_page_url = None\n",
    "            \n",
    "        if next_page_url is not None:\n",
    "            yield scrapy.Request(url = next_page_url, callback=self.parse)\n",
    "\n",
    "article_list = []\n",
    "process = CrawlerProcess(\n",
    "    {'USER_AGENT': 'Mozilla/5.0'}\n",
    ")\n",
    "process.crawl(eu_crawler)\n",
    "process.start()"
   ]
  }
 ],
 "metadata": {
  "kernelspec": {
   "display_name": "Python 3",
   "language": "python",
   "name": "python3"
  },
  "language_info": {
   "codemirror_mode": {
    "name": "ipython",
    "version": 3
   },
   "file_extension": ".py",
   "mimetype": "text/x-python",
   "name": "python",
   "nbconvert_exporter": "python",
   "pygments_lexer": "ipython3",
   "version": "3.7.9"
  }
 },
 "nbformat": 4,
 "nbformat_minor": 4
}
